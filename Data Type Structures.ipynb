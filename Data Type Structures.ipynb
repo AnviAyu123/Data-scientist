{
 "cells": [
  {
   "cell_type": "markdown",
   "id": "bce46a2d",
   "metadata": {},
   "source": [
    "# DATA TYPE / STRUCTURES"
   ]
  },
  {
   "cell_type": "markdown",
   "id": "e085de22",
   "metadata": {},
   "source": [
    "  * Numbers\n",
    "  * String\n",
    "  * List\n",
    "  * Tuple\n",
    "  * Set\n",
    "  * Dictionary"
   ]
  },
  {
   "cell_type": "markdown",
   "id": "62233f4a",
   "metadata": {},
   "source": [
    "*  #   Numbers"
   ]
  },
  {
   "cell_type": "markdown",
   "id": "29f270bc",
   "metadata": {},
   "source": [
    "###  Integers (int)"
   ]
  },
  {
   "cell_type": "code",
   "execution_count": 1,
   "id": "dffa1dcb",
   "metadata": {},
   "outputs": [],
   "source": [
    "# variable and data assigment\n",
    "# a = variable\n",
    "# 20 = Data\n",
    "\n",
    "\n",
    "a = 20"
   ]
  },
  {
   "cell_type": "code",
   "execution_count": 2,
   "id": "4b894891",
   "metadata": {},
   "outputs": [
    {
     "data": {
      "text/plain": [
       "20"
      ]
     },
     "execution_count": 2,
     "metadata": {},
     "output_type": "execute_result"
    }
   ],
   "source": [
    "a"
   ]
  },
  {
   "cell_type": "code",
   "execution_count": 3,
   "id": "7702a4a3",
   "metadata": {},
   "outputs": [
    {
     "name": "stdout",
     "output_type": "stream",
     "text": [
      "20\n"
     ]
    }
   ],
   "source": [
    "print(a)"
   ]
  },
  {
   "cell_type": "markdown",
   "id": "9659248a",
   "metadata": {},
   "source": [
    "#####  How to check data type"
   ]
  },
  {
   "cell_type": "code",
   "execution_count": 4,
   "id": "a54f8aaa",
   "metadata": {},
   "outputs": [
    {
     "data": {
      "text/plain": [
       "int"
      ]
     },
     "execution_count": 4,
     "metadata": {},
     "output_type": "execute_result"
    }
   ],
   "source": [
    "type (a)"
   ]
  },
  {
   "cell_type": "markdown",
   "id": "6c7f77d3",
   "metadata": {},
   "source": [
    "######  Float"
   ]
  },
  {
   "cell_type": "code",
   "execution_count": 5,
   "id": "36f72d47",
   "metadata": {},
   "outputs": [
    {
     "name": "stdout",
     "output_type": "stream",
     "text": [
      "20.0\n"
     ]
    },
    {
     "data": {
      "text/plain": [
       "float"
      ]
     },
     "execution_count": 5,
     "metadata": {},
     "output_type": "execute_result"
    }
   ],
   "source": [
    "# You can assign print and check dat type in the same cell.\n",
    "b = 20.0\n",
    "\n",
    "print(b)\n",
    "\n",
    "type (b)"
   ]
  },
  {
   "cell_type": "markdown",
   "id": "895ada1a",
   "metadata": {},
   "source": [
    " ##### Lets do couple mathematical operations"
   ]
  },
  {
   "cell_type": "code",
   "execution_count": 6,
   "id": "d3c0325a",
   "metadata": {},
   "outputs": [
    {
     "name": "stdout",
     "output_type": "stream",
     "text": [
      "30\n"
     ]
    }
   ],
   "source": [
    "a = 10\n",
    "b = 20\n",
    "print(a+b)"
   ]
  },
  {
   "cell_type": "code",
   "execution_count": 7,
   "id": "622ef798",
   "metadata": {},
   "outputs": [
    {
     "name": "stdout",
     "output_type": "stream",
     "text": [
      "100\n"
     ]
    }
   ],
   "source": [
    "c = b - a\n",
    "print (c * 10)"
   ]
  },
  {
   "cell_type": "markdown",
   "id": "13319320",
   "metadata": {},
   "source": [
    "#### Complex"
   ]
  },
  {
   "cell_type": "code",
   "execution_count": 9,
   "id": "26addcc6",
   "metadata": {},
   "outputs": [
    {
     "data": {
      "text/plain": [
       "complex"
      ]
     },
     "execution_count": 9,
     "metadata": {},
     "output_type": "execute_result"
    }
   ],
   "source": [
    "c = 2 + 5j\n",
    "type(c)"
   ]
  },
  {
   "cell_type": "markdown",
   "id": "79ad1b6f",
   "metadata": {},
   "source": [
    "#### String (Text)"
   ]
  },
  {
   "cell_type": "code",
   "execution_count": 10,
   "id": "f218816e",
   "metadata": {},
   "outputs": [
    {
     "name": "stdout",
     "output_type": "stream",
     "text": [
      "Hello World!\n"
     ]
    }
   ],
   "source": [
    "print (\"Hello World!\")"
   ]
  },
  {
   "cell_type": "code",
   "execution_count": 11,
   "id": "2450fa8b",
   "metadata": {},
   "outputs": [],
   "source": [
    "first_string = \"Anvi \"\n",
    "second_string = \"is a \"\n",
    "third_string = \"good girl.\""
   ]
  },
  {
   "cell_type": "code",
   "execution_count": 12,
   "id": "6b214df7",
   "metadata": {},
   "outputs": [
    {
     "data": {
      "text/plain": [
       "str"
      ]
     },
     "execution_count": 12,
     "metadata": {},
     "output_type": "execute_result"
    }
   ],
   "source": [
    "type(first_string)"
   ]
  },
  {
   "cell_type": "code",
   "execution_count": 13,
   "id": "7632d6e6",
   "metadata": {},
   "outputs": [
    {
     "name": "stdout",
     "output_type": "stream",
     "text": [
      "Anvi is a good girl.\n"
     ]
    }
   ],
   "source": [
    "print(first_string + second_string +third_string)"
   ]
  },
  {
   "cell_type": "code",
   "execution_count": 14,
   "id": "f76c29c3",
   "metadata": {},
   "outputs": [
    {
     "name": "stdout",
     "output_type": "stream",
     "text": [
      "Anvi is a good girl.\n"
     ]
    }
   ],
   "source": [
    "total_str = (first_string + second_string +third_string)\n",
    "print(total_str)"
   ]
  },
  {
   "cell_type": "markdown",
   "id": "ae76f89a",
   "metadata": {},
   "source": [
    "###    Other operations on strings"
   ]
  },
  {
   "cell_type": "code",
   "execution_count": 17,
   "id": "2c88061c",
   "metadata": {},
   "outputs": [
    {
     "name": "stdout",
     "output_type": "stream",
     "text": [
      "Day Day Day Day Day \n"
     ]
    }
   ],
   "source": [
    "print(\"Day \" * 5)"
   ]
  },
  {
   "cell_type": "code",
   "execution_count": 22,
   "id": "31b0876c",
   "metadata": {},
   "outputs": [
    {
     "name": "stdout",
     "output_type": "stream",
     "text": [
      "Day 5\n"
     ]
    }
   ],
   "source": [
    "print('Day ' + str(5))"
   ]
  },
  {
   "cell_type": "code",
   "execution_count": 23,
   "id": "f368bc2c",
   "metadata": {},
   "outputs": [
    {
     "ename": "TypeError",
     "evalue": "can only concatenate str (not \"int\") to str",
     "output_type": "error",
     "traceback": [
      "\u001b[1;31m---------------------------------------------------------------------------\u001b[0m",
      "\u001b[1;31mTypeError\u001b[0m                                 Traceback (most recent call last)",
      "Input \u001b[1;32mIn [23]\u001b[0m, in \u001b[0;36m<cell line: 1>\u001b[1;34m()\u001b[0m\n\u001b[1;32m----> 1\u001b[0m \u001b[38;5;28mprint\u001b[39m(\u001b[38;5;124;43m\"\u001b[39;49m\u001b[38;5;124;43mDay \u001b[39;49m\u001b[38;5;124;43m\"\u001b[39;49m\u001b[38;5;241;43m+\u001b[39;49m\u001b[38;5;241;43m5\u001b[39;49m)\n",
      "\u001b[1;31mTypeError\u001b[0m: can only concatenate str (not \"int\") to str"
     ]
    }
   ],
   "source": [
    "print(\"Day \"+5)"
   ]
  },
  {
   "cell_type": "code",
   "execution_count": null,
   "id": "47f567a0",
   "metadata": {},
   "outputs": [],
   "source": []
  }
 ],
 "metadata": {
  "kernelspec": {
   "display_name": "Python 3 (ipykernel)",
   "language": "python",
   "name": "python3"
  },
  "language_info": {
   "codemirror_mode": {
    "name": "ipython",
    "version": 3
   },
   "file_extension": ".py",
   "mimetype": "text/x-python",
   "name": "python",
   "nbconvert_exporter": "python",
   "pygments_lexer": "ipython3",
   "version": "3.9.12"
  }
 },
 "nbformat": 4,
 "nbformat_minor": 5
}
