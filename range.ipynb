{
 "cells": [
  {
   "cell_type": "code",
   "execution_count": 1,
   "id": "08afc819",
   "metadata": {},
   "outputs": [
    {
     "name": "stdout",
     "output_type": "stream",
     "text": [
      "range(0, 10)\n"
     ]
    }
   ],
   "source": [
    "print(range(10))"
   ]
  },
  {
   "cell_type": "code",
   "execution_count": 2,
   "id": "9f35cc1d",
   "metadata": {},
   "outputs": [
    {
     "name": "stdout",
     "output_type": "stream",
     "text": [
      "[0, 1, 2, 3, 4, 5, 6, 7, 8, 9]\n"
     ]
    }
   ],
   "source": [
    "print(list(range(10)))"
   ]
  },
  {
   "cell_type": "code",
   "execution_count": 3,
   "id": "83ea0665",
   "metadata": {},
   "outputs": [],
   "source": [
    "roll_number = list(range(1,8))"
   ]
  },
  {
   "cell_type": "code",
   "execution_count": 4,
   "id": "994306dc",
   "metadata": {},
   "outputs": [
    {
     "data": {
      "text/plain": [
       "[1, 2, 3, 4, 5, 6, 7]"
      ]
     },
     "execution_count": 4,
     "metadata": {},
     "output_type": "execute_result"
    }
   ],
   "source": [
    "roll_number"
   ]
  },
  {
   "cell_type": "code",
   "execution_count": 5,
   "id": "a58e1b99",
   "metadata": {},
   "outputs": [],
   "source": [
    "step_size = list(range(0,31,2))"
   ]
  },
  {
   "cell_type": "code",
   "execution_count": 6,
   "id": "44ccf868",
   "metadata": {},
   "outputs": [
    {
     "data": {
      "text/plain": [
       "[0, 2, 4, 6, 8, 10, 12, 14, 16, 18, 20, 22, 24, 26, 28, 30]"
      ]
     },
     "execution_count": 6,
     "metadata": {},
     "output_type": "execute_result"
    }
   ],
   "source": [
    "step_size"
   ]
  },
  {
   "cell_type": "code",
   "execution_count": 7,
   "id": "f9776acb",
   "metadata": {},
   "outputs": [
    {
     "data": {
      "text/plain": [
       "[100,\n",
       " 200,\n",
       " 300,\n",
       " 400,\n",
       " 500,\n",
       " 600,\n",
       " 700,\n",
       " 800,\n",
       " 900,\n",
       " 1000,\n",
       " 1100,\n",
       " 1200,\n",
       " 1300,\n",
       " 1400,\n",
       " 1500,\n",
       " 1600]"
      ]
     },
     "execution_count": 7,
     "metadata": {},
     "output_type": "execute_result"
    }
   ],
   "source": [
    "incr_by_hund =list(range(100,1609,100))\n",
    "incr_by_hund"
   ]
  },
  {
   "cell_type": "code",
   "execution_count": 8,
   "id": "7058befa",
   "metadata": {},
   "outputs": [],
   "source": [
    "reverse = list(range(1609,-1,-100))"
   ]
  },
  {
   "cell_type": "code",
   "execution_count": 9,
   "id": "124f1dbe",
   "metadata": {},
   "outputs": [
    {
     "data": {
      "text/plain": [
       "[1609,\n",
       " 1509,\n",
       " 1409,\n",
       " 1309,\n",
       " 1209,\n",
       " 1109,\n",
       " 1009,\n",
       " 909,\n",
       " 809,\n",
       " 709,\n",
       " 609,\n",
       " 509,\n",
       " 409,\n",
       " 309,\n",
       " 209,\n",
       " 109,\n",
       " 9]"
      ]
     },
     "execution_count": 9,
     "metadata": {},
     "output_type": "execute_result"
    }
   ],
   "source": [
    "reverse"
   ]
  },
  {
   "cell_type": "code",
   "execution_count": null,
   "id": "cc644c32",
   "metadata": {},
   "outputs": [],
   "source": []
  }
 ],
 "metadata": {
  "kernelspec": {
   "display_name": "Python 3 (ipykernel)",
   "language": "python",
   "name": "python3"
  },
  "language_info": {
   "codemirror_mode": {
    "name": "ipython",
    "version": 3
   },
   "file_extension": ".py",
   "mimetype": "text/x-python",
   "name": "python",
   "nbconvert_exporter": "python",
   "pygments_lexer": "ipython3",
   "version": "3.9.12"
  }
 },
 "nbformat": 4,
 "nbformat_minor": 5
}
