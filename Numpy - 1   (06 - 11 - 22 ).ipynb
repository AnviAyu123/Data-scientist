{
 "cells": [
  {
   "cell_type": "markdown",
   "id": "66190563",
   "metadata": {},
   "source": [
    "# NUMPY ARRAY"
   ]
  },
  {
   "cell_type": "code",
   "execution_count": 1,
   "id": "13fc5577",
   "metadata": {},
   "outputs": [],
   "source": [
    "import numpy as np"
   ]
  },
  {
   "cell_type": "code",
   "execution_count": 2,
   "id": "29e80790",
   "metadata": {},
   "outputs": [
    {
     "name": "stdout",
     "output_type": "stream",
     "text": [
      "['ALLOW_THREADS', 'AxisError', 'BUFSIZE', 'Bytes0', 'CLIP', 'ComplexWarning', 'DataSource', 'Datetime64', 'ERR_CALL', 'ERR_DEFAULT', 'ERR_IGNORE', 'ERR_LOG', 'ERR_PRINT', 'ERR_RAISE', 'ERR_WARN', 'FLOATING_POINT_SUPPORT', 'FPE_DIVIDEBYZERO', 'FPE_INVALID', 'FPE_OVERFLOW', 'FPE_UNDERFLOW', 'False_', 'Inf', 'Infinity', 'MAXDIMS', 'MAY_SHARE_BOUNDS', 'MAY_SHARE_EXACT', 'MachAr', 'ModuleDeprecationWarning', 'NAN', 'NINF', 'NZERO', 'NaN', 'PINF', 'PZERO', 'RAISE', 'RankWarning', 'SHIFT_DIVIDEBYZERO', 'SHIFT_INVALID', 'SHIFT_OVERFLOW', 'SHIFT_UNDERFLOW', 'ScalarType', 'Str0', 'Tester', 'TooHardError', 'True_', 'UFUNC_BUFSIZE_DEFAULT', 'UFUNC_PYVALS_NAME', 'Uint64', 'VisibleDeprecationWarning', 'WRAP', '_NoValue', '_UFUNC_API', '__NUMPY_SETUP__', '__all__', '__builtins__', '__cached__', '__config__', '__deprecated_attrs__', '__dir__', '__doc__', '__expired_functions__', '__file__', '__getattr__', '__git_version__', '__loader__', '__mkl_version__', '__name__', '__package__', '__path__', '__spec__', '__version__', '_add_newdoc_ufunc', '_distributor_init', '_financial_names', '_globals', '_mat', '_pytesttester', '_version', 'abs', 'absolute', 'add', 'add_docstring', 'add_newdoc', 'add_newdoc_ufunc', 'alen', 'all', 'allclose', 'alltrue', 'amax', 'amin', 'angle', 'any', 'append', 'apply_along_axis', 'apply_over_axes', 'arange', 'arccos', 'arccosh', 'arcsin', 'arcsinh', 'arctan', 'arctan2', 'arctanh', 'argmax', 'argmin', 'argpartition', 'argsort', 'argwhere', 'around', 'array', 'array2string', 'array_equal', 'array_equiv', 'array_repr', 'array_split', 'array_str', 'asanyarray', 'asarray', 'asarray_chkfinite', 'ascontiguousarray', 'asfarray', 'asfortranarray', 'asmatrix', 'asscalar', 'atleast_1d', 'atleast_2d', 'atleast_3d', 'average', 'bartlett', 'base_repr', 'binary_repr', 'bincount', 'bitwise_and', 'bitwise_not', 'bitwise_or', 'bitwise_xor', 'blackman', 'block', 'bmat', 'bool8', 'bool_', 'broadcast', 'broadcast_arrays', 'broadcast_shapes', 'broadcast_to', 'busday_count', 'busday_offset', 'busdaycalendar', 'byte', 'byte_bounds', 'bytes0', 'bytes_', 'c_', 'can_cast', 'cast', 'cbrt', 'cdouble', 'ceil', 'cfloat', 'char', 'character', 'chararray', 'choose', 'clip', 'clongdouble', 'clongfloat', 'column_stack', 'common_type', 'compare_chararrays', 'compat', 'complex128', 'complex64', 'complex_', 'complexfloating', 'compress', 'concatenate', 'conj', 'conjugate', 'convolve', 'copy', 'copysign', 'copyto', 'core', 'corrcoef', 'correlate', 'cos', 'cosh', 'count_nonzero', 'cov', 'cross', 'csingle', 'ctypeslib', 'cumprod', 'cumproduct', 'cumsum', 'datetime64', 'datetime_as_string', 'datetime_data', 'deg2rad', 'degrees', 'delete', 'deprecate', 'deprecate_with_doc', 'diag', 'diag_indices', 'diag_indices_from', 'diagflat', 'diagonal', 'diff', 'digitize', 'disp', 'divide', 'divmod', 'dot', 'double', 'dsplit', 'dstack', 'dtype', 'e', 'ediff1d', 'einsum', 'einsum_path', 'emath', 'empty', 'empty_like', 'equal', 'errstate', 'euler_gamma', 'exp', 'exp2', 'expand_dims', 'expm1', 'extract', 'eye', 'fabs', 'fastCopyAndTranspose', 'fft', 'fill_diagonal', 'find_common_type', 'finfo', 'fix', 'flatiter', 'flatnonzero', 'flexible', 'flip', 'fliplr', 'flipud', 'float16', 'float32', 'float64', 'float_', 'float_power', 'floating', 'floor', 'floor_divide', 'fmax', 'fmin', 'fmod', 'format_float_positional', 'format_float_scientific', 'format_parser', 'frexp', 'frombuffer', 'fromfile', 'fromfunction', 'fromiter', 'frompyfunc', 'fromregex', 'fromstring', 'full', 'full_like', 'gcd', 'generic', 'genfromtxt', 'geomspace', 'get_array_wrap', 'get_include', 'get_printoptions', 'getbufsize', 'geterr', 'geterrcall', 'geterrobj', 'gradient', 'greater', 'greater_equal', 'half', 'hamming', 'hanning', 'heaviside', 'histogram', 'histogram2d', 'histogram_bin_edges', 'histogramdd', 'hsplit', 'hstack', 'hypot', 'i0', 'identity', 'iinfo', 'imag', 'in1d', 'index_exp', 'indices', 'inexact', 'inf', 'info', 'infty', 'inner', 'insert', 'int0', 'int16', 'int32', 'int64', 'int8', 'int_', 'intc', 'integer', 'interp', 'intersect1d', 'intp', 'invert', 'is_busday', 'isclose', 'iscomplex', 'iscomplexobj', 'isfinite', 'isfortran', 'isin', 'isinf', 'isnan', 'isnat', 'isneginf', 'isposinf', 'isreal', 'isrealobj', 'isscalar', 'issctype', 'issubclass_', 'issubdtype', 'issubsctype', 'iterable', 'ix_', 'kaiser', 'kron', 'lcm', 'ldexp', 'left_shift', 'less', 'less_equal', 'lexsort', 'lib', 'linalg', 'linspace', 'little_endian', 'load', 'loads', 'loadtxt', 'log', 'log10', 'log1p', 'log2', 'logaddexp', 'logaddexp2', 'logical_and', 'logical_not', 'logical_or', 'logical_xor', 'logspace', 'longcomplex', 'longdouble', 'longfloat', 'longlong', 'lookfor', 'ma', 'mafromtxt', 'mask_indices', 'mat', 'math', 'matmul', 'matrix', 'matrixlib', 'max', 'maximum', 'maximum_sctype', 'may_share_memory', 'mean', 'median', 'memmap', 'meshgrid', 'mgrid', 'min', 'min_scalar_type', 'minimum', 'mintypecode', 'mkl', 'mod', 'modf', 'moveaxis', 'msort', 'multiply', 'nan', 'nan_to_num', 'nanargmax', 'nanargmin', 'nancumprod', 'nancumsum', 'nanmax', 'nanmean', 'nanmedian', 'nanmin', 'nanpercentile', 'nanprod', 'nanquantile', 'nanstd', 'nansum', 'nanvar', 'nbytes', 'ndarray', 'ndenumerate', 'ndfromtxt', 'ndim', 'ndindex', 'nditer', 'negative', 'nested_iters', 'newaxis', 'nextafter', 'nonzero', 'not_equal', 'numarray', 'number', 'obj2sctype', 'object0', 'object_', 'ogrid', 'oldnumeric', 'ones', 'ones_like', 'os', 'outer', 'packbits', 'pad', 'partition', 'percentile', 'pi', 'piecewise', 'place', 'poly', 'poly1d', 'polyadd', 'polyder', 'polydiv', 'polyfit', 'polyint', 'polymul', 'polynomial', 'polysub', 'polyval', 'positive', 'power', 'printoptions', 'prod', 'product', 'promote_types', 'ptp', 'put', 'put_along_axis', 'putmask', 'quantile', 'r_', 'rad2deg', 'radians', 'random', 'ravel', 'ravel_multi_index', 'real', 'real_if_close', 'rec', 'recarray', 'recfromcsv', 'recfromtxt', 'reciprocal', 'record', 'remainder', 'repeat', 'require', 'reshape', 'resize', 'result_type', 'right_shift', 'rint', 'roll', 'rollaxis', 'roots', 'rot90', 'round', 'round_', 'row_stack', 's_', 'safe_eval', 'save', 'savetxt', 'savez', 'savez_compressed', 'sctype2char', 'sctypeDict', 'sctypes', 'searchsorted', 'select', 'set_numeric_ops', 'set_printoptions', 'set_string_function', 'setbufsize', 'setdiff1d', 'seterr', 'seterrcall', 'seterrobj', 'setxor1d', 'shape', 'shares_memory', 'short', 'show_config', 'sign', 'signbit', 'signedinteger', 'sin', 'sinc', 'single', 'singlecomplex', 'sinh', 'size', 'sometrue', 'sort', 'sort_complex', 'source', 'spacing', 'split', 'sqrt', 'square', 'squeeze', 'stack', 'std', 'str0', 'str_', 'string_', 'subtract', 'sum', 'swapaxes', 'sys', 'take', 'take_along_axis', 'tan', 'tanh', 'tensordot', 'test', 'testing', 'tile', 'timedelta64', 'trace', 'tracemalloc_domain', 'transpose', 'trapz', 'tri', 'tril', 'tril_indices', 'tril_indices_from', 'trim_zeros', 'triu', 'triu_indices', 'triu_indices_from', 'true_divide', 'trunc', 'typecodes', 'typename', 'ubyte', 'ufunc', 'uint', 'uint0', 'uint16', 'uint32', 'uint64', 'uint8', 'uintc', 'uintp', 'ulonglong', 'unicode_', 'union1d', 'unique', 'unpackbits', 'unravel_index', 'unsignedinteger', 'unwrap', 'use_hugepage', 'ushort', 'vander', 'var', 'vdot', 'vectorize', 'version', 'void', 'void0', 'vsplit', 'vstack', 'warnings', 'where', 'who', 'zeros', 'zeros_like']\n"
     ]
    }
   ],
   "source": [
    "# Check all the functions in numpy\n",
    "print(dir(np))"
   ]
  },
  {
   "cell_type": "code",
   "execution_count": 3,
   "id": "8a43d861",
   "metadata": {},
   "outputs": [
    {
     "data": {
      "text/plain": [
       "3.1622776601683795"
      ]
     },
     "execution_count": 3,
     "metadata": {},
     "output_type": "execute_result"
    }
   ],
   "source": [
    "np.sqrt(10)"
   ]
  },
  {
   "cell_type": "code",
   "execution_count": 4,
   "id": "c9c49fdd",
   "metadata": {},
   "outputs": [
    {
     "name": "stdout",
     "output_type": "stream",
     "text": [
      "Minimum  18\n",
      "Maxium  57\n"
     ]
    }
   ],
   "source": [
    "print('Minimum ',np.amin([25,30,57,18]))\n",
    "\n",
    "print('Maxium ',np.amax([25,30,57,18]))"
   ]
  },
  {
   "cell_type": "code",
   "execution_count": 5,
   "id": "f3258a62",
   "metadata": {},
   "outputs": [
    {
     "data": {
      "text/plain": [
       "30.0"
      ]
     },
     "execution_count": 5,
     "metadata": {},
     "output_type": "execute_result"
    }
   ],
   "source": [
    "# Rounded off to next number\n",
    "np.ceil(29.1)"
   ]
  },
  {
   "cell_type": "code",
   "execution_count": 6,
   "id": "06c2bebe",
   "metadata": {},
   "outputs": [
    {
     "data": {
      "text/plain": [
       "4.0"
      ]
     },
     "execution_count": 6,
     "metadata": {},
     "output_type": "execute_result"
    }
   ],
   "source": [
    "np.ceil(np.sqrt(10))"
   ]
  },
  {
   "cell_type": "code",
   "execution_count": 7,
   "id": "a1acca34",
   "metadata": {},
   "outputs": [
    {
     "data": {
      "text/plain": [
       "10.0"
      ]
     },
     "execution_count": 7,
     "metadata": {},
     "output_type": "execute_result"
    }
   ],
   "source": [
    "np.ceil(np.sum(np.sqrt([5,10,15])))"
   ]
  },
  {
   "cell_type": "markdown",
   "id": "bec59922",
   "metadata": {},
   "source": [
    "**Similarly there are many numpy functions,you can explore them for your knowledge purpose.But We use limited functions in our  course lit's explore them.**"
   ]
  },
  {
   "cell_type": "code",
   "execution_count": 8,
   "id": "f705fd48",
   "metadata": {},
   "outputs": [
    {
     "data": {
      "text/plain": [
       "array([ 8,  9, 10])"
      ]
     },
     "execution_count": 8,
     "metadata": {},
     "output_type": "execute_result"
    }
   ],
   "source": [
    "np.array ([8,9,10])"
   ]
  },
  {
   "cell_type": "code",
   "execution_count": 10,
   "id": "3a14e9c7",
   "metadata": {},
   "outputs": [],
   "source": [
    "xyz = np.array ([8,9,10])"
   ]
  },
  {
   "cell_type": "code",
   "execution_count": 9,
   "id": "a6743917",
   "metadata": {},
   "outputs": [
    {
     "data": {
      "text/plain": [
       "list"
      ]
     },
     "execution_count": 9,
     "metadata": {},
     "output_type": "execute_result"
    }
   ],
   "source": [
    "type ([ 8,  9, 10])"
   ]
  },
  {
   "cell_type": "code",
   "execution_count": 11,
   "id": "da3cc749",
   "metadata": {},
   "outputs": [
    {
     "data": {
      "text/plain": [
       "numpy.ndarray"
      ]
     },
     "execution_count": 11,
     "metadata": {},
     "output_type": "execute_result"
    }
   ],
   "source": [
    "type(xyz)"
   ]
  },
  {
   "cell_type": "code",
   "execution_count": 12,
   "id": "0468f478",
   "metadata": {},
   "outputs": [
    {
     "name": "stdout",
     "output_type": "stream",
     "text": [
      "[ 8  9 10]\n"
     ]
    }
   ],
   "source": [
    "# Copy array in to other\n",
    "b = (np.asarray(xyz))\n",
    "print(b)"
   ]
  },
  {
   "cell_type": "code",
   "execution_count": 13,
   "id": "71fcd2ff",
   "metadata": {},
   "outputs": [
    {
     "data": {
      "text/plain": [
       "array([1., 2., 3.])"
      ]
     },
     "execution_count": 13,
     "metadata": {},
     "output_type": "execute_result"
    }
   ],
   "source": [
    "# dtype converstion\n",
    "np.array([1, 2, 3], dtype = float)"
   ]
  },
  {
   "cell_type": "markdown",
   "id": "6a810a38",
   "metadata": {},
   "source": [
    "# two dimensions"
   ]
  },
  {
   "cell_type": "code",
   "execution_count": null,
   "id": "e188fd96",
   "metadata": {},
   "outputs": [],
   "source": [
    "a = np.array ([[1,2], [3,4], [4,5]])\n",
    "print ('type - ',a.dtype)"
   ]
  },
  {
   "cell_type": "code",
   "execution_count": null,
   "id": "83cdb1c3",
   "metadata": {},
   "outputs": [],
   "source": [
    "print ('\\n' , '*' * 30)  #\\n is for next line\n",
    "\n",
    "print('\\n' ,a)"
   ]
  },
  {
   "cell_type": "code",
   "execution_count": null,
   "id": "32d0b067",
   "metadata": {},
   "outputs": [],
   "source": [
    "#dtype conversion\n",
    "np.array ([1,2,3,4,5,6,7,8,9],dtype = float )\n"
   ]
  },
  {
   "cell_type": "code",
   "execution_count": null,
   "id": "590510f7",
   "metadata": {},
   "outputs": [],
   "source": [
    "np.array ([1.0,2.0,3.0] , dtype = int)"
   ]
  },
  {
   "cell_type": "code",
   "execution_count": null,
   "id": "fcbf25a6",
   "metadata": {},
   "outputs": [],
   "source": [
    "#creating array using .mat(matrix)\n",
    "np.array (np.mat(' 1 2 3 ; 3 4 5 '))"
   ]
  },
  {
   "cell_type": "code",
   "execution_count": null,
   "id": "59758a12",
   "metadata": {},
   "outputs": [],
   "source": [
    "# Convert a list in to an array :\n",
    "a = [1, 2]\n",
    "\n",
    "c = np.array(a)\n",
    "\n",
    "print(c)"
   ]
  },
  {
   "cell_type": "code",
   "execution_count": null,
   "id": "9da7eb7d",
   "metadata": {},
   "outputs": [],
   "source": [
    "#copy array in to others\n",
    "b = np.asarray(c)\n",
    "print(b)"
   ]
  },
  {
   "cell_type": "markdown",
   "id": "11afab39",
   "metadata": {},
   "source": [
    "##  Data types"
   ]
  },
  {
   "cell_type": "code",
   "execution_count": 14,
   "id": "a0fa5cbb",
   "metadata": {},
   "outputs": [
    {
     "name": "stdout",
     "output_type": "stream",
     "text": [
      "Type/ class of this object: <class 'numpy.ndarray'>\n",
      "Here is the matrix\n",
      "----------\n",
      " [[1 2 3]\n",
      " [4 5 6]\n",
      " [7 8 9]] \n",
      "---------\n",
      "Dimenson of this matrix:  2\n",
      "Size of this matrix:  9\n",
      "Shape of this matrix: (3, 3)\n",
      "Data type of this matrix:  int32\n"
     ]
    }
   ],
   "source": [
    "my_mat = [[1 ,2 , 3],[4 ,5 , 6,],[7 ,8 , 9]]\n",
    "mat = np.array(my_mat)\n",
    "\n",
    "print(\"Type/ class of this object:\",type(mat))\n",
    "\n",
    "print(\"Here is the matrix\\n----------\\n\",mat,\"\\n---------\")\n",
    "\n",
    "print(\"Dimenson of this matrix: \",mat.ndim,sep=' ')#ndim gives the dimension,2 for a matrix, 1 for a vector\n",
    "\n",
    "print (\"Size of this matrix: \",mat.size ,sep = ' ')  #size gives the total number of elements\n",
    "\n",
    "print (\"Shape of this matrix:\",mat.shape)  #shape gives the number of elements along each axis(dimension)\n",
    "\n",
    "print (\"Data type of this matrix: \",mat.dtype)  #dtype gives the data type contained in the array"
   ]
  },
  {
   "cell_type": "markdown",
   "id": "8872b21c",
   "metadata": {},
   "source": [
    "### Arange and linspace"
   ]
  },
  {
   "cell_type": "code",
   "execution_count": 15,
   "id": "4e7782bd",
   "metadata": {},
   "outputs": [
    {
     "ename": "TypeError",
     "evalue": "'float' object cannot be interpreted as an integer",
     "output_type": "error",
     "traceback": [
      "\u001b[1;31m---------------------------------------------------------------------------\u001b[0m",
      "\u001b[1;31mTypeError\u001b[0m                                 Traceback (most recent call last)",
      "Input \u001b[1;32mIn [15]\u001b[0m, in \u001b[0;36m<cell line: 2>\u001b[1;34m()\u001b[0m\n\u001b[0;32m      1\u001b[0m \u001b[38;5;66;03m# Don't work with python range\u001b[39;00m\n\u001b[1;32m----> 2\u001b[0m \u001b[38;5;28mlist\u001b[39m(\u001b[38;5;28;43mrange\u001b[39;49m\u001b[43m(\u001b[49m\u001b[38;5;241;43m2\u001b[39;49m\u001b[43m,\u001b[49m\u001b[38;5;241;43m9.6\u001b[39;49m\u001b[43m,\u001b[49m\u001b[38;5;241;43m80.4\u001b[39;49m\u001b[43m)\u001b[49m)\n",
      "\u001b[1;31mTypeError\u001b[0m: 'float' object cannot be interpreted as an integer"
     ]
    }
   ],
   "source": [
    "# Don't work with python range\n",
    "list(range(2,9.6,80.4))"
   ]
  },
  {
   "cell_type": "code",
   "execution_count": 16,
   "id": "3e5171ed",
   "metadata": {},
   "outputs": [
    {
     "data": {
      "text/plain": [
       "array([2. , 2.4, 2.8, 3.2, 3.6, 4. , 4.4, 4.8, 5.2, 5.6, 6. , 6.4, 6.8,\n",
       "       7.2, 7.6, 8. , 8.4, 8.8, 9.2])"
      ]
     },
     "execution_count": 16,
     "metadata": {},
     "output_type": "execute_result"
    }
   ],
   "source": [
    "a = np.arange(2,9.6,0.4)\n",
    "a"
   ]
  },
  {
   "cell_type": "code",
   "execution_count": 17,
   "id": "d6e25ec4",
   "metadata": {},
   "outputs": [
    {
     "data": {
      "text/plain": [
       "array([9.2, 8.8, 8.4, 8. , 7.6, 7.2, 6.8, 6.4, 6. , 5.6, 5.2, 4.8, 4.4,\n",
       "       4. , 3.6, 3.2, 2.8, 2.4, 2. ])"
      ]
     },
     "execution_count": 17,
     "metadata": {},
     "output_type": "execute_result"
    }
   ],
   "source": [
    "#Reverse order\n",
    "a[::-1]"
   ]
  },
  {
   "cell_type": "code",
   "execution_count": 18,
   "id": "d33b4e13",
   "metadata": {},
   "outputs": [
    {
     "name": "stdout",
     "output_type": "stream",
     "text": [
      "Every 5th number from 50 in reverse order\n",
      " [50 45 40 35 30 25 20 15 10  5]\n"
     ]
    }
   ],
   "source": [
    "print(\"Every 5th number from 50 in reverse order\\n\",np.arange(50,0,-5))"
   ]
  },
  {
   "cell_type": "code",
   "execution_count": 22,
   "id": "d86a170a",
   "metadata": {},
   "outputs": [
    {
     "name": "stdout",
     "output_type": "stream",
     "text": [
      "Linerly spaced numbers between 10 and 40 \n",
      "--------------------------------------------\n",
      "[10.  17.5 25.  32.5 40. ]\n"
     ]
    }
   ],
   "source": [
    "print(\"Linerly spaced numbers between 10 and 40 \\n--------------------------------------------\")\n",
    "print(np.linspace(10,40,5))"
   ]
  },
  {
   "cell_type": "code",
   "execution_count": 23,
   "id": "dfae7eda",
   "metadata": {},
   "outputs": [
    {
     "name": "stdout",
     "output_type": "stream",
     "text": [
      "Linerly spaced numbers between 10 and 50 \n",
      "--------------------------------------------\n",
      "[10.         14.44444444 18.88888889 23.33333333 27.77777778 32.22222222\n",
      " 36.66666667 41.11111111 45.55555556 50.        ]\n"
     ]
    }
   ],
   "source": [
    "print(\"Linerly spaced numbers between 10 and 50 \\n--------------------------------------------\")\n",
    "print(np.linspace(10,50,10))"
   ]
  },
  {
   "cell_type": "code",
   "execution_count": 24,
   "id": "8b963d76",
   "metadata": {},
   "outputs": [
    {
     "data": {
      "text/plain": [
       "(array([2.  , 2.25, 2.5 , 2.75]), 0.25)"
      ]
     },
     "execution_count": 24,
     "metadata": {},
     "output_type": "execute_result"
    }
   ],
   "source": [
    "#Include end point and check space between the points\n",
    "# by default endpoint =True\n",
    "# by default retstep = False\n",
    "np.linspace(2.0,3.0, num=4, endpoint = False, retstep = True)"
   ]
  },
  {
   "cell_type": "code",
   "execution_count": 26,
   "id": "696861bf",
   "metadata": {},
   "outputs": [
    {
     "name": "stdout",
     "output_type": "stream",
     "text": [
      "(array([ 4.567867  ,  5.13151682,  5.69516663,  6.25881645,  6.82246626,\n",
      "        7.38611608,  7.94976589,  8.51341571,  9.07706553,  9.64071534,\n",
      "       10.20436516, 10.76801497, 11.33166479, 11.89531461, 12.45896442,\n",
      "       13.02261424, 13.58626405, 14.14991387, 14.71356368, 15.2772135 ,\n",
      "       15.84086332, 16.40451313, 16.96816295, 17.53181276, 18.09546258,\n",
      "       18.65911239, 19.22276221, 19.78641203, 20.35006184, 20.91371166,\n",
      "       21.47736147, 22.04101129, 22.60466111, 23.16831092, 23.73196074,\n",
      "       24.29561055, 24.85926037, 25.42291018, 25.98656   ]), 0.5636498157894737)\n"
     ]
    }
   ],
   "source": [
    "print(np.linspace(4.567867,25.98656,39, retstep = True))"
   ]
  },
  {
   "cell_type": "markdown",
   "id": "181ca893",
   "metadata": {},
   "source": [
    "## Matrix creation"
   ]
  },
  {
   "cell_type": "code",
   "execution_count": 27,
   "id": "c2750b51",
   "metadata": {},
   "outputs": [
    {
     "name": "stdout",
     "output_type": "stream",
     "text": [
      "Vector of zeroes\n",
      "-----------------------\n",
      "[0. 0. 0. 0. 0. 0. 0. 0.]\n"
     ]
    }
   ],
   "source": [
    "print(\"Vector of zeroes\\n-----------------------\")\n",
    "\n",
    "print(np.zeros(8))"
   ]
  },
  {
   "cell_type": "code",
   "execution_count": 28,
   "id": "d7c71d62",
   "metadata": {
    "scrolled": false
   },
   "outputs": [
    {
     "name": "stdout",
     "output_type": "stream",
     "text": [
      "Matrix of zeros\n",
      "-----------------------------\n",
      "[[0. 0. 0. 0.]\n",
      " [0. 0. 0. 0.]\n",
      " [0. 0. 0. 0.]\n",
      " [0. 0. 0. 0.]\n",
      " [0. 0. 0. 0.]\n",
      " [0. 0. 0. 0.]\n",
      " [0. 0. 0. 0.]\n",
      " [0. 0. 0. 0.]]\n"
     ]
    }
   ],
   "source": [
    "print(\"Matrix of zeros\\n-----------------------------\")\n",
    "\n",
    "print(np.zeros((8,4)))  #Notice Tuples"
   ]
  },
  {
   "cell_type": "code",
   "execution_count": 29,
   "id": "6213d21b",
   "metadata": {},
   "outputs": [
    {
     "name": "stdout",
     "output_type": "stream",
     "text": [
      "Matrix of ones\n",
      "-----------------------------\n",
      "[[1. 1. 1. 1. 1. 1. 1. 1. 1. 1.]\n",
      " [1. 1. 1. 1. 1. 1. 1. 1. 1. 1.]\n",
      " [1. 1. 1. 1. 1. 1. 1. 1. 1. 1.]\n",
      " [1. 1. 1. 1. 1. 1. 1. 1. 1. 1.]]\n"
     ]
    }
   ],
   "source": [
    "print(\"Matrix of ones\\n-----------------------------\")\n",
    "\n",
    "print(np.ones((4,10))) #Note matrix dimension specified by Tuples"
   ]
  },
  {
   "cell_type": "code",
   "execution_count": 30,
   "id": "12b8f9b2",
   "metadata": {},
   "outputs": [
    {
     "name": "stdout",
     "output_type": "stream",
     "text": [
      "Matrix of 5s\n",
      "-----------------------------\n",
      "[[5. 5. 5. 5. 5. 5. 5. 5. 5. 5.]\n",
      " [5. 5. 5. 5. 5. 5. 5. 5. 5. 5.]\n",
      " [5. 5. 5. 5. 5. 5. 5. 5. 5. 5.]\n",
      " [5. 5. 5. 5. 5. 5. 5. 5. 5. 5.]]\n"
     ]
    }
   ],
   "source": [
    "print(\"Matrix of 5s\\n-----------------------------\")\n",
    "\n",
    "print(5*np.ones((4,10)))"
   ]
  },
  {
   "cell_type": "code",
   "execution_count": 31,
   "id": "e6a3b3b3",
   "metadata": {},
   "outputs": [
    {
     "name": "stdout",
     "output_type": "stream",
     "text": [
      "[[ 0  1  2  3  4  5  6  7  8  9]\n",
      " [10 11 12 13 14 15 16 17 18 19]\n",
      " [20 21 22 23 24 25 26 27 28 29]]\n"
     ]
    }
   ],
   "source": [
    "#construct diagonal matrix\n",
    "x = np.arange(30).reshape (3,10)\n",
    "print(x)"
   ]
  },
  {
   "cell_type": "markdown",
   "id": "25a35d1d",
   "metadata": {},
   "source": [
    "# Random number generation"
   ]
  },
  {
   "cell_type": "code",
   "execution_count": 32,
   "id": "f308ffb4",
   "metadata": {},
   "outputs": [],
   "source": [
    "import numpy as np"
   ]
  },
  {
   "cell_type": "code",
   "execution_count": 33,
   "id": "a20843a7",
   "metadata": {},
   "outputs": [
    {
     "name": "stdout",
     "output_type": "stream",
     "text": [
      "Random number generation(from uniform distribution)\n",
      "[[0.22199317 0.87073231 0.20671916 0.91861091 0.48841119 0.61174386]\n",
      " [0.76590786 0.51841799 0.2968005  0.18772123 0.08074127 0.7384403 ]\n",
      " [0.44130922 0.15830987 0.87993703 0.27408646 0.41423502 0.29607993]\n",
      " [0.62878791 0.57983781 0.5999292  0.26581912 0.28468588 0.25358821]\n",
      " [0.32756395 0.1441643  0.16561286 0.96393053 0.96022672 0.18841466]\n",
      " [0.02430656 0.20455555 0.69984361 0.77951459 0.02293309 0.57766286]\n",
      " [0.00164217 0.51547261 0.63979518 0.9856244  0.2590976  0.80249689]\n",
      " [0.87048309 0.92274961 0.00221421 0.46948837 0.98146874 0.3989448 ]\n",
      " [0.81373248 0.5464565  0.77085409 0.48493107 0.02911156 0.08652569]\n",
      " [0.11145381 0.25124511 0.96491529 0.63176605 0.8166602  0.566082  ]]\n"
     ]
    }
   ],
   "source": [
    "np.random.seed (5)  #each similar number will generate similar data\n",
    "\n",
    "print (\"Random number generation(from uniform distribution)\")\n",
    "\n",
    "print (np.random.rand(10,6))"
   ]
  },
  {
   "cell_type": "code",
   "execution_count": 34,
   "id": "016fd915",
   "metadata": {},
   "outputs": [
    {
     "name": "stdout",
     "output_type": "stream",
     "text": [
      "Random number generation(from uniform distribution)\n",
      "[[0.96702984 0.54723225 0.97268436 0.71481599]\n",
      " [0.69772882 0.2160895  0.97627445 0.00623026]\n",
      " [0.25298236 0.43479153 0.77938292 0.19768507]\n",
      " [0.86299324 0.98340068 0.16384224 0.59733394]\n",
      " [0.0089861  0.38657128 0.04416006 0.95665297]\n",
      " [0.43614665 0.94897731 0.78630599 0.8662893 ]]\n"
     ]
    }
   ],
   "source": [
    "np.random.seed (4) \n",
    "\n",
    "print (\"Random number generation(from uniform distribution)\")\n",
    "\n",
    "print (np.random.rand(6,4))"
   ]
  },
  {
   "cell_type": "code",
   "execution_count": 35,
   "id": "7b41a236",
   "metadata": {},
   "outputs": [
    {
     "name": "stdout",
     "output_type": "stream",
     "text": [
      "Numbers from Normal Distribution with zero mean and standard deviation 1 i.e.standard normal\n",
      "[[-1.15681626  0.35099715 -0.60688728  1.54697933]\n",
      " [ 0.72334161  0.04613557 -0.98299165  0.05443274]\n",
      " [ 0.15989294 -1.20894816  2.22336022  0.39429521]\n",
      " [ 1.69235772 -1.11281215  1.63574754 -1.36096559]\n",
      " [-0.65122583  0.54245131  0.04800625 -2.35807363]]\n"
     ]
    }
   ],
   "source": [
    "print (\"Numbers from Normal Distribution with zero mean and standard deviation 1 i.e.standard normal\")\n",
    "\n",
    "print (np.random.randn(5,4))"
   ]
  },
  {
   "cell_type": "code",
   "execution_count": 36,
   "id": "b87446d3",
   "metadata": {},
   "outputs": [
    {
     "name": "stdout",
     "output_type": "stream",
     "text": [
      "Random integer vector:\n",
      "[ 8  5 10 19  9 16 16 16  8 13]\n"
     ]
    }
   ],
   "source": [
    "print (\"Random integer vector:\")  #randit (low , high ,# of samples to be drawn)\n",
    "\n",
    "print (np.random.randint(5,20,10))"
   ]
  },
  {
   "cell_type": "code",
   "execution_count": 37,
   "id": "36d49ba4",
   "metadata": {},
   "outputs": [
    {
     "name": "stdout",
     "output_type": "stream",
     "text": [
      "Random integer matrix :\n",
      "[[30537 28923 28542 32311  9887 29061 13577]\n",
      " [24037 19346 17487 19582  1733 28421 27560]\n",
      " [ 1079 25129 34045 30433  2628  3564 16023]\n",
      " [33517 39698 34844  9058 18604 22144 25230]\n",
      " [ 2049 29033 12408  2640 25065  9532 14645]\n",
      " [22581  6593  5848 11874 19119 24491 33842]]\n"
     ]
    }
   ],
   "source": [
    "print (\"Random integer matrix :\")   #randit (low , high ,# of samples to be drawn in a tuple to form a matrix)\n",
    "\n",
    "\n",
    "print (np.random.randint(1,40000,(6,7)))"
   ]
  },
  {
   "cell_type": "code",
   "execution_count": 38,
   "id": "24009664",
   "metadata": {},
   "outputs": [
    {
     "name": "stdout",
     "output_type": "stream",
     "text": [
      "Ypur otp is -  [6023]\n",
      "Enter otp6023\n",
      "Log in success\n"
     ]
    }
   ],
   "source": [
    "while True:\n",
    "    otp1 = np.random.randint(1000,10000,1)\n",
    "    print (\"Ypur otp is - \",otp1)\n",
    "    user_otp = int(input('Enter otp'))\n",
    "    if otp1 == user_otp:\n",
    "        print(\"Log in success\")\n",
    "        break\n",
    "    else:\n",
    "        print(\"Invalid otp,Generate new otp\")\n",
    "        continue"
   ]
  },
  {
   "cell_type": "markdown",
   "id": "7a44b450",
   "metadata": {},
   "source": [
    "## Numpy Condition"
   ]
  },
  {
   "cell_type": "code",
   "execution_count": 39,
   "id": "d053dba3",
   "metadata": {},
   "outputs": [
    {
     "data": {
      "text/plain": [
       "array([36, 31,  2,  4, 23, 11, 21, 17,  8, 11])"
      ]
     },
     "execution_count": 39,
     "metadata": {},
     "output_type": "execute_result"
    }
   ],
   "source": [
    "    # Random integer\n",
    "a = np.random.randint(1,40, 10)\n",
    "a"
   ]
  },
  {
   "cell_type": "code",
   "execution_count": 40,
   "id": "2af4b6ba",
   "metadata": {},
   "outputs": [
    {
     "data": {
      "text/plain": [
       "array([25, 25, 10, 10, 23, 11, 21, 17, 10, 11])"
      ]
     },
     "execution_count": 40,
     "metadata": {},
     "output_type": "execute_result"
    }
   ],
   "source": [
    "# Replace data with fix numbers\n",
    "np.clip(a, a_min = 10 , a_max = 25)"
   ]
  },
  {
   "cell_type": "code",
   "execution_count": 41,
   "id": "576a81d2",
   "metadata": {},
   "outputs": [
    {
     "name": "stdout",
     "output_type": "stream",
     "text": [
      "(array([2, 3, 8], dtype=int64),)\n"
     ]
    }
   ],
   "source": [
    "#  it gives index details\n",
    "print (np.where(a < 10))"
   ]
  },
  {
   "cell_type": "code",
   "execution_count": 42,
   "id": "2038ad22",
   "metadata": {},
   "outputs": [
    {
     "name": "stdout",
     "output_type": "stream",
     "text": [
      "(array([], dtype=int64),)\n"
     ]
    }
   ],
   "source": [
    "# Find if data exists in to array\n",
    "\n",
    "print (np.where( a == 37))"
   ]
  },
  {
   "cell_type": "markdown",
   "id": "be86b2af",
   "metadata": {},
   "source": [
    "#### Reshape sort"
   ]
  },
  {
   "cell_type": "markdown",
   "id": "5e39e6a3",
   "metadata": {},
   "source": [
    "# Reshaping other ways"
   ]
  },
  {
   "cell_type": "code",
   "execution_count": 1,
   "id": "cf35c6d2",
   "metadata": {},
   "outputs": [
    {
     "data": {
      "text/plain": [
       "array([95, 79, 98, 89, 19, 59, 85, 66, 38, 13, 92,  4, 16, 53,  3, 95, 70,\n",
       "       62, 91,  3, 67,  7, 84, 58, 12, 53, 39, 33,  5, 42])"
      ]
     },
     "execution_count": 1,
     "metadata": {},
     "output_type": "execute_result"
    }
   ],
   "source": [
    "import numpy as np\n",
    "from numpy.random import randint as ri\n",
    "\n",
    "a = ri(1,99,30)\n",
    "a"
   ]
  },
  {
   "cell_type": "code",
   "execution_count": 12,
   "id": "b5f79aa8",
   "metadata": {},
   "outputs": [
    {
     "data": {
      "text/plain": [
       "array([[[95, 79, 98, 89, 19],\n",
       "        [59, 85, 66, 38, 13],\n",
       "        [92,  4, 16, 53,  3]],\n",
       "\n",
       "       [[95, 70, 62, 91,  3],\n",
       "        [67,  7, 84, 58, 12],\n",
       "        [53, 39, 33,  5, 42]]])"
      ]
     },
     "execution_count": 12,
     "metadata": {},
     "output_type": "execute_result"
    }
   ],
   "source": [
    "b = a.reshape(2,3,5)\n",
    "b"
   ]
  },
  {
   "cell_type": "code",
   "execution_count": 3,
   "id": "05a2b824",
   "metadata": {},
   "outputs": [
    {
     "data": {
      "text/plain": [
       "array([[95, 79, 98, 89, 19],\n",
       "       [59, 85, 66, 38, 13],\n",
       "       [92,  4, 16, 53,  3],\n",
       "       [95, 70, 62, 91,  3],\n",
       "       [67,  7, 84, 58, 12],\n",
       "       [53, 39, 33,  5, 42]])"
      ]
     },
     "execution_count": 3,
     "metadata": {},
     "output_type": "execute_result"
    }
   ],
   "source": [
    "c = a.reshape(6,5)\n",
    "c"
   ]
  },
  {
   "cell_type": "code",
   "execution_count": 4,
   "id": "3367f1d5",
   "metadata": {
    "scrolled": true
   },
   "outputs": [
    {
     "name": "stdout",
     "output_type": "stream",
     "text": [
      "Min of a: 3\n",
      "Max of b: 98\n"
     ]
    }
   ],
   "source": [
    "print (\"Min of a:\", c.min())\n",
    "\n",
    "print (\"Max of b:\", c.max())"
   ]
  },
  {
   "cell_type": "code",
   "execution_count": 5,
   "id": "ffffc4cb",
   "metadata": {},
   "outputs": [
    {
     "data": {
      "text/plain": [
       "51.0"
      ]
     },
     "execution_count": 5,
     "metadata": {},
     "output_type": "execute_result"
    }
   ],
   "source": [
    "np.mean(c)"
   ]
  },
  {
   "cell_type": "markdown",
   "id": "d186f2cd",
   "metadata": {},
   "source": [
    "### Sorting"
   ]
  },
  {
   "cell_type": "code",
   "execution_count": 15,
   "id": "599f78d4",
   "metadata": {},
   "outputs": [
    {
     "name": "stdout",
     "output_type": "stream",
     "text": [
      "\n",
      " 5x5 matrix of random integers\n",
      " -------------------------------------------------- \n",
      " [[62 84 38 30 32]\n",
      " [ 8 18  2 86 96]\n",
      " [22 32 82 26 17]\n",
      " [74 39 63 26 76]\n",
      " [94 45  9 65 69]]\n",
      "\n",
      " Here is the sorted matrix along each row \n",
      " -------------------------------------------------- \n",
      " [[30 32 38 62 84]\n",
      " [ 2  8 18 86 96]\n",
      " [17 22 26 32 82]\n",
      " [26 39 63 74 76]\n",
      " [ 9 45 65 69 94]]\n",
      "\n",
      " Here is the sorted matrix along each column \n",
      " -------------------------------------------------- \n",
      " [[ 8 18  2 26 17]\n",
      " [22 32  9 26 32]\n",
      " [62 39 38 30 69]\n",
      " [74 45 63 65 76]\n",
      " [94 84 82 86 96]]\n"
     ]
    }
   ],
   "source": [
    "M = ri(1,100,25).reshape(5,5)  # Matrix of random integers\n",
    "print (\"\\n 5x5 matrix of random integers\\n\",'-'*50,\"\\n\",M)\n",
    "\n",
    "print(\"\\n Here is the sorted matrix along each row \\n\",'-'*50,\"\\n\",np.sort(M))  #Default axis = 1\n",
    "\n",
    "print (\"\\n Here is the sorted matrix along each column \\n\",'-'*50,\"\\n\",np.sort(M,axis = 0))"
   ]
  },
  {
   "cell_type": "markdown",
   "id": "dc03db2d",
   "metadata": {},
   "source": [
    "# Indexing and slicing"
   ]
  },
  {
   "cell_type": "code",
   "execution_count": 16,
   "id": "b91c9dde",
   "metadata": {},
   "outputs": [
    {
     "name": "stdout",
     "output_type": "stream",
     "text": [
      "Array:  [13 14 15 16 17 18 19 20 21 22 23 24 25 26 27 28 29]\n"
     ]
    }
   ],
   "source": [
    "arr = np.arange(13,30)\n",
    "\n",
    "print(\"Array: \",arr)"
   ]
  },
  {
   "cell_type": "code",
   "execution_count": 17,
   "id": "637c2f2d",
   "metadata": {},
   "outputs": [
    {
     "name": "stdout",
     "output_type": "stream",
     "text": [
      "Element at 7th index is: 20\n"
     ]
    }
   ],
   "source": [
    "print (\"Element at 7th index is:\",arr[7])"
   ]
  },
  {
   "cell_type": "code",
   "execution_count": 18,
   "id": "4326066d",
   "metadata": {},
   "outputs": [
    {
     "name": "stdout",
     "output_type": "stream",
     "text": [
      "Element from 3rd to 7th index are:  [16 17 18 19 20]\n"
     ]
    }
   ],
   "source": [
    "print (\"Element from 3rd to 7th index are: \",arr[3:8])"
   ]
  },
  {
   "cell_type": "code",
   "execution_count": 19,
   "id": "107c6007",
   "metadata": {},
   "outputs": [
    {
     "name": "stdout",
     "output_type": "stream",
     "text": [
      "Elements up to 4th index are: [17 18 19 20 21 22 23 24 25 26 27 28 29]\n"
     ]
    }
   ],
   "source": [
    "print (\"Elements up to 4th index are:\",arr[4:])"
   ]
  },
  {
   "cell_type": "code",
   "execution_count": 20,
   "id": "5676b851",
   "metadata": {},
   "outputs": [],
   "source": [
    "abc = arr[4:]  #store the data"
   ]
  },
  {
   "cell_type": "code",
   "execution_count": 21,
   "id": "5e93bc12",
   "metadata": {},
   "outputs": [
    {
     "data": {
      "text/plain": [
       "array([13, 14, 15, 16, 17, 18, 19, 20, 21, 22, 23, 24, 25, 26, 27, 28, 29])"
      ]
     },
     "execution_count": 21,
     "metadata": {},
     "output_type": "execute_result"
    }
   ],
   "source": [
    "arr"
   ]
  },
  {
   "cell_type": "code",
   "execution_count": 22,
   "id": "c57ee4bd",
   "metadata": {},
   "outputs": [
    {
     "name": "stdout",
     "output_type": "stream",
     "text": [
      "Elements from last backwards are: [29 27 25 23 21 19 17 15 13]\n"
     ]
    }
   ],
   "source": [
    "print(\"Elements from last backwards are:\",arr[-1::-2])"
   ]
  },
  {
   "cell_type": "code",
   "execution_count": 23,
   "id": "a7d383f1",
   "metadata": {},
   "outputs": [
    {
     "name": "stdout",
     "output_type": "stream",
     "text": [
      "7th Elements from last backwards are: [29 28 27 26 25 24 23]\n"
     ]
    }
   ],
   "source": [
    "print (\"7th Elements from last backwards are:\",arr[-1:-8:-1])"
   ]
  },
  {
   "cell_type": "code",
   "execution_count": 24,
   "id": "c83b267f",
   "metadata": {},
   "outputs": [
    {
     "name": "stdout",
     "output_type": "stream",
     "text": [
      "new array:  [ 0  3  6  9 12 15 18 21 24 27 30]\n"
     ]
    }
   ],
   "source": [
    "arr = np.arange(0,31,3)\n",
    "print(\"new array: \",arr)"
   ]
  },
  {
   "cell_type": "code",
   "execution_count": 25,
   "id": "a03afb1f",
   "metadata": {},
   "outputs": [
    {
     "name": "stdout",
     "output_type": "stream",
     "text": [
      "Element at 2nd,4th and 9th index are: [ 6 12 27]\n"
     ]
    }
   ],
   "source": [
    "print (\"Element at 2nd,4th and 9th index are:\",arr[[2,4,9]])  #pass a list as a index to subset"
   ]
  },
  {
   "cell_type": "code",
   "execution_count": 26,
   "id": "ca4fe96e",
   "metadata": {},
   "outputs": [
    {
     "data": {
      "text/plain": [
       "array([[1, 2, 3],\n",
       "       [4, 5, 6],\n",
       "       [7, 8, 9]])"
      ]
     },
     "execution_count": 26,
     "metadata": {},
     "output_type": "execute_result"
    }
   ],
   "source": [
    "my_mat =[[1,2,3],[4,5,6],[7,8,9]]\n",
    "\n",
    "mat = np.array(my_mat)\n",
    "\n",
    "mat"
   ]
  },
  {
   "cell_type": "code",
   "execution_count": 27,
   "id": "1a021c7c",
   "metadata": {},
   "outputs": [
    {
     "name": "stdout",
     "output_type": "stream",
     "text": [
      "\n",
      " double bracket indexing\n",
      "------------------------------------------------\n",
      "Element in raw index 1 and column index 2: 6\n"
     ]
    }
   ],
   "source": [
    "print(\"\\n double bracket indexing\\n------------------------------------------------\")\n",
    "\n",
    "print(\"Element in raw index 1 and column index 2:\",mat[1][2])"
   ]
  },
  {
   "cell_type": "code",
   "execution_count": 28,
   "id": "4ef78aab",
   "metadata": {},
   "outputs": [
    {
     "data": {
      "text/plain": [
       "array([[1, 2, 3],\n",
       "       [4, 5, 6],\n",
       "       [7, 8, 9]])"
      ]
     },
     "execution_count": 28,
     "metadata": {},
     "output_type": "execute_result"
    }
   ],
   "source": [
    "mat"
   ]
  },
  {
   "cell_type": "code",
   "execution_count": 29,
   "id": "9ea224dd",
   "metadata": {},
   "outputs": [
    {
     "name": "stdout",
     "output_type": "stream",
     "text": [
      "Entire row at index 2: [7 8 9]\n",
      "\n",
      " Entire column at index 3: \n",
      " [[2 3]\n",
      " [5 6]\n",
      " [8 9]]\n"
     ]
    }
   ],
   "source": [
    "print(\"Entire row at index 2:\",mat[2])\n",
    "\n",
    "print(\"\\n Entire column at index 3: \\n\",mat[:,1:])"
   ]
  },
  {
   "cell_type": "code",
   "execution_count": 30,
   "id": "797819df",
   "metadata": {},
   "outputs": [
    {
     "name": "stdout",
     "output_type": "stream",
     "text": [
      "\n",
      " subsetting sub matrices\n",
      "--------------------------------------------------\n",
      "Matrix with row indices 1 nd 2 column indices 3 and 4\n",
      " [[5]]\n"
     ]
    }
   ],
   "source": [
    "print(\"\\n subsetting sub matrices\\n--------------------------------------------------\")\n",
    "\n",
    "print(\"Matrix with row indices 1 nd 2 column indices 3 and 4\\n\",mat[1:2,1:2])"
   ]
  },
  {
   "cell_type": "code",
   "execution_count": 31,
   "id": "0ca026be",
   "metadata": {},
   "outputs": [
    {
     "data": {
      "text/plain": [
       "array([[1, 2, 3],\n",
       "       [4, 5, 6],\n",
       "       [7, 8, 9]])"
      ]
     },
     "execution_count": 31,
     "metadata": {},
     "output_type": "execute_result"
    }
   ],
   "source": [
    "mat"
   ]
  },
  {
   "cell_type": "code",
   "execution_count": 32,
   "id": "198db329",
   "metadata": {},
   "outputs": [
    {
     "name": "stdout",
     "output_type": "stream",
     "text": [
      " [[2 3]\n",
      " [5 6]]\n"
     ]
    }
   ],
   "source": [
    "print(\"\",mat[0:2,[1,2]])"
   ]
  },
  {
   "cell_type": "markdown",
   "id": "fa58a7b4",
   "metadata": {},
   "source": [
    "# Update Matrix"
   ]
  },
  {
   "cell_type": "code",
   "execution_count": 33,
   "id": "30219584",
   "metadata": {},
   "outputs": [
    {
     "name": "stdout",
     "output_type": "stream",
     "text": [
      "Original matrix \n",
      "\n",
      " [[1 2 3]\n",
      " [4 5 6]\n",
      " [7 8 9]]\n"
     ]
    }
   ],
   "source": [
    "print(\"Original matrix \\n\\n\",mat)"
   ]
  },
  {
   "cell_type": "code",
   "execution_count": 34,
   "id": "449dd53e",
   "metadata": {},
   "outputs": [
    {
     "name": "stdout",
     "output_type": "stream",
     "text": [
      "[[ 1 35  3]\n",
      " [ 4  5  6]\n",
      " [ 7  8  9]]\n"
     ]
    }
   ],
   "source": [
    "mat[0,1] = 35\n",
    "print(mat)"
   ]
  },
  {
   "cell_type": "code",
   "execution_count": 35,
   "id": "77638333",
   "metadata": {},
   "outputs": [
    {
     "data": {
      "text/plain": [
       "array([[ 1, 35,  3],\n",
       "       [ 4,  5,  6],\n",
       "       [ 7, 70,  9]])"
      ]
     },
     "execution_count": 35,
     "metadata": {},
     "output_type": "execute_result"
    }
   ],
   "source": [
    "mat [2,1] = 70\n",
    "mat"
   ]
  },
  {
   "cell_type": "markdown",
   "id": "3dc3de48",
   "metadata": {},
   "source": [
    "# Subseting"
   ]
  },
  {
   "cell_type": "code",
   "execution_count": 36,
   "id": "b41cdc77",
   "metadata": {},
   "outputs": [
    {
     "name": "stdout",
     "output_type": "stream",
     "text": [
      "mMatrix of random -2 digit numbers \n",
      "------------------------------------ \n",
      " [[69 63 17 35 32]\n",
      " [28 16 75 99 68]\n",
      " [22 52 99 77 41]]\n"
     ]
    }
   ],
   "source": [
    "mat = np.array(ri(10,100,15).reshape(3,5))\n",
    "\n",
    "print(\"mMatrix of random -2 digit numbers \\n------------------------------------ \\n\",mat )"
   ]
  },
  {
   "cell_type": "code",
   "execution_count": 37,
   "id": "768e7197",
   "metadata": {},
   "outputs": [
    {
     "data": {
      "text/plain": [
       "array([75, 99, 99, 77])"
      ]
     },
     "execution_count": 37,
     "metadata": {},
     "output_type": "execute_result"
    }
   ],
   "source": [
    "xyz = mat[mat>70]\n",
    "xyz"
   ]
  },
  {
   "cell_type": "code",
   "execution_count": 38,
   "id": "39507a74",
   "metadata": {},
   "outputs": [
    {
     "name": "stdout",
     "output_type": "stream",
     "text": [
      "Elements greater than 50 \n",
      "\n"
     ]
    },
    {
     "data": {
      "text/plain": [
       "array([69, 63, 75, 99, 68, 52, 99, 77])"
      ]
     },
     "execution_count": 38,
     "metadata": {},
     "output_type": "execute_result"
    }
   ],
   "source": [
    "print(\"Elements greater than 50 \\n\")\n",
    "mat[mat>50]"
   ]
  },
  {
   "cell_type": "code",
   "execution_count": 39,
   "id": "c2f868b2",
   "metadata": {},
   "outputs": [
    {
     "name": "stdout",
     "output_type": "stream",
     "text": [
      "(array([], dtype=int64), array([], dtype=int64))\n"
     ]
    }
   ],
   "source": [
    "print(np.where(mat == 55))"
   ]
  },
  {
   "cell_type": "code",
   "execution_count": 40,
   "id": "712e85e1",
   "metadata": {},
   "outputs": [
    {
     "name": "stdout",
     "output_type": "stream",
     "text": [
      "(array([], dtype=int64), array([], dtype=int64))\n"
     ]
    }
   ],
   "source": [
    "print(np.where(mat == 86))"
   ]
  },
  {
   "cell_type": "code",
   "execution_count": 53,
   "id": "f42f9cc3",
   "metadata": {},
   "outputs": [
    {
     "data": {
      "text/plain": [
       "array([[ True,  True, False, False, False],\n",
       "       [False, False,  True,  True,  True],\n",
       "       [False,  True,  True,  True, False]])"
      ]
     },
     "execution_count": 53,
     "metadata": {},
     "output_type": "execute_result"
    }
   ],
   "source": [
    "mat >50"
   ]
  },
  {
   "cell_type": "code",
   "execution_count": 54,
   "id": "0e5dad29",
   "metadata": {},
   "outputs": [
    {
     "data": {
      "text/plain": [
       "array('Pass', dtype='<U4')"
      ]
     },
     "execution_count": 54,
     "metadata": {},
     "output_type": "execute_result"
    }
   ],
   "source": [
    "# You can also use np.where to return some data based on condition\n",
    "marks = 70\n",
    "np.where(marks >65,'Pass','Fail')"
   ]
  },
  {
   "cell_type": "code",
   "execution_count": 56,
   "id": "875cf748",
   "metadata": {},
   "outputs": [
    {
     "name": "stdout",
     "output_type": "stream",
     "text": [
      "[ 39  24   9  -1   5   2  35  -8  33  -7  35  19  27  31  -1  28  20   2\n",
      "   6  36  44  17 -10  26  33  42  -6   8  37  41   8  -9   6  35  29  37\n",
      "  13  18  39  25  38  14  -4  14  -4  -3   8  36  39  44   1  30  40  12\n",
      "   2  18  30  17   0  22  37  43  33   8  38  16  -2  18  22  27  -7  17\n",
      "  24   4  48  -5  18  47   9   0  48  35  17  -2  31  -5  -9   6  14  49\n",
      "   9   1   4  37   2  49  36  20  49  42]\n"
     ]
    },
    {
     "data": {
      "text/plain": [
       "98"
      ]
     },
     "execution_count": 56,
     "metadata": {},
     "output_type": "execute_result"
    }
   ],
   "source": [
    "# Check non zeros\n",
    "non_zeros = ri(-10,50,100)\n",
    "\n",
    "print(non_zeros)\n",
    "\n",
    "np.count_nonzero(non_zeros)"
   ]
  },
  {
   "cell_type": "code",
   "execution_count": 59,
   "id": "8fa9ba20",
   "metadata": {},
   "outputs": [
    {
     "name": "stdout",
     "output_type": "stream",
     "text": [
      "[[ 1 17  6  3]\n",
      " [14 15  0 19]\n",
      " [13  3 10  9]]\n"
     ]
    },
    {
     "data": {
      "text/plain": [
       "array([ 1, 17,  6,  3, 14, 15,  0, 19, 13,  3, 10,  9])"
      ]
     },
     "execution_count": 59,
     "metadata": {},
     "output_type": "execute_result"
    }
   ],
   "source": [
    "# Ravel or Flatten (This concept is used in deep learning for image processing)\n",
    "array = np.random.randint(0, 20, size = (3, 4))\n",
    "print(array)\n",
    "\n",
    "array.ravel()"
   ]
  },
  {
   "cell_type": "code",
   "execution_count": 60,
   "id": "c44e63ef",
   "metadata": {},
   "outputs": [
    {
     "data": {
      "text/plain": [
       "array([ 1, 17,  6,  3, 14, 15,  0, 19, 13,  3, 10,  9])"
      ]
     },
     "execution_count": 60,
     "metadata": {},
     "output_type": "execute_result"
    }
   ],
   "source": [
    "# or Flatten both are same\n",
    "array.flatten()"
   ]
  },
  {
   "cell_type": "markdown",
   "id": "ec2ae27c",
   "metadata": {},
   "source": [
    "# Universal function"
   ]
  },
  {
   "cell_type": "code",
   "execution_count": 41,
   "id": "7fe35914",
   "metadata": {},
   "outputs": [
    {
     "name": "stdout",
     "output_type": "stream",
     "text": [
      "\n",
      " 1st matrix of random single - digit numbers \n",
      "-------------------------------\n",
      " [[1 9 2]\n",
      " [1 9 6]\n",
      " [4 9 8]]\n",
      "\n",
      " 2nd matrix of random single - digit numbers \n",
      "-------------------------------\n",
      " [[5 7 8]\n",
      " [9 3 2]\n",
      " [5 5 5]]\n"
     ]
    }
   ],
   "source": [
    "mat1 = np.array(ri(1,10,9)).reshape(3,3)\n",
    "\n",
    "mat2 = np.array(ri(1,10,9)).reshape(3,3)\n",
    "\n",
    "\n",
    "print(\"\\n 1st matrix of random single - digit numbers \\n-------------------------------\\n\",mat1)\n",
    "\n",
    "print(\"\\n 2nd matrix of random single - digit numbers \\n-------------------------------\\n\",mat2)"
   ]
  },
  {
   "cell_type": "code",
   "execution_count": 42,
   "id": "eb095fbf",
   "metadata": {},
   "outputs": [
    {
     "name": "stdout",
     "output_type": "stream",
     "text": [
      "mat1 = \n",
      " [[1 9 2]\n",
      " [1 9 6]\n",
      " [4 9 8]]\n",
      "mat2 = \n",
      " [[5 7 8]\n",
      " [9 3 2]\n",
      " [5 5 5]]\n"
     ]
    }
   ],
   "source": [
    "print(\"mat1 = \\n\",mat1)\n",
    "print(\"mat2 = \\n\",mat2)"
   ]
  },
  {
   "cell_type": "code",
   "execution_count": 64,
   "id": "c68d59b1",
   "metadata": {},
   "outputs": [
    {
     "name": "stdout",
     "output_type": "stream",
     "text": [
      "\n",
      " division \n",
      "---------------------------------------\n",
      " [[1.         6.         0.66666667]\n",
      " [0.375      1.         0.375     ]\n",
      " [0.5        2.5        0.88888889]]\n",
      "\n",
      " Liner combination: 3*A -2*B \n",
      "-----------------------------------------\n",
      " [[ 9 16  0]\n",
      " [-7  5 -7]\n",
      " [-3 11  6]]\n"
     ]
    }
   ],
   "source": [
    "print(\"\\n division \\n---------------------------------------\\n\",mat1/mat2)\n",
    "\n",
    "print(\"\\n Liner combination: 3*A -2*B \\n-----------------------------------------\\n\",      3*mat1 - 2*mat2)"
   ]
  },
  {
   "cell_type": "code",
   "execution_count": 62,
   "id": "0ec48555",
   "metadata": {},
   "outputs": [
    {
     "name": "stdout",
     "output_type": "stream",
     "text": [
      "\n",
      " Addition \n",
      "***************************\n",
      " [[18  7 10]\n",
      " [11 10 11]\n",
      " [ 9  7 17]]\n"
     ]
    }
   ],
   "source": [
    "print('\\n Addition \\n***************************\\n',             mat1+mat2)              "
   ]
  },
  {
   "cell_type": "markdown",
   "id": "e1a2ef48",
   "metadata": {},
   "source": [
    "# Broadcasting"
   ]
  },
  {
   "cell_type": "code",
   "execution_count": 44,
   "id": "f72b13fe",
   "metadata": {},
   "outputs": [
    {
     "name": "stdout",
     "output_type": "stream",
     "text": [
      "[[0. 0. 0.]\n",
      " [0. 0. 0.]\n",
      " [0. 0. 0.]]\n"
     ]
    }
   ],
   "source": [
    "start = np.zeros((3,3))\n",
    "print(start)"
   ]
  },
  {
   "cell_type": "code",
   "execution_count": 45,
   "id": "13ecf000",
   "metadata": {},
   "outputs": [
    {
     "name": "stdout",
     "output_type": "stream",
     "text": [
      "[[1 0 2]]\n"
     ]
    }
   ],
   "source": [
    "# create a rank 1 ndarray with 3 values\n",
    "add_rows =np.array([[1,0,2]])\n",
    "print(add_rows)"
   ]
  },
  {
   "cell_type": "code",
   "execution_count": 46,
   "id": "308ebf3c",
   "metadata": {},
   "outputs": [
    {
     "name": "stdout",
     "output_type": "stream",
     "text": [
      "[[1. 0. 2.]\n",
      " [1. 0. 2.]\n",
      " [1. 0. 2.]]\n"
     ]
    }
   ],
   "source": [
    "y = start + add_rows  #add to each row of 'start' using broadcasting\n",
    "print(y)"
   ]
  },
  {
   "cell_type": "code",
   "execution_count": 47,
   "id": "32331dca",
   "metadata": {},
   "outputs": [
    {
     "data": {
      "text/plain": [
       "array([[1],\n",
       "       [0],\n",
       "       [2]])"
      ]
     },
     "execution_count": 47,
     "metadata": {},
     "output_type": "execute_result"
    }
   ],
   "source": [
    "new_rows = add_rows.T\n",
    "new_rows"
   ]
  },
  {
   "cell_type": "code",
   "execution_count": 48,
   "id": "0d1749df",
   "metadata": {},
   "outputs": [
    {
     "name": "stdout",
     "output_type": "stream",
     "text": [
      "[[1. 1. 1.]\n",
      " [0. 0. 0.]\n",
      " [2. 2. 2.]]\n"
     ]
    }
   ],
   "source": [
    "test = new_rows + start\n",
    "print(test)"
   ]
  },
  {
   "cell_type": "code",
   "execution_count": 49,
   "id": "8101f9c4",
   "metadata": {},
   "outputs": [
    {
     "data": {
      "text/plain": [
       "array([[[0]],\n",
       "\n",
       "       [[1]],\n",
       "\n",
       "       [[2]],\n",
       "\n",
       "       [[3]]])"
      ]
     },
     "execution_count": 49,
     "metadata": {},
     "output_type": "execute_result"
    }
   ],
   "source": [
    "#create an ndarray which is 4 x 1 to broadcast across columns\n",
    "add_cols = np.array([[[0,1,2,3]]])\n",
    "\n",
    "add_cols = add_cols.T\n",
    "\n",
    "add_cols"
   ]
  },
  {
   "cell_type": "markdown",
   "id": "62718dd8",
   "metadata": {},
   "source": [
    "## Array Math"
   ]
  },
  {
   "cell_type": "code",
   "execution_count": 50,
   "id": "0ed02d81",
   "metadata": {},
   "outputs": [
    {
     "name": "stdout",
     "output_type": "stream",
     "text": [
      "\n",
      " 1st matrix of random single-digit numbers \n",
      "--------------------------------------------\n",
      "\n",
      "\n",
      " 2nd matrix of random single-digit numbers \n",
      "--------------------------------------------\n",
      "\n"
     ]
    },
    {
     "data": {
      "text/plain": [
       "(None,\n",
       " array([[9, 1, 6],\n",
       "        [8, 5, 8],\n",
       "        [6, 2, 9]]))"
      ]
     },
     "execution_count": 50,
     "metadata": {},
     "output_type": "execute_result"
    }
   ],
   "source": [
    "mat1 = np.array(ri(1,10,9)).reshape(3,3)\n",
    "mat2 = np.array(ri(1,10,9)).reshape(3,3)\n",
    "\n",
    "print(\"\\n 1st matrix of random single-digit numbers \\n--------------------------------------------\\n\"),mat1\n",
    "print(\"\\n 2nd matrix of random single-digit numbers \\n--------------------------------------------\\n\"),mat2"
   ]
  },
  {
   "cell_type": "code",
   "execution_count": 51,
   "id": "b27dec79",
   "metadata": {},
   "outputs": [
    {
     "name": "stdout",
     "output_type": "stream",
     "text": [
      "\n",
      " sq-root of 1st matrix using np\n",
      "----------------------------------------------\n",
      "\n"
     ]
    },
    {
     "data": {
      "text/plain": [
       "(None,\n",
       " array([[3.        , 2.44948974, 2.        ],\n",
       "        [1.73205081, 2.23606798, 1.73205081],\n",
       "        [1.73205081, 2.23606798, 2.82842712]]))"
      ]
     },
     "execution_count": 51,
     "metadata": {},
     "output_type": "execute_result"
    }
   ],
   "source": [
    "print(\"\\n sq-root of 1st matrix using np\\n----------------------------------------------\\n\"),np.sqrt(mat1)\n",
    "\n"
   ]
  },
  {
   "cell_type": "code",
   "execution_count": 52,
   "id": "6f094e80",
   "metadata": {},
   "outputs": [
    {
     "name": "stdout",
     "output_type": "stream",
     "text": [
      "\n",
      " square of 1st matrix using np\n",
      "----------------------------------------------\n",
      "\n"
     ]
    },
    {
     "data": {
      "text/plain": [
       "(None,\n",
       " array([[81, 36, 16],\n",
       "        [ 9, 25,  9],\n",
       "        [ 9, 25, 64]], dtype=int32))"
      ]
     },
     "execution_count": 52,
     "metadata": {},
     "output_type": "execute_result"
    }
   ],
   "source": [
    "print(\"\\n square of 1st matrix using np\\n----------------------------------------------\\n\"),np.square(mat1)"
   ]
  },
  {
   "cell_type": "code",
   "execution_count": null,
   "id": "3595bf1c",
   "metadata": {},
   "outputs": [],
   "source": []
  }
 ],
 "metadata": {
  "kernelspec": {
   "display_name": "Python 3 (ipykernel)",
   "language": "python",
   "name": "python3"
  },
  "language_info": {
   "codemirror_mode": {
    "name": "ipython",
    "version": 3
   },
   "file_extension": ".py",
   "mimetype": "text/x-python",
   "name": "python",
   "nbconvert_exporter": "python",
   "pygments_lexer": "ipython3",
   "version": "3.9.12"
  }
 },
 "nbformat": 4,
 "nbformat_minor": 5
}
