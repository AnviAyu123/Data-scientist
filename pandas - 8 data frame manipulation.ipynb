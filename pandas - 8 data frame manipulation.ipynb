{
 "cells": [
  {
   "cell_type": "markdown",
   "id": "3f6c10cd",
   "metadata": {},
   "source": [
    "# Data Frame Manipulation"
   ]
  },
  {
   "cell_type": "code",
   "execution_count": 1,
   "id": "61fe2056",
   "metadata": {},
   "outputs": [],
   "source": [
    "import pandas as pd\n",
    "import numpy as np\n",
    "\n",
    "import warnings\n",
    "warnings.filterwarnings('ignore')"
   ]
  },
  {
   "cell_type": "code",
   "execution_count": 2,
   "id": "69e14940",
   "metadata": {},
   "outputs": [],
   "source": [
    "matrix_data = np.matrix('22,66,140;42,70,148;30,62,125;35,68,160;25,62,152')\n",
    "\n",
    "raw_labels = ['Raju','Pandey','Srini','Sunil','Ashok']\n",
    "\n",
    "column_headings = ['Age','Height','Weight']"
   ]
  },
  {
   "cell_type": "code",
   "execution_count": 3,
   "id": "b0a823aa",
   "metadata": {},
   "outputs": [
    {
     "name": "stdout",
     "output_type": "stream",
     "text": [
      "\n",
      " A new DataFrame \n",
      "--------------------------------------------------\n",
      "        Age  Height  Weight\n",
      "Raju     22      66     140\n",
      "Pandey   42      70     148\n",
      "Srini    30      62     125\n",
      "Sunil    35      68     160\n",
      "Ashok    25      62     152\n"
     ]
    }
   ],
   "source": [
    "df =pd.DataFrame(data=matrix_data, index=raw_labels, columns=column_headings)\n",
    "\n",
    "print('\\n A new DataFrame \\n','-'*50,sep='')\n",
    "\n",
    "print(df)"
   ]
  },
  {
   "cell_type": "code",
   "execution_count": 4,
   "id": "4fb302d7",
   "metadata": {},
   "outputs": [
    {
     "name": "stdout",
     "output_type": "stream",
     "text": [
      "\n",
      " The height column\n",
      "--------------------------------------------------\n",
      "Raju      66\n",
      "Pandey    70\n",
      "Srini     62\n",
      "Sunil     68\n",
      "Ashok     62\n",
      "Name: Height, dtype: int32\n"
     ]
    }
   ],
   "source": [
    "print('\\n The height column\\n','-'*50,sep='')\n",
    "\n",
    "print(df['Height'])"
   ]
  },
  {
   "cell_type": "code",
   "execution_count": 5,
   "id": "3b284d45",
   "metadata": {},
   "outputs": [
    {
     "name": "stdout",
     "output_type": "stream",
     "text": [
      "\n",
      " The height & Weight columns indexed by passing a list\n",
      "--------------------------------------------------\n",
      "        Height  Weight\n",
      "Raju        66     140\n",
      "Pandey      70     148\n",
      "Srini       62     125\n",
      "Sunil       68     160\n",
      "Ashok       62     152\n"
     ]
    }
   ],
   "source": [
    "print('\\n The height & Weight columns indexed by passing a list\\n','-'*50,sep='')\n",
    "\n",
    "print(df[['Height','Weight']])"
   ]
  },
  {
   "cell_type": "code",
   "execution_count": 6,
   "id": "5f34adef",
   "metadata": {},
   "outputs": [],
   "source": [
    "only_ht_wt =df[['Height','Weight']] "
   ]
  },
  {
   "cell_type": "code",
   "execution_count": 7,
   "id": "0cf7d6aa",
   "metadata": {},
   "outputs": [
    {
     "data": {
      "text/html": [
       "<div>\n",
       "<style scoped>\n",
       "    .dataframe tbody tr th:only-of-type {\n",
       "        vertical-align: middle;\n",
       "    }\n",
       "\n",
       "    .dataframe tbody tr th {\n",
       "        vertical-align: top;\n",
       "    }\n",
       "\n",
       "    .dataframe thead th {\n",
       "        text-align: right;\n",
       "    }\n",
       "</style>\n",
       "<table border=\"1\" class=\"dataframe\">\n",
       "  <thead>\n",
       "    <tr style=\"text-align: right;\">\n",
       "      <th></th>\n",
       "      <th>Height</th>\n",
       "      <th>Weight</th>\n",
       "    </tr>\n",
       "  </thead>\n",
       "  <tbody>\n",
       "    <tr>\n",
       "      <th>Raju</th>\n",
       "      <td>66</td>\n",
       "      <td>140</td>\n",
       "    </tr>\n",
       "    <tr>\n",
       "      <th>Pandey</th>\n",
       "      <td>70</td>\n",
       "      <td>148</td>\n",
       "    </tr>\n",
       "    <tr>\n",
       "      <th>Srini</th>\n",
       "      <td>62</td>\n",
       "      <td>125</td>\n",
       "    </tr>\n",
       "    <tr>\n",
       "      <th>Sunil</th>\n",
       "      <td>68</td>\n",
       "      <td>160</td>\n",
       "    </tr>\n",
       "    <tr>\n",
       "      <th>Ashok</th>\n",
       "      <td>62</td>\n",
       "      <td>152</td>\n",
       "    </tr>\n",
       "  </tbody>\n",
       "</table>\n",
       "</div>"
      ],
      "text/plain": [
       "        Height  Weight\n",
       "Raju        66     140\n",
       "Pandey      70     148\n",
       "Srini       62     125\n",
       "Sunil       68     160\n",
       "Ashok       62     152"
      ]
     },
     "execution_count": 7,
     "metadata": {},
     "output_type": "execute_result"
    }
   ],
   "source": [
    "only_ht_wt"
   ]
  },
  {
   "cell_type": "code",
   "execution_count": 8,
   "id": "68db06bf",
   "metadata": {},
   "outputs": [
    {
     "name": "stdout",
     "output_type": "stream",
     "text": [
      "\n",
      " The \"Age\" column accessed by DON method (NOT RECOMMENDED) \n",
      "--------------------------------------------------\n",
      "Raju      22\n",
      "Pandey    42\n",
      "Srini     30\n",
      "Sunil     35\n",
      "Ashok     25\n",
      "Name: Age, dtype: int32\n"
     ]
    }
   ],
   "source": [
    "print('\\n The \"Age\" column accessed by DON method (NOT RECOMMENDED) \\n','-'*50 ,sep ='')\n",
    "print (df.Age)   # You can access only one column at a time"
   ]
  },
  {
   "cell_type": "markdown",
   "id": "d8c5fa91",
   "metadata": {},
   "source": [
    "#### Let's Understand slicing particular element"
   ]
  },
  {
   "cell_type": "code",
   "execution_count": 9,
   "id": "22eb8b9d",
   "metadata": {},
   "outputs": [
    {
     "data": {
      "text/html": [
       "<div>\n",
       "<style scoped>\n",
       "    .dataframe tbody tr th:only-of-type {\n",
       "        vertical-align: middle;\n",
       "    }\n",
       "\n",
       "    .dataframe tbody tr th {\n",
       "        vertical-align: top;\n",
       "    }\n",
       "\n",
       "    .dataframe thead th {\n",
       "        text-align: right;\n",
       "    }\n",
       "</style>\n",
       "<table border=\"1\" class=\"dataframe\">\n",
       "  <thead>\n",
       "    <tr style=\"text-align: right;\">\n",
       "      <th></th>\n",
       "      <th>Age</th>\n",
       "      <th>Height</th>\n",
       "      <th>Weight</th>\n",
       "    </tr>\n",
       "  </thead>\n",
       "  <tbody>\n",
       "    <tr>\n",
       "      <th>Raju</th>\n",
       "      <td>22</td>\n",
       "      <td>66</td>\n",
       "      <td>140</td>\n",
       "    </tr>\n",
       "    <tr>\n",
       "      <th>Pandey</th>\n",
       "      <td>42</td>\n",
       "      <td>70</td>\n",
       "      <td>148</td>\n",
       "    </tr>\n",
       "    <tr>\n",
       "      <th>Srini</th>\n",
       "      <td>30</td>\n",
       "      <td>62</td>\n",
       "      <td>125</td>\n",
       "    </tr>\n",
       "    <tr>\n",
       "      <th>Sunil</th>\n",
       "      <td>35</td>\n",
       "      <td>68</td>\n",
       "      <td>160</td>\n",
       "    </tr>\n",
       "    <tr>\n",
       "      <th>Ashok</th>\n",
       "      <td>25</td>\n",
       "      <td>62</td>\n",
       "      <td>152</td>\n",
       "    </tr>\n",
       "  </tbody>\n",
       "</table>\n",
       "</div>"
      ],
      "text/plain": [
       "        Age  Height  Weight\n",
       "Raju     22      66     140\n",
       "Pandey   42      70     148\n",
       "Srini    30      62     125\n",
       "Sunil    35      68     160\n",
       "Ashok    25      62     152"
      ]
     },
     "execution_count": 9,
     "metadata": {},
     "output_type": "execute_result"
    }
   ],
   "source": [
    "df"
   ]
  },
  {
   "cell_type": "code",
   "execution_count": 10,
   "id": "e92a17ee",
   "metadata": {},
   "outputs": [
    {
     "data": {
      "text/plain": [
       "Age        22\n",
       "Height     66\n",
       "Weight    140\n",
       "Name: Raju, dtype: int32"
      ]
     },
     "execution_count": 10,
     "metadata": {},
     "output_type": "execute_result"
    }
   ],
   "source": [
    "df.loc['Raju']"
   ]
  },
  {
   "cell_type": "code",
   "execution_count": 11,
   "id": "a41f3b46",
   "metadata": {},
   "outputs": [
    {
     "data": {
      "text/plain": [
       "Age        22\n",
       "Height     66\n",
       "Weight    140\n",
       "Name: Raju, dtype: int32"
      ]
     },
     "execution_count": 11,
     "metadata": {},
     "output_type": "execute_result"
    }
   ],
   "source": [
    "df.iloc[0]"
   ]
  },
  {
   "cell_type": "code",
   "execution_count": 12,
   "id": "48726515",
   "metadata": {},
   "outputs": [
    {
     "name": "stdout",
     "output_type": "stream",
     "text": [
      "        Age  Height  Weight\n",
      "Raju     22      66     140\n",
      "Pandey   42      70     148\n",
      "Srini    30      62     125\n",
      "Sunil    35      68     160\n",
      "Ashok    25      62     152\n"
     ]
    }
   ],
   "source": [
    "print(df)"
   ]
  },
  {
   "cell_type": "markdown",
   "id": "e544da4a",
   "metadata": {},
   "source": [
    "## let's understand slicing perticular element"
   ]
  },
  {
   "cell_type": "code",
   "execution_count": 13,
   "id": "a35b5dd8",
   "metadata": {},
   "outputs": [
    {
     "data": {
      "text/html": [
       "<div>\n",
       "<style scoped>\n",
       "    .dataframe tbody tr th:only-of-type {\n",
       "        vertical-align: middle;\n",
       "    }\n",
       "\n",
       "    .dataframe tbody tr th {\n",
       "        vertical-align: top;\n",
       "    }\n",
       "\n",
       "    .dataframe thead th {\n",
       "        text-align: right;\n",
       "    }\n",
       "</style>\n",
       "<table border=\"1\" class=\"dataframe\">\n",
       "  <thead>\n",
       "    <tr style=\"text-align: right;\">\n",
       "      <th></th>\n",
       "      <th>Age</th>\n",
       "      <th>Height</th>\n",
       "      <th>Weight</th>\n",
       "    </tr>\n",
       "  </thead>\n",
       "  <tbody>\n",
       "    <tr>\n",
       "      <th>Raju</th>\n",
       "      <td>22</td>\n",
       "      <td>66</td>\n",
       "      <td>140</td>\n",
       "    </tr>\n",
       "    <tr>\n",
       "      <th>Pandey</th>\n",
       "      <td>42</td>\n",
       "      <td>70</td>\n",
       "      <td>148</td>\n",
       "    </tr>\n",
       "    <tr>\n",
       "      <th>Srini</th>\n",
       "      <td>30</td>\n",
       "      <td>62</td>\n",
       "      <td>125</td>\n",
       "    </tr>\n",
       "    <tr>\n",
       "      <th>Sunil</th>\n",
       "      <td>35</td>\n",
       "      <td>68</td>\n",
       "      <td>160</td>\n",
       "    </tr>\n",
       "    <tr>\n",
       "      <th>Ashok</th>\n",
       "      <td>25</td>\n",
       "      <td>62</td>\n",
       "      <td>152</td>\n",
       "    </tr>\n",
       "  </tbody>\n",
       "</table>\n",
       "</div>"
      ],
      "text/plain": [
       "        Age  Height  Weight\n",
       "Raju     22      66     140\n",
       "Pandey   42      70     148\n",
       "Srini    30      62     125\n",
       "Sunil    35      68     160\n",
       "Ashok    25      62     152"
      ]
     },
     "execution_count": 13,
     "metadata": {},
     "output_type": "execute_result"
    }
   ],
   "source": [
    "df"
   ]
  },
  {
   "cell_type": "code",
   "execution_count": 14,
   "id": "01fde5d4",
   "metadata": {},
   "outputs": [
    {
     "data": {
      "text/plain": [
       "Age        22\n",
       "Height     66\n",
       "Weight    140\n",
       "Name: Raju, dtype: int32"
      ]
     },
     "execution_count": 14,
     "metadata": {},
     "output_type": "execute_result"
    }
   ],
   "source": [
    "# seleccted particular index data using loc(index name)\n",
    "df.loc['Raju']"
   ]
  },
  {
   "cell_type": "code",
   "execution_count": 21,
   "id": "14f0b39b",
   "metadata": {},
   "outputs": [
    {
     "name": "stdout",
     "output_type": "stream",
     "text": [
      "\n",
      " Select Index and column for a particular data  \n",
      "\n",
      "70\n"
     ]
    }
   ],
   "source": [
    "print('\\n Select Index and column for a particular data  \\n')\n",
    "print(df.loc['Pandey','Height'])"
   ]
  },
  {
   "cell_type": "code",
   "execution_count": 22,
   "id": "9fea458f",
   "metadata": {},
   "outputs": [
    {
     "name": "stdout",
     "output_type": "stream",
     "text": [
      "Select index and list of columns data\n",
      "\n",
      "Height     62\n",
      "Weight    152\n",
      "Name: Ashok, dtype: int32\n"
     ]
    }
   ],
   "source": [
    "print('Select index and list of columns data\\n')\n",
    "print(df.loc['Ashok',['Height','Weight']])"
   ]
  },
  {
   "cell_type": "code",
   "execution_count": 25,
   "id": "f3ac7e91",
   "metadata": {},
   "outputs": [
    {
     "name": "stdout",
     "output_type": "stream",
     "text": [
      "Select list of index and columns data \n",
      "\n",
      "       Height  Weight\n",
      "Srini      62     125\n",
      "Sunil      68     160\n"
     ]
    }
   ],
   "source": [
    "print('Select list of index and columns data \\n')\n",
    "print(df.loc[['Srini','Sunil'],['Height','Weight']])"
   ]
  },
  {
   "cell_type": "code",
   "execution_count": 24,
   "id": "02d3e0f4",
   "metadata": {},
   "outputs": [
    {
     "data": {
      "text/html": [
       "<div>\n",
       "<style scoped>\n",
       "    .dataframe tbody tr th:only-of-type {\n",
       "        vertical-align: middle;\n",
       "    }\n",
       "\n",
       "    .dataframe tbody tr th {\n",
       "        vertical-align: top;\n",
       "    }\n",
       "\n",
       "    .dataframe thead th {\n",
       "        text-align: right;\n",
       "    }\n",
       "</style>\n",
       "<table border=\"1\" class=\"dataframe\">\n",
       "  <thead>\n",
       "    <tr style=\"text-align: right;\">\n",
       "      <th></th>\n",
       "      <th>Age</th>\n",
       "      <th>Height</th>\n",
       "      <th>Weight</th>\n",
       "    </tr>\n",
       "  </thead>\n",
       "  <tbody>\n",
       "    <tr>\n",
       "      <th>Raju</th>\n",
       "      <td>22</td>\n",
       "      <td>66</td>\n",
       "      <td>140</td>\n",
       "    </tr>\n",
       "    <tr>\n",
       "      <th>Pandey</th>\n",
       "      <td>42</td>\n",
       "      <td>70</td>\n",
       "      <td>148</td>\n",
       "    </tr>\n",
       "    <tr>\n",
       "      <th>Srini</th>\n",
       "      <td>30</td>\n",
       "      <td>62</td>\n",
       "      <td>125</td>\n",
       "    </tr>\n",
       "    <tr>\n",
       "      <th>Sunil</th>\n",
       "      <td>35</td>\n",
       "      <td>68</td>\n",
       "      <td>160</td>\n",
       "    </tr>\n",
       "    <tr>\n",
       "      <th>Ashok</th>\n",
       "      <td>25</td>\n",
       "      <td>62</td>\n",
       "      <td>152</td>\n",
       "    </tr>\n",
       "  </tbody>\n",
       "</table>\n",
       "</div>"
      ],
      "text/plain": [
       "        Age  Height  Weight\n",
       "Raju     22      66     140\n",
       "Pandey   42      70     148\n",
       "Srini    30      62     125\n",
       "Sunil    35      68     160\n",
       "Ashok    25      62     152"
      ]
     },
     "execution_count": 24,
     "metadata": {},
     "output_type": "execute_result"
    }
   ],
   "source": [
    "df"
   ]
  },
  {
   "cell_type": "markdown",
   "id": "7bbf1219",
   "metadata": {},
   "source": [
    "## select data on condition"
   ]
  },
  {
   "cell_type": "code",
   "execution_count": 15,
   "id": "fd745c5b",
   "metadata": {},
   "outputs": [
    {
     "name": "stdout",
     "output_type": "stream",
     "text": [
      "\n",
      " Rows with Height > 65 inch \n",
      "-----------------------------------\n",
      "        Age  Height  Weight\n",
      "Raju     22      66     140\n",
      "Pandey   42      70     148\n",
      "Sunil    35      68     160\n"
     ]
    }
   ],
   "source": [
    "print(\"\\n Rows with Height > 65 inch \\n\",'-'*35,sep='')\n",
    "print(df[df['Height']>65])"
   ]
  },
  {
   "cell_type": "code",
   "execution_count": 16,
   "id": "b69d4723",
   "metadata": {},
   "outputs": [],
   "source": [
    "booldf1 =df['Height']>65\n",
    "booldf2 = df['Weight']>145"
   ]
  },
  {
   "cell_type": "code",
   "execution_count": 17,
   "id": "816eafa3",
   "metadata": {},
   "outputs": [
    {
     "name": "stdout",
     "output_type": "stream",
     "text": [
      "\n",
      " Rows with Height > 65 inch and Weight >145 lbs \n",
      "-------------------------------------------------------\n",
      "        Age  Height  Weight\n",
      "Pandey   42      70     148\n",
      "Sunil    35      68     160\n"
     ]
    }
   ],
   "source": [
    "print(\"\\n Rows with Height > 65 inch and Weight >145 lbs \\n\",'-'*55,sep = '')\n",
    "print(df[(booldf1) & (booldf2)])"
   ]
  },
  {
   "cell_type": "code",
   "execution_count": 18,
   "id": "429e4078",
   "metadata": {},
   "outputs": [
    {
     "name": "stdout",
     "output_type": "stream",
     "text": [
      "\n",
      " DataFrame with only Age and Weight columns whose Height > 65 inch \n",
      "--------------------------------------------------\n",
      "        Age  Weight\n",
      "Raju     22     140\n",
      "Pandey   42     148\n",
      "Sunil    35     160\n"
     ]
    }
   ],
   "source": [
    "print(\"\\n DataFrame with only Age and Weight columns whose Height > 65 inch \\n\",'-'*50,sep ='')\n",
    "print(df[booldf1][['Age','Weight']])"
   ]
  },
  {
   "cell_type": "code",
   "execution_count": 19,
   "id": "e8366150",
   "metadata": {},
   "outputs": [],
   "source": [
    "selected_candidates = df[booldf1][['Age','Weight']]"
   ]
  },
  {
   "cell_type": "code",
   "execution_count": 20,
   "id": "adadaaef",
   "metadata": {},
   "outputs": [
    {
     "name": "stdout",
     "output_type": "stream",
     "text": [
      "        Age  Weight\n",
      "Raju     22     140\n",
      "Pandey   42     148\n",
      "Sunil    35     160\n"
     ]
    }
   ],
   "source": [
    "print (selected_candidates)"
   ]
  },
  {
   "cell_type": "code",
   "execution_count": 26,
   "id": "6e5acdbd",
   "metadata": {},
   "outputs": [
    {
     "data": {
      "text/html": [
       "<div>\n",
       "<style scoped>\n",
       "    .dataframe tbody tr th:only-of-type {\n",
       "        vertical-align: middle;\n",
       "    }\n",
       "\n",
       "    .dataframe tbody tr th {\n",
       "        vertical-align: top;\n",
       "    }\n",
       "\n",
       "    .dataframe thead th {\n",
       "        text-align: right;\n",
       "    }\n",
       "</style>\n",
       "<table border=\"1\" class=\"dataframe\">\n",
       "  <thead>\n",
       "    <tr style=\"text-align: right;\">\n",
       "      <th></th>\n",
       "      <th>Age</th>\n",
       "      <th>Height</th>\n",
       "      <th>Weight</th>\n",
       "    </tr>\n",
       "  </thead>\n",
       "  <tbody>\n",
       "    <tr>\n",
       "      <th>Raju</th>\n",
       "      <td>22</td>\n",
       "      <td>66</td>\n",
       "      <td>140</td>\n",
       "    </tr>\n",
       "    <tr>\n",
       "      <th>Pandey</th>\n",
       "      <td>42</td>\n",
       "      <td>70</td>\n",
       "      <td>148</td>\n",
       "    </tr>\n",
       "    <tr>\n",
       "      <th>Srini</th>\n",
       "      <td>30</td>\n",
       "      <td>62</td>\n",
       "      <td>125</td>\n",
       "    </tr>\n",
       "    <tr>\n",
       "      <th>Sunil</th>\n",
       "      <td>35</td>\n",
       "      <td>68</td>\n",
       "      <td>160</td>\n",
       "    </tr>\n",
       "    <tr>\n",
       "      <th>Ashok</th>\n",
       "      <td>25</td>\n",
       "      <td>62</td>\n",
       "      <td>152</td>\n",
       "    </tr>\n",
       "  </tbody>\n",
       "</table>\n",
       "</div>"
      ],
      "text/plain": [
       "        Age  Height  Weight\n",
       "Raju     22      66     140\n",
       "Pandey   42      70     148\n",
       "Srini    30      62     125\n",
       "Sunil    35      68     160\n",
       "Ashok    25      62     152"
      ]
     },
     "execution_count": 26,
     "metadata": {},
     "output_type": "execute_result"
    }
   ],
   "source": [
    "df"
   ]
  },
  {
   "cell_type": "code",
   "execution_count": 27,
   "id": "f1b471a3",
   "metadata": {},
   "outputs": [
    {
     "name": "stdout",
     "output_type": "stream",
     "text": [
      "\n",
      " After resetting index\n",
      "--------------------------------------------------\n",
      "    index  Age  Height  Weight\n",
      "0    Raju   22      66     140\n",
      "1  Pandey   42      70     148\n",
      "2   Srini   30      62     125\n",
      "3   Sunil   35      68     160\n",
      "4   Ashok   25      62     152\n"
     ]
    }
   ],
   "source": [
    "print('\\n After resetting index\\n','-'*50,sep='')\n",
    "print(df.reset_index())"
   ]
  },
  {
   "cell_type": "code",
   "execution_count": 28,
   "id": "70cbc7ed",
   "metadata": {},
   "outputs": [
    {
     "name": "stdout",
     "output_type": "stream",
     "text": [
      "\n",
      " After resetting index with 'drop' option TRUE\n",
      " --------------------------------------------------\n",
      "   Age  Height  Weight\n",
      "0   22      66     140\n",
      "1   42      70     148\n",
      "2   30      62     125\n",
      "3   35      68     160\n",
      "4   25      62     152\n"
     ]
    }
   ],
   "source": [
    "print(\"\\n After resetting index with 'drop' option TRUE\\n \",'-'*50,sep='')\n",
    "print(df.reset_index(drop = True))"
   ]
  },
  {
   "cell_type": "code",
   "execution_count": 34,
   "id": "d49cb178",
   "metadata": {},
   "outputs": [
    {
     "name": "stdout",
     "output_type": "stream",
     "text": [
      "\n",
      " Adding a new column 'Profession' \n",
      "--------------------------------------------------\n",
      "        Age  Height  Weight Profession\n",
      "Raju     22      66     140    Student\n",
      "Pandey   42      70     148    Teacher\n",
      "Srini    30      62     125   Engineer\n",
      "Sunil    35      68     160  Assistant\n",
      "Ashok    25      62     152   Software\n"
     ]
    }
   ],
   "source": [
    "print(\"\\n Adding a new column 'Profession' \\n\",'-'*50,sep ='')\n",
    "df['Profession'] = \"Student  Teacher  Engineer  Assistant  Software\".split()\n",
    "print(df)"
   ]
  },
  {
   "cell_type": "code",
   "execution_count": 35,
   "id": "f02e0be4",
   "metadata": {},
   "outputs": [
    {
     "name": "stdout",
     "output_type": "stream",
     "text": [
      "\n",
      " Setting 'Profession ' column as index\n",
      "--------------------------------------------------\n",
      "            Age  Height  Weight\n",
      "Profession                     \n",
      "Student      22      66     140\n",
      "Teacher      42      70     148\n",
      "Engineer     30      62     125\n",
      "Assistant    35      68     160\n",
      "Software     25      62     152\n"
     ]
    }
   ],
   "source": [
    "print(\"\\n Setting 'Profession ' column as index\\n\",'-'*50,sep ='')\n",
    "print(df.set_index('Profession'))"
   ]
  },
  {
   "cell_type": "code",
   "execution_count": null,
   "id": "f832aaef",
   "metadata": {},
   "outputs": [],
   "source": []
  }
 ],
 "metadata": {
  "kernelspec": {
   "display_name": "Python 3 (ipykernel)",
   "language": "python",
   "name": "python3"
  },
  "language_info": {
   "codemirror_mode": {
    "name": "ipython",
    "version": 3
   },
   "file_extension": ".py",
   "mimetype": "text/x-python",
   "name": "python",
   "nbconvert_exporter": "python",
   "pygments_lexer": "ipython3",
   "version": "3.9.12"
  }
 },
 "nbformat": 4,
 "nbformat_minor": 5
}
