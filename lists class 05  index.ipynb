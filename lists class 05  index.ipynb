{
 "cells": [
  {
   "cell_type": "code",
   "execution_count": 1,
   "id": "7f710fb2",
   "metadata": {},
   "outputs": [
    {
     "data": {
      "text/plain": [
       "[]"
      ]
     },
     "execution_count": 1,
     "metadata": {},
     "output_type": "execute_result"
    }
   ],
   "source": [
    "employee=[]\n",
    "employee"
   ]
  },
  {
   "cell_type": "code",
   "execution_count": 2,
   "id": "b33220d6",
   "metadata": {},
   "outputs": [
    {
     "name": "stdout",
     "output_type": "stream",
     "text": [
      "['Radha']\n"
     ]
    }
   ],
   "source": [
    "employee.append('Radha')\n",
    "print(employee)"
   ]
  },
  {
   "cell_type": "code",
   "execution_count": 3,
   "id": "31271f2f",
   "metadata": {},
   "outputs": [
    {
     "name": "stdout",
     "output_type": "stream",
     "text": [
      "['Radha', ' Arvind ', 'Rahul ']\n"
     ]
    }
   ],
   "source": [
    "employee.append(' Arvind ')\n",
    "employee.append('Rahul ')\n",
    "print(employee)"
   ]
  },
  {
   "cell_type": "code",
   "execution_count": 4,
   "id": "a355dc27",
   "metadata": {},
   "outputs": [
    {
     "name": "stdout",
     "output_type": "stream",
     "text": [
      "['Radha', 'Ravi', ' Arvind ', 'Rahul ']\n"
     ]
    }
   ],
   "source": [
    "employee.insert(1,'Ravi')\n",
    "print(employee)"
   ]
  },
  {
   "cell_type": "code",
   "execution_count": 8,
   "id": "5b2c4a72",
   "metadata": {},
   "outputs": [
    {
     "data": {
      "text/plain": [
       "[15000, 16000, 17000]"
      ]
     },
     "execution_count": 8,
     "metadata": {},
     "output_type": "execute_result"
    }
   ],
   "source": [
    "emp_salary = [15000 ,16000 ,17000 ]\n",
    "emp_salary"
   ]
  },
  {
   "cell_type": "code",
   "execution_count": 6,
   "id": "e5458353",
   "metadata": {},
   "outputs": [
    {
     "data": {
      "text/plain": [
       "[0, 14000]"
      ]
     },
     "execution_count": 6,
     "metadata": {},
     "output_type": "execute_result"
    }
   ],
   "source": [
    "emp_salary = [0,14000 ]\n",
    "emp_salary"
   ]
  },
  {
   "cell_type": "code",
   "execution_count": 9,
   "id": "41b7d55a",
   "metadata": {},
   "outputs": [
    {
     "data": {
      "text/plain": [
       "[14000, 15000, 16000, 17000]"
      ]
     },
     "execution_count": 9,
     "metadata": {},
     "output_type": "execute_result"
    }
   ],
   "source": [
    "emp_salary.insert(0,14000)\n",
    "emp_salary"
   ]
  },
  {
   "cell_type": "code",
   "execution_count": 11,
   "id": "cc0595fa",
   "metadata": {},
   "outputs": [
    {
     "data": {
      "text/plain": [
       "'Ravi'"
      ]
     },
     "execution_count": 11,
     "metadata": {},
     "output_type": "execute_result"
    }
   ],
   "source": [
    "employee[1]"
   ]
  },
  {
   "cell_type": "code",
   "execution_count": 12,
   "id": "091a318a",
   "metadata": {},
   "outputs": [
    {
     "data": {
      "text/plain": [
       "['Radha', 'Gupta', ' Arvind ', 'Rahul ']"
      ]
     },
     "execution_count": 12,
     "metadata": {},
     "output_type": "execute_result"
    }
   ],
   "source": [
    "employee[1] = 'Gupta'\n",
    "employee"
   ]
  },
  {
   "cell_type": "code",
   "execution_count": 14,
   "id": "d8fba2c8",
   "metadata": {},
   "outputs": [
    {
     "data": {
      "text/plain": [
       "[14000, 15000, 16000, 17000]"
      ]
     },
     "execution_count": 14,
     "metadata": {},
     "output_type": "execute_result"
    }
   ],
   "source": [
    "emp_salary[ :3]\n",
    "emp_salary"
   ]
  },
  {
   "cell_type": "code",
   "execution_count": 15,
   "id": "4b731fb7",
   "metadata": {},
   "outputs": [
    {
     "data": {
      "text/plain": [
       "[14000, 15000, 16000, 17000]"
      ]
     },
     "execution_count": 15,
     "metadata": {},
     "output_type": "execute_result"
    }
   ],
   "source": [
    "emp_salary[0: ]"
   ]
  },
  {
   "cell_type": "code",
   "execution_count": 16,
   "id": "e78803e7",
   "metadata": {},
   "outputs": [
    {
     "data": {
      "text/plain": [
       "[14000, 15000, 16000]"
      ]
     },
     "execution_count": 16,
     "metadata": {},
     "output_type": "execute_result"
    }
   ],
   "source": [
    "emp_salary[ :3]"
   ]
  },
  {
   "cell_type": "code",
   "execution_count": 17,
   "id": "8579750d",
   "metadata": {},
   "outputs": [
    {
     "data": {
      "text/plain": [
       "[14000, 15000, 16000]"
      ]
     },
     "execution_count": 17,
     "metadata": {},
     "output_type": "execute_result"
    }
   ],
   "source": [
    "emp_salary[0:3]"
   ]
  },
  {
   "cell_type": "code",
   "execution_count": 18,
   "id": "57fc1eec",
   "metadata": {},
   "outputs": [
    {
     "data": {
      "text/plain": [
       "[15000, 16000]"
      ]
     },
     "execution_count": 18,
     "metadata": {},
     "output_type": "execute_result"
    }
   ],
   "source": [
    "emp_salary[1:3]"
   ]
  },
  {
   "cell_type": "code",
   "execution_count": 19,
   "id": "6be6ebd3",
   "metadata": {},
   "outputs": [
    {
     "data": {
      "text/plain": [
       "[14000, 15000, 16000, 17000, 10000]"
      ]
     },
     "execution_count": 19,
     "metadata": {},
     "output_type": "execute_result"
    }
   ],
   "source": [
    "emp_salary + [10000]"
   ]
  },
  {
   "cell_type": "code",
   "execution_count": 20,
   "id": "eb9ffc3f",
   "metadata": {},
   "outputs": [
    {
     "data": {
      "text/plain": [
       "[14000, 15000, 16000, 17000]"
      ]
     },
     "execution_count": 20,
     "metadata": {},
     "output_type": "execute_result"
    }
   ],
   "source": [
    "emp_salary + [15000]\n",
    "emp_salary"
   ]
  },
  {
   "cell_type": "code",
   "execution_count": 22,
   "id": "ba9c0b76",
   "metadata": {},
   "outputs": [
    {
     "data": {
      "text/plain": [
       "[14000, 15000, 16000, 17000, 15000, 15000]"
      ]
     },
     "execution_count": 22,
     "metadata": {},
     "output_type": "execute_result"
    }
   ],
   "source": [
    "# Reassing to keep the permanent change\n",
    "emp_salary = emp_salary + [15000]\n",
    "emp_salary"
   ]
  },
  {
   "cell_type": "code",
   "execution_count": 23,
   "id": "0d968521",
   "metadata": {},
   "outputs": [
    {
     "data": {
      "text/plain": [
       "[14000, 15000, 16000, 17000, 15000, 15000]"
      ]
     },
     "execution_count": 23,
     "metadata": {},
     "output_type": "execute_result"
    }
   ],
   "source": [
    "emp_salary"
   ]
  },
  {
   "cell_type": "code",
   "execution_count": 24,
   "id": "921d8c92",
   "metadata": {},
   "outputs": [],
   "source": [
    "marks = [25,30,25,50,78,85,100,90,86,85,100,52,56,43,50,85,86,56,90,100,45,100,75,86,94,86,78,82,96,52,25,42,36,100]"
   ]
  },
  {
   "cell_type": "code",
   "execution_count": 25,
   "id": "54c9f4a4",
   "metadata": {},
   "outputs": [
    {
     "data": {
      "text/plain": [
       "5"
      ]
     },
     "execution_count": 25,
     "metadata": {},
     "output_type": "execute_result"
    }
   ],
   "source": [
    "marks.count(100)"
   ]
  },
  {
   "cell_type": "code",
   "execution_count": 27,
   "id": "70b0b20e",
   "metadata": {},
   "outputs": [
    {
     "data": {
      "text/plain": [
       "['Radha', 'Gupta', ' Arvind ', 'Rahul ']"
      ]
     },
     "execution_count": 27,
     "metadata": {},
     "output_type": "execute_result"
    }
   ],
   "source": [
    "employee"
   ]
  },
  {
   "cell_type": "code",
   "execution_count": 28,
   "id": "3b4f87f8",
   "metadata": {},
   "outputs": [
    {
     "name": "stdout",
     "output_type": "stream",
     "text": [
      "['Radha', 'Gupta', ' Arvind ', 'Rahul ', 'Anu ', 'Sapna']\n"
     ]
    }
   ],
   "source": [
    "employee = ['Radha', 'Gupta', ' Arvind ', 'Rahul ']\n",
    "employee.extend(['Anu ','Sapna'])\n",
    "print(employee)"
   ]
  },
  {
   "cell_type": "code",
   "execution_count": 29,
   "id": "a0d15008",
   "metadata": {},
   "outputs": [
    {
     "data": {
      "text/plain": [
       "['Pushkar ', 'Aman ', 'Raman ', 'Raj ', 'Nituu ', 'Mitali ', 'Bhawana ']"
      ]
     },
     "execution_count": 29,
     "metadata": {},
     "output_type": "execute_result"
    }
   ],
   "source": [
    "students = ['Pushkar ','Aman ','Raman ','Raj ','Nituu ','Mitali ','Bhawana ']\n",
    "students"
   ]
  },
  {
   "cell_type": "code",
   "execution_count": 30,
   "id": "ccccdb17",
   "metadata": {},
   "outputs": [
    {
     "data": {
      "text/plain": [
       "8"
      ]
     },
     "execution_count": 30,
     "metadata": {},
     "output_type": "execute_result"
    }
   ],
   "source": [
    "len('stunents')"
   ]
  },
  {
   "cell_type": "code",
   "execution_count": 31,
   "id": "cb41f577",
   "metadata": {},
   "outputs": [
    {
     "data": {
      "text/plain": [
       "'Bhawana '"
      ]
     },
     "execution_count": 31,
     "metadata": {},
     "output_type": "execute_result"
    }
   ],
   "source": [
    "pop_last = students.pop()\n",
    "pop_last"
   ]
  },
  {
   "cell_type": "code",
   "execution_count": 32,
   "id": "7556acbc",
   "metadata": {},
   "outputs": [
    {
     "data": {
      "text/plain": [
       "['Pushkar ', 'Aman ', 'Raman ', 'Raj ', 'Nituu ', 'Mitali ']"
      ]
     },
     "execution_count": 32,
     "metadata": {},
     "output_type": "execute_result"
    }
   ],
   "source": [
    "students"
   ]
  },
  {
   "cell_type": "code",
   "execution_count": 34,
   "id": "baf85962",
   "metadata": {},
   "outputs": [
    {
     "data": {
      "text/plain": [
       "'Aman '"
      ]
     },
     "execution_count": 34,
     "metadata": {},
     "output_type": "execute_result"
    }
   ],
   "source": [
    "pop_index = students.pop(1)\n",
    "pop_index"
   ]
  },
  {
   "cell_type": "code",
   "execution_count": 35,
   "id": "c20dfc4b",
   "metadata": {},
   "outputs": [
    {
     "data": {
      "text/plain": [
       "['Pushkar ', 'Raman ', 'Raj ', 'Nituu ', 'Mitali ']"
      ]
     },
     "execution_count": 35,
     "metadata": {},
     "output_type": "execute_result"
    }
   ],
   "source": [
    "students"
   ]
  },
  {
   "cell_type": "code",
   "execution_count": 36,
   "id": "23c2fdc9",
   "metadata": {},
   "outputs": [
    {
     "data": {
      "text/plain": [
       "['Pushkar ', 'Aman ', 'Raman ', 'Raj ', 'Nituu ', 'Mitali ', 'Bhawana ']"
      ]
     },
     "execution_count": 36,
     "metadata": {},
     "output_type": "execute_result"
    }
   ],
   "source": [
    "students = ['Pushkar ','Aman ','Raman ','Raj ','Nituu ','Mitali ','Bhawana ']\n",
    "students"
   ]
  },
  {
   "cell_type": "code",
   "execution_count": 39,
   "id": "76c707e6",
   "metadata": {},
   "outputs": [
    {
     "data": {
      "text/plain": [
       "[101, 102, 103, 104, 105, 106, 112, 107, 108]"
      ]
     },
     "execution_count": 39,
     "metadata": {},
     "output_type": "execute_result"
    }
   ],
   "source": [
    "roll_number = [101,102,103,104,105,106,112,107,108]\n",
    "roll_number"
   ]
  },
  {
   "cell_type": "code",
   "execution_count": 40,
   "id": "e0e32437",
   "metadata": {},
   "outputs": [
    {
     "data": {
      "text/plain": [
       "[101, 102, 103, 104, 105, 106, 107, 108]"
      ]
     },
     "execution_count": 40,
     "metadata": {},
     "output_type": "execute_result"
    }
   ],
   "source": [
    "roll_number.remove(112,)\n",
    "roll_number"
   ]
  },
  {
   "cell_type": "code",
   "execution_count": 41,
   "id": "2121acf6",
   "metadata": {},
   "outputs": [
    {
     "data": {
      "text/plain": [
       "[108, 107, 106, 105, 104, 103, 102, 101]"
      ]
     },
     "execution_count": 41,
     "metadata": {},
     "output_type": "execute_result"
    }
   ],
   "source": [
    "roll_number.reverse()\n",
    "roll_number"
   ]
  },
  {
   "cell_type": "code",
   "execution_count": 50,
   "id": "db308d12",
   "metadata": {},
   "outputs": [
    {
     "name": "stdout",
     "output_type": "stream",
     "text": [
      "[100, 100, 100, 100, 100, 96, 94, 90, 90, 86, 86, 86, 86, 85, 85, 85, 82, 78, 78, 75, 56, 56, 52, 52, 50, 50, 45, 43, 42, 36, 30, 25, 25, 25]\n"
     ]
    }
   ],
   "source": [
    "print(marks)"
   ]
  },
  {
   "cell_type": "code",
   "execution_count": 51,
   "id": "891ae90c",
   "metadata": {},
   "outputs": [
    {
     "name": "stdout",
     "output_type": "stream",
     "text": [
      "[25, 25, 25, 30, 36, 42, 43, 45, 50, 50, 52, 52, 56, 56, 75, 78, 78, 82, 85, 85, 85, 86, 86, 86, 86, 90, 90, 94, 96, 100, 100, 100, 100, 100]\n"
     ]
    }
   ],
   "source": [
    "marks.sort()\n",
    "print(marks)"
   ]
  },
  {
   "cell_type": "code",
   "execution_count": 49,
   "id": "7da5a021",
   "metadata": {},
   "outputs": [
    {
     "name": "stdout",
     "output_type": "stream",
     "text": [
      "[100, 100, 100, 100, 100, 96, 94, 90, 90, 86, 86, 86, 86, 85, 85, 85, 82, 78, 78, 75, 56, 56, 52, 52, 50, 50, 45, 43, 42, 36, 30, 25, 25, 25]\n"
     ]
    }
   ],
   "source": [
    "marks.sort(reverse = True)\n",
    "print(marks)"
   ]
  },
  {
   "cell_type": "code",
   "execution_count": null,
   "id": "caa63ba5",
   "metadata": {},
   "outputs": [],
   "source": []
  }
 ],
 "metadata": {
  "kernelspec": {
   "display_name": "Python 3 (ipykernel)",
   "language": "python",
   "name": "python3"
  },
  "language_info": {
   "codemirror_mode": {
    "name": "ipython",
    "version": 3
   },
   "file_extension": ".py",
   "mimetype": "text/x-python",
   "name": "python",
   "nbconvert_exporter": "python",
   "pygments_lexer": "ipython3",
   "version": "3.9.12"
  }
 },
 "nbformat": 4,
 "nbformat_minor": 5
}
