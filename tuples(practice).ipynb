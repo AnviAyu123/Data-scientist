{
 "cells": [
  {
   "cell_type": "code",
   "execution_count": 1,
   "id": "9c52c8f5",
   "metadata": {},
   "outputs": [
    {
     "data": {
      "text/plain": [
       "('Motihari ', 'Patna ', 'Deilhi ', 'Patna ', 'Shimla ')"
      ]
     },
     "execution_count": 1,
     "metadata": {},
     "output_type": "execute_result"
    }
   ],
   "source": [
    "work_location = ('Motihari ','Patna ','Deilhi ','Patna ','Shimla ')\n",
    "work_location"
   ]
  },
  {
   "cell_type": "code",
   "execution_count": 2,
   "id": "b911971e",
   "metadata": {},
   "outputs": [
    {
     "data": {
      "text/plain": [
       "tuple"
      ]
     },
     "execution_count": 2,
     "metadata": {},
     "output_type": "execute_result"
    }
   ],
   "source": [
    "type(work_location)"
   ]
  },
  {
   "cell_type": "code",
   "execution_count": 3,
   "id": "4b9b122f",
   "metadata": {},
   "outputs": [
    {
     "data": {
      "text/plain": [
       "['Motihari ', 'Patna ', 'Deilhi ', 'Patna ', 'Shimla ']"
      ]
     },
     "execution_count": 3,
     "metadata": {},
     "output_type": "execute_result"
    }
   ],
   "source": [
    "work_location = list(work_location)\n",
    "work_location"
   ]
  },
  {
   "cell_type": "code",
   "execution_count": 4,
   "id": "0d53dcc9",
   "metadata": {},
   "outputs": [
    {
     "data": {
      "text/plain": [
       "list"
      ]
     },
     "execution_count": 4,
     "metadata": {},
     "output_type": "execute_result"
    }
   ],
   "source": [
    "type(work_location)"
   ]
  },
  {
   "cell_type": "code",
   "execution_count": 5,
   "id": "7e14cfb8",
   "metadata": {},
   "outputs": [
    {
     "data": {
      "text/plain": [
       "['Motihari ', 'Patna ', 'Deilhi ', 'Patna ', 'Shimla ', 'kolkata']"
      ]
     },
     "execution_count": 5,
     "metadata": {},
     "output_type": "execute_result"
    }
   ],
   "source": [
    "work_location.append('kolkata')\n",
    "work_location"
   ]
  },
  {
   "cell_type": "code",
   "execution_count": 6,
   "id": "7d59c31a",
   "metadata": {},
   "outputs": [
    {
     "data": {
      "text/plain": [
       "['Motihari ', 'Patna', 'Deilhi ', 'Patna ', 'Shimla ', 'kolkata']"
      ]
     },
     "execution_count": 6,
     "metadata": {},
     "output_type": "execute_result"
    }
   ],
   "source": [
    "work_location[1]=('Patna')\n",
    "work_location"
   ]
  },
  {
   "cell_type": "code",
   "execution_count": 7,
   "id": "4cd6af33",
   "metadata": {},
   "outputs": [
    {
     "data": {
      "text/plain": [
       "['Motihari ', 'Mumbai', 'Deilhi ', 'Patna ', 'Shimla ', 'kolkata']"
      ]
     },
     "execution_count": 7,
     "metadata": {},
     "output_type": "execute_result"
    }
   ],
   "source": [
    "work_location[1] = ('Mumbai')\n",
    "work_location"
   ]
  },
  {
   "cell_type": "code",
   "execution_count": 8,
   "id": "0add1b44",
   "metadata": {},
   "outputs": [
    {
     "data": {
      "text/plain": [
       "('Motihari ', 'Mumbai', 'Deilhi ', 'Patna ', 'Shimla ', 'kolkata')"
      ]
     },
     "execution_count": 8,
     "metadata": {},
     "output_type": "execute_result"
    }
   ],
   "source": [
    "work_location = tuple(work_location)\n",
    "work_location"
   ]
  },
  {
   "cell_type": "code",
   "execution_count": 9,
   "id": "7b9bd057",
   "metadata": {},
   "outputs": [
    {
     "data": {
      "text/plain": [
       "'kolkata'"
      ]
     },
     "execution_count": 9,
     "metadata": {},
     "output_type": "execute_result"
    }
   ],
   "source": [
    "work_location[-1]"
   ]
  },
  {
   "cell_type": "markdown",
   "id": "4bd79009",
   "metadata": {},
   "source": [
    "#   Basic Tuple Methods"
   ]
  },
  {
   "cell_type": "code",
   "execution_count": 10,
   "id": "95b13e67",
   "metadata": {},
   "outputs": [
    {
     "data": {
      "text/plain": [
       "(15, 20, 16, 15, 20, 42, 52, 56, 78, 75, 52, 45, 65, 78)"
      ]
     },
     "execution_count": 10,
     "metadata": {},
     "output_type": "execute_result"
    }
   ],
   "source": [
    "numbers = (15,20,16,15,20,42,52,56,78,75,52,45,65,78)\n",
    "numbers"
   ]
  },
  {
   "cell_type": "code",
   "execution_count": 11,
   "id": "7194e1b4",
   "metadata": {},
   "outputs": [
    {
     "ename": "NameError",
     "evalue": "name 'number' is not defined",
     "output_type": "error",
     "traceback": [
      "\u001b[1;31m---------------------------------------------------------------------------\u001b[0m",
      "\u001b[1;31mNameError\u001b[0m                                 Traceback (most recent call last)",
      "Input \u001b[1;32mIn [11]\u001b[0m, in \u001b[0;36m<cell line: 1>\u001b[1;34m()\u001b[0m\n\u001b[1;32m----> 1\u001b[0m \u001b[43mnumber\u001b[49m\u001b[38;5;241m.\u001b[39mindex(\u001b[38;5;241m52\u001b[39m)\n",
      "\u001b[1;31mNameError\u001b[0m: name 'number' is not defined"
     ]
    }
   ],
   "source": [
    "number.index(52)"
   ]
  },
  {
   "cell_type": "code",
   "execution_count": null,
   "id": "4f6fe897",
   "metadata": {},
   "outputs": [],
   "source": [
    "numbers.count(52)"
   ]
  },
  {
   "cell_type": "markdown",
   "id": "565efbe8",
   "metadata": {},
   "source": [
    "##     Sets"
   ]
  },
  {
   "cell_type": "code",
   "execution_count": 12,
   "id": "397f81e5",
   "metadata": {},
   "outputs": [],
   "source": [
    "roll_numbers = set()"
   ]
  },
  {
   "cell_type": "code",
   "execution_count": 13,
   "id": "7ac51e74",
   "metadata": {},
   "outputs": [
    {
     "data": {
      "text/plain": [
       "set"
      ]
     },
     "execution_count": 13,
     "metadata": {},
     "output_type": "execute_result"
    }
   ],
   "source": [
    "type(roll_numbers)"
   ]
  },
  {
   "cell_type": "code",
   "execution_count": 14,
   "id": "cb1d77ec",
   "metadata": {},
   "outputs": [
    {
     "data": {
      "text/plain": [
       "{1}"
      ]
     },
     "execution_count": 14,
     "metadata": {},
     "output_type": "execute_result"
    }
   ],
   "source": [
    "roll_numbers.add(1)\n",
    "roll_numbers"
   ]
  },
  {
   "cell_type": "code",
   "execution_count": 15,
   "id": "9c6e6799",
   "metadata": {},
   "outputs": [
    {
     "data": {
      "text/plain": [
       "{1, 2}"
      ]
     },
     "execution_count": 15,
     "metadata": {},
     "output_type": "execute_result"
    }
   ],
   "source": [
    "roll_numbers.add(2)\n",
    "roll_numbers"
   ]
  },
  {
   "cell_type": "code",
   "execution_count": 16,
   "id": "5d15cbe9",
   "metadata": {},
   "outputs": [
    {
     "data": {
      "text/plain": [
       "{1, 2}"
      ]
     },
     "execution_count": 16,
     "metadata": {},
     "output_type": "execute_result"
    }
   ],
   "source": [
    "roll_numbers.add(1)\n",
    "roll_numbers"
   ]
  },
  {
   "cell_type": "markdown",
   "id": "54226d2e",
   "metadata": {},
   "source": [
    "notice, how it won't place another 1 there as a set in only concerned with unique elements ! However! we can cast a list with multiple repeat elements to a sets to get the unique elements."
   ]
  },
  {
   "cell_type": "code",
   "execution_count": 18,
   "id": "9556290d",
   "metadata": {
    "scrolled": false
   },
   "outputs": [],
   "source": [
    "remove_dups = [8,5,6,7,5,4,3,2,7,1,5,8,7,9,6,4,7,2,1,7,1,7,5,7,6,8,9]"
   ]
  },
  {
   "cell_type": "code",
   "execution_count": 19,
   "id": "48e198e6",
   "metadata": {},
   "outputs": [
    {
     "data": {
      "text/plain": [
       "{1, 2, 3, 4, 5, 6, 7, 8, 9}"
      ]
     },
     "execution_count": 19,
     "metadata": {},
     "output_type": "execute_result"
    }
   ],
   "source": [
    "dup_removed = set(remove_dups)\n",
    "dup_removed"
   ]
  },
  {
   "cell_type": "code",
   "execution_count": 20,
   "id": "997b5470",
   "metadata": {},
   "outputs": [
    {
     "data": {
      "text/plain": [
       "{1, 2, 3, 4, 5, 6, 7, 8, 9}"
      ]
     },
     "execution_count": 20,
     "metadata": {},
     "output_type": "execute_result"
    }
   ],
   "source": [
    "remove_dups = list(dup_removed)\n",
    "dup_removed"
   ]
  },
  {
   "cell_type": "code",
   "execution_count": null,
   "id": "bc65e397",
   "metadata": {},
   "outputs": [],
   "source": []
  }
 ],
 "metadata": {
  "kernelspec": {
   "display_name": "Python 3 (ipykernel)",
   "language": "python",
   "name": "python3"
  },
  "language_info": {
   "codemirror_mode": {
    "name": "ipython",
    "version": 3
   },
   "file_extension": ".py",
   "mimetype": "text/x-python",
   "name": "python",
   "nbconvert_exporter": "python",
   "pygments_lexer": "ipython3",
   "version": "3.9.12"
  }
 },
 "nbformat": 4,
 "nbformat_minor": 5
}
