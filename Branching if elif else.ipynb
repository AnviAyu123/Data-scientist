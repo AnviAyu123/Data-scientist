{
 "cells": [
  {
   "cell_type": "code",
   "execution_count": 1,
   "id": "156ce945",
   "metadata": {},
   "outputs": [
    {
     "name": "stdout",
     "output_type": "stream",
     "text": [
      "it is less than 10\n"
     ]
    }
   ],
   "source": [
    "i = 9\n",
    "if i < 10:\n",
    "    print('it is less than 10')\n",
    "else:\n",
    "    print('it is something else')"
   ]
  },
  {
   "cell_type": "code",
   "execution_count": 2,
   "id": "80a750c6",
   "metadata": {},
   "outputs": [
    {
     "name": "stdout",
     "output_type": "stream",
     "text": [
      "it is less than 10\n"
     ]
    }
   ],
   "source": [
    " print('it is less than 10') if i < 10 else print('it is something else')"
   ]
  },
  {
   "cell_type": "markdown",
   "id": "dae0f5bb",
   "metadata": {},
   "source": [
    "# Message"
   ]
  },
  {
   "cell_type": "code",
   "execution_count": 3,
   "id": "8ff53d04",
   "metadata": {},
   "outputs": [
    {
     "name": "stdout",
     "output_type": "stream",
     "text": [
      "please add 100 Rs worth of an item for free shipping\n"
     ]
    }
   ],
   "source": [
    "item_1 = 300\n",
    "\n",
    "item_2 = 100\n",
    "if (item_1 + item_2) >= 500:\n",
    "    print('your item is eligible for free shopping')\n",
    "    \n",
    "else:\n",
    "    extra = 500 - (item_1 + item_2)\n",
    "    print('please add', extra, 'Rs worth of an item for free shipping')"
   ]
  },
  {
   "cell_type": "code",
   "execution_count": 4,
   "id": "14ab520e",
   "metadata": {},
   "outputs": [
    {
     "name": "stdout",
     "output_type": "stream",
     "text": [
      "Both are not True\n"
     ]
    }
   ],
   "source": [
    "a = 200\n",
    "b = 33\n",
    "c = 500\n",
    "if a > b and c < a:\n",
    "    print('Both conditions are True')\n",
    "else:\n",
    "    print('Both are not True')"
   ]
  },
  {
   "cell_type": "code",
   "execution_count": 5,
   "id": "a34069f0",
   "metadata": {},
   "outputs": [
    {
     "name": "stdout",
     "output_type": "stream",
     "text": [
      "Both conditions are True\n"
     ]
    }
   ],
   "source": [
    "a = 200\n",
    "b = 33\n",
    "c = 500\n",
    "if a > b or c < a:\n",
    "    print('Both conditions are True')\n",
    "else:\n",
    "    print('Both are not True')"
   ]
  },
  {
   "cell_type": "code",
   "execution_count": 6,
   "id": "04f28941",
   "metadata": {},
   "outputs": [
    {
     "name": "stdout",
     "output_type": "stream",
     "text": [
      "At least one condition is True\n"
     ]
    }
   ],
   "source": [
    "a = 200\n",
    "b = 33\n",
    "c = 500\n",
    "if a > b or c < a:\n",
    "    print('At least one condition is True')\n",
    "else:\n",
    "    print('Both are not True')"
   ]
  },
  {
   "cell_type": "markdown",
   "id": "733b6e96",
   "metadata": {},
   "source": [
    "###   Find Student Level"
   ]
  },
  {
   "cell_type": "code",
   "execution_count": 7,
   "id": "324bf314",
   "metadata": {},
   "outputs": [
    {
     "name": "stdout",
     "output_type": "stream",
     "text": [
      "55  - second class\n"
     ]
    }
   ],
   "source": [
    "marks = 55\n",
    "if marks>= 60:\n",
    "    if marks > 70:\n",
    "        print(marks,' - distinction')\n",
    "    else:\n",
    "        print(marks,' - first class')\n",
    "elif marks > 50 and marks < 60:\n",
    "    print(marks,' - second class')\n",
    "elif marks >= 35:\n",
    "    print(marks,' - third class')\n",
    "else:\n",
    "    print(marks,' - Fail - better luck next time')"
   ]
  },
  {
   "cell_type": "code",
   "execution_count": null,
   "id": "e6e617b8",
   "metadata": {},
   "outputs": [],
   "source": []
  },
  {
   "cell_type": "code",
   "execution_count": 8,
   "id": "66c2c763",
   "metadata": {},
   "outputs": [
    {
     "name": "stdout",
     "output_type": "stream",
     "text": [
      "55  - second class\n"
     ]
    }
   ],
   "source": [
    "marks = 55\n",
    "if marks>= 60:\n",
    "    if marks > 70:\n",
    "        print(marks,' - distinction')\n",
    "    else:\n",
    "        print(marks,' - first class')\n",
    "elif marks > 50 and marks < 60:\n",
    "    print(marks,' - second class')\n",
    "elif marks >= 35:\n",
    "    print(marks,' - third class')\n",
    "else:\n",
    "    print(marks,' - Fail - better luck next time')"
   ]
  },
  {
   "cell_type": "code",
   "execution_count": 9,
   "id": "1049bc71",
   "metadata": {},
   "outputs": [
    {
     "name": "stdout",
     "output_type": "stream",
     "text": [
      "75  - distinction\n"
     ]
    }
   ],
   "source": [
    "marks = 75\n",
    "if marks>= 60:\n",
    "    if marks > 70:\n",
    "        print(marks,' - distinction')\n",
    "    else:\n",
    "        print(marks, ' - first class')\n",
    "elif marks > 50 and marks < 60:\n",
    "    print(marks,' - second class')\n",
    "elif marks >= 35:\n",
    "    print(marks,' - third class')\n",
    "else:\n",
    "    print(marks,' - Fail - better luck next time')"
   ]
  },
  {
   "cell_type": "code",
   "execution_count": 10,
   "id": "3453d716",
   "metadata": {},
   "outputs": [
    {
     "name": "stdout",
     "output_type": "stream",
     "text": [
      "39  - third class\n"
     ]
    }
   ],
   "source": [
    "marks = 39\n",
    "if marks>= 60:\n",
    "    if marks > 70:\n",
    "        print(marks,' - distinction')\n",
    "    else:\n",
    "        print(marks,' - first class')\n",
    "elif marks > 50 and marks < 60:\n",
    "    print(marks,' - second class')\n",
    "elif marks >= 35:\n",
    "    print(marks,' - third class')\n",
    "else:\n",
    "    print(marks,' - Fail - better luck next time')"
   ]
  },
  {
   "cell_type": "code",
   "execution_count": 11,
   "id": "e94a029d",
   "metadata": {},
   "outputs": [
    {
     "name": "stdout",
     "output_type": "stream",
     "text": [
      "its greater than 25\n"
     ]
    }
   ],
   "source": [
    "num1= 20\n",
    "num2= 30\n",
    "\n",
    "if num1== '20':\n",
    "    print('its not 20')\n",
    "    \n",
    "elif num2 > 25:\n",
    "    print('its greater than 25')"
   ]
  },
  {
   "cell_type": "code",
   "execution_count": 12,
   "id": "22c37f01",
   "metadata": {},
   "outputs": [
    {
     "name": "stdout",
     "output_type": "stream",
     "text": [
      "its greater than 25\n"
     ]
    }
   ],
   "source": [
    "num1 = 20\n",
    "num2 = 30\n",
    "if num1 == '20':\n",
    "    print('its not 20')\n",
    "elif num2 > 25:\n",
    "    print('its greater than 25')"
   ]
  },
  {
   "cell_type": "markdown",
   "id": "c91e3918",
   "metadata": {},
   "source": [
    "  https://www.cartrade.com/used-carprice/"
   ]
  },
  {
   "cell_type": "code",
   "execution_count": 13,
   "id": "9598dc6f",
   "metadata": {},
   "outputs": [],
   "source": [
    "def used_car_price(car_year,car_brand,kmeters):\n",
    "    if car_year ==2020:\n",
    "        if 10000 < kmeters <= 15000:\n",
    "            if car_brand == 'Honda Amaze':\n",
    "                print('Rs 690000 - Rs 750000')\n",
    "            elif car_brand == 'Hundai Creta':\n",
    "                print('Rs 9750000 -Rs 1050000')\n",
    "            else:\n",
    "                print('No stock right now,please visit after few days')\n",
    "    elif 15001 < kmeters <= 25000:\n",
    "        if car_brand == 'Honda Amaze':\n",
    "            print('Rs 550000 - Rs 6000000')\n",
    "        elif car_brand == 'Hundai Creta':\n",
    "            print('Rs 845000 - Rs 980000')\n",
    "        else:\n",
    "            print('No stock right now,please visit after few days')\n",
    "    else:\n",
    "            print('No stocks')\n",
    "            \n",
    "            \n",
    "    if car_year == 2021:\n",
    "        if 10000 < kmeters <= 15000:\n",
    "            if car_brand == 'Honda Amaze':\n",
    "                print('Rs 790000 - Rs 850000')\n",
    "            elif car_brand == 'Hundai Creta':\n",
    "                print('Rs 1045000 - Rs 1180000')\n",
    "            else:\n",
    "                print('No stock right now,please visit after few days')\n",
    "        else:\n",
    "            print('No stock right now,please visit after few days')\n",
    "    else:\n",
    "        print(\"sorry,We dont keep car's older than 2020\")"
   ]
  },
  {
   "cell_type": "code",
   "execution_count": 14,
   "id": "f13fa24f",
   "metadata": {},
   "outputs": [
    {
     "name": "stdout",
     "output_type": "stream",
     "text": [
      "No stocks\n",
      "Rs 1045000 - Rs 1180000\n"
     ]
    }
   ],
   "source": [
    "used_car_price(2021,'Hundai Creta',10001)"
   ]
  },
  {
   "cell_type": "code",
   "execution_count": null,
   "id": "c632342b",
   "metadata": {},
   "outputs": [],
   "source": []
  }
 ],
 "metadata": {
  "kernelspec": {
   "display_name": "Python 3 (ipykernel)",
   "language": "python",
   "name": "python3"
  },
  "language_info": {
   "codemirror_mode": {
    "name": "ipython",
    "version": 3
   },
   "file_extension": ".py",
   "mimetype": "text/x-python",
   "name": "python",
   "nbconvert_exporter": "python",
   "pygments_lexer": "ipython3",
   "version": "3.9.12"
  }
 },
 "nbformat": 4,
 "nbformat_minor": 5
}
