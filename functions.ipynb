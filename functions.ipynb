{
 "cells": [
  {
   "cell_type": "markdown",
   "id": "c91e3918",
   "metadata": {},
   "source": [
    "  https://www.cartrade.com/used-carprice/"
   ]
  },
  {
   "cell_type": "code",
   "execution_count": 5,
   "id": "88427cd9",
   "metadata": {},
   "outputs": [
    {
     "ename": "IndentationError",
     "evalue": "unexpected indent (1320596229.py, line 6)",
     "output_type": "error",
     "traceback": [
      "\u001b[1;36m  Input \u001b[1;32mIn [5]\u001b[1;36m\u001b[0m\n\u001b[1;33m    elif car_brand == 'Hundai Creta':\u001b[0m\n\u001b[1;37m    ^\u001b[0m\n\u001b[1;31mIndentationError\u001b[0m\u001b[1;31m:\u001b[0m unexpected indent\n"
     ]
    }
   ],
   "source": [
    "def used_car_price(car_year,car_brands,kmeters):\n",
    "    if car_year == 2020:\n",
    "        if 10000 < kmeters <= 15000:\n",
    "            if car_brand == 'Honda Amaze':\n",
    "                print('Rs 690000 - Rs 750000')\n",
    "            elif car_brand == 'Hundai Creta':\n",
    "                    print('Rs 945000 - 1080000')\n",
    "            else:\n",
    "                print('No stock right now,please visit after few days')\n",
    "                        \n",
    "                    elif 15001 < kmeters <= 25000:\n",
    "                        if car_brand == 'Honda Amaze':\n",
    "                            print('Rs 550000 - Rs 600000')\n",
    "                            \n",
    "                            elif car_brand == 'Hundai Creta':\n",
    "                                print('Rs 845000 - Rs 980000')\n",
    "                                \n",
    "                                else:\n",
    "                                    print('No stock right now, please visit after few days')\n",
    "                                    \n",
    "                                else:\n",
    "                                    print('No stocks')\n",
    "                                    \n",
    "elif car_year == 2021:\n",
    "    if 10000 < kmeters <= 15000:\n",
    "        if car_brand == 'Honda Amaze':\n",
    "            print('Rs 790000 - Rs 850000')\n",
    "            elif car_brand == 'Hundai Creta':\n",
    "                print(' Rs 1045000 - Rs 1145000')\n",
    "                else:\n",
    "                    print('No stock right now,please visit after few days')\n",
    "                else:print('No stock right now,please visit after few days')\n",
    "            else:\n",
    "                print(\"sorry, we dont keep car's older than 2020\")"
   ]
  },
  {
   "cell_type": "code",
   "execution_count": null,
   "id": "f16cde83",
   "metadata": {},
   "outputs": [],
   "source": [
    "used_car_price(2021,'Hundai Creta'10001)"
   ]
  },
  {
   "cell_type": "markdown",
   "id": "6d7a8c4d",
   "metadata": {},
   "source": [
    "#Simple print Hello function"
   ]
  },
  {
   "cell_type": "code",
   "execution_count": null,
   "id": "4a88978d",
   "metadata": {},
   "outputs": [],
   "source": [
    "def say_hello():\n",
    "    print('This is just a simple')"
   ]
  },
  {
   "cell_type": "code",
   "execution_count": null,
   "id": "738ea093",
   "metadata": {},
   "outputs": [],
   "source": [
    "say_hello()"
   ]
  },
  {
   "cell_type": "markdown",
   "id": "1ad58dc8",
   "metadata": {},
   "source": [
    "#  A simple griting function"
   ]
  },
  {
   "cell_type": "code",
   "execution_count": null,
   "id": "8c9f50e5",
   "metadata": {},
   "outputs": [],
   "source": [
    "def greeting(name):\n",
    "    print('name')"
   ]
  },
  {
   "cell_type": "code",
   "execution_count": null,
   "id": "011afb7b",
   "metadata": {},
   "outputs": [],
   "source": [
    "greeting ('Good morning')"
   ]
  },
  {
   "cell_type": "code",
   "execution_count": null,
   "id": "00b34714",
   "metadata": {},
   "outputs": [],
   "source": [
    "def greeting(name):\n",
    "    print('Hello',name)"
   ]
  },
  {
   "cell_type": "code",
   "execution_count": null,
   "id": "ac29fb51",
   "metadata": {},
   "outputs": [],
   "source": [
    "greeting('good morning')"
   ]
  },
  {
   "cell_type": "code",
   "execution_count": 20,
   "id": "9598dc6f",
   "metadata": {},
   "outputs": [],
   "source": [
    "def used_car_price(car_year,car_brand,kmeters):\n",
    "    if car_year ==2020:\n",
    "        if 10000 < kmeters <= 15000:\n",
    "            if car_brand == 'Honda Amaze':\n",
    "                print('Rs 690000 - Rs 750000')\n",
    "            elif car_brand == 'Hundai Creta':\n",
    "                print('Rs 9750000 -Rs 1050000')\n",
    "            else:\n",
    "                print('No stock right now,please visit after few days')\n",
    "    elif 15001 < kmeters <= 25000:\n",
    "        if car_brand == 'Honda Amaze':\n",
    "            print('Rs 550000 - Rs 6000000')\n",
    "        elif car_brand == 'Hundai Creta':\n",
    "            print('Rs 845000 - Rs 980000')\n",
    "        else:\n",
    "            print('No stock right now,please visit after few days')\n",
    "    else:\n",
    "            print('No stocks')\n",
    "            \n",
    "            \n",
    "    if car_year == 2021:\n",
    "        if 10000 < kmeters <= 15000:\n",
    "            if car_brand == 'Honda Amaze':\n",
    "                print('Rs 790000 - Rs 850000')\n",
    "            elif car_brand == 'Hundai Creta':\n",
    "                print('Rs 1045000 - Rs 1180000')\n",
    "            else:\n",
    "                print('No stock right now,please visit after few days')\n",
    "        else:\n",
    "            print('No stock right now,please visit after few days')\n",
    "    else:\n",
    "        print(\"sorry,We dont keep car's older than 2020\")"
   ]
  },
  {
   "cell_type": "code",
   "execution_count": 21,
   "id": "f13fa24f",
   "metadata": {},
   "outputs": [
    {
     "name": "stdout",
     "output_type": "stream",
     "text": [
      "No stocks\n",
      "Rs 1045000 - Rs 1180000\n"
     ]
    }
   ],
   "source": [
    "used_car_price(2021,'Hundai Creta',10001)"
   ]
  },
  {
   "cell_type": "markdown",
   "id": "b5145683",
   "metadata": {},
   "source": [
    "##  Lambda function"
   ]
  },
  {
   "cell_type": "code",
   "execution_count": 22,
   "id": "26bce70d",
   "metadata": {},
   "outputs": [
    {
     "data": {
      "text/plain": [
       "<function __main__.<lambda>(arguments)>"
      ]
     },
     "execution_count": 22,
     "metadata": {},
     "output_type": "execute_result"
    }
   ],
   "source": [
    "lambda arguments : expression"
   ]
  },
  {
   "cell_type": "code",
   "execution_count": 23,
   "id": "4d826f28",
   "metadata": {},
   "outputs": [
    {
     "name": "stdout",
     "output_type": "stream",
     "text": [
      "80\n"
     ]
    }
   ],
   "source": [
    "add_num = lambda y : y + 30\n",
    "print(add_num(50))"
   ]
  },
  {
   "cell_type": "code",
   "execution_count": 24,
   "id": "4f1952fa",
   "metadata": {},
   "outputs": [
    {
     "name": "stdout",
     "output_type": "stream",
     "text": [
      "450\n"
     ]
    }
   ],
   "source": [
    "## multiple arguments\n",
    "multi_num = lambda a,b : a*b\n",
    "print(multi_num(15,30))"
   ]
  },
  {
   "cell_type": "markdown",
   "id": "b3792ac9",
   "metadata": {},
   "source": [
    "#  * args and  ** kwargs"
   ]
  },
  {
   "cell_type": "code",
   "execution_count": 28,
   "id": "e5ca7982",
   "metadata": {},
   "outputs": [],
   "source": [
    "def my_fun(*arg):\n",
    "    for i in args:\n",
    "        print('my_args: -',i)"
   ]
  },
  {
   "cell_type": "code",
   "execution_count": 29,
   "id": "7dfa2742",
   "metadata": {},
   "outputs": [
    {
     "ename": "NameError",
     "evalue": "name 'args' is not defined",
     "output_type": "error",
     "traceback": [
      "\u001b[1;31m---------------------------------------------------------------------------\u001b[0m",
      "\u001b[1;31mNameError\u001b[0m                                 Traceback (most recent call last)",
      "Input \u001b[1;32mIn [29]\u001b[0m, in \u001b[0;36m<cell line: 1>\u001b[1;34m()\u001b[0m\n\u001b[1;32m----> 1\u001b[0m \u001b[43mmy_fun\u001b[49m\u001b[43m(\u001b[49m\u001b[38;5;124;43m'\u001b[39;49m\u001b[38;5;124;43mIndia\u001b[39;49m\u001b[38;5;124;43m'\u001b[39;49m\u001b[43m,\u001b[49m\u001b[38;5;241;43m56\u001b[39;49m\u001b[43m,\u001b[49m\u001b[38;5;124;43m'\u001b[39;49m\u001b[38;5;124;43mDelhi\u001b[39;49m\u001b[38;5;124;43m'\u001b[39;49m\u001b[43m,\u001b[49m\u001b[38;5;241;43m30.14\u001b[39;49m\u001b[43m,\u001b[49m\u001b[38;5;241;43m40\u001b[39;49m\u001b[43m)\u001b[49m\n",
      "Input \u001b[1;32mIn [28]\u001b[0m, in \u001b[0;36mmy_fun\u001b[1;34m(*arg)\u001b[0m\n\u001b[0;32m      1\u001b[0m \u001b[38;5;28;01mdef\u001b[39;00m \u001b[38;5;21mmy_fun\u001b[39m(\u001b[38;5;241m*\u001b[39marg):\n\u001b[1;32m----> 2\u001b[0m     \u001b[38;5;28;01mfor\u001b[39;00m i \u001b[38;5;129;01min\u001b[39;00m \u001b[43margs\u001b[49m:\n\u001b[0;32m      3\u001b[0m         \u001b[38;5;28mprint\u001b[39m(\u001b[38;5;124m'\u001b[39m\u001b[38;5;124mmy_args: -\u001b[39m\u001b[38;5;124m'\u001b[39m,i)\n",
      "\u001b[1;31mNameError\u001b[0m: name 'args' is not defined"
     ]
    }
   ],
   "source": [
    "my_fun('India',56,'Delhi',30.14,40)"
   ]
  },
  {
   "cell_type": "code",
   "execution_count": 1,
   "id": "fa44c7dc",
   "metadata": {},
   "outputs": [
    {
     "ename": "NameError",
     "evalue": "name 'mobile_num' is not defined",
     "output_type": "error",
     "traceback": [
      "\u001b[1;31m---------------------------------------------------------------------------\u001b[0m",
      "\u001b[1;31mNameError\u001b[0m                                 Traceback (most recent call last)",
      "Input \u001b[1;32mIn [1]\u001b[0m, in \u001b[0;36m<cell line: 1>\u001b[1;34m()\u001b[0m\n\u001b[1;32m----> 1\u001b[0m \u001b[43mmobile_num\u001b[49m()\n",
      "\u001b[1;31mNameError\u001b[0m: name 'mobile_num' is not defined"
     ]
    }
   ],
   "source": [
    "mobile_num()"
   ]
  },
  {
   "cell_type": "code",
   "execution_count": null,
   "id": "3b68d336",
   "metadata": {},
   "outputs": [],
   "source": []
  }
 ],
 "metadata": {
  "kernelspec": {
   "display_name": "Python 3 (ipykernel)",
   "language": "python",
   "name": "python3"
  },
  "language_info": {
   "codemirror_mode": {
    "name": "ipython",
    "version": 3
   },
   "file_extension": ".py",
   "mimetype": "text/x-python",
   "name": "python",
   "nbconvert_exporter": "python",
   "pygments_lexer": "ipython3",
   "version": "3.9.12"
  }
 },
 "nbformat": 4,
 "nbformat_minor": 5
}
