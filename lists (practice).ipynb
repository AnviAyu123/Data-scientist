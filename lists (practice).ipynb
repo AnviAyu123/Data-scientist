{
 "cells": [
  {
   "cell_type": "code",
   "execution_count": 2,
   "id": "288de07b",
   "metadata": {},
   "outputs": [
    {
     "ename": "SyntaxError",
     "evalue": "cannot assign to literal (3289116489.py, line 1)",
     "output_type": "error",
     "traceback": [
      "\u001b[1;36m  Input \u001b[1;32mIn [2]\u001b[1;36m\u001b[0m\n\u001b[1;33m    1 = []\u001b[0m\n\u001b[1;37m    ^\u001b[0m\n\u001b[1;31mSyntaxError\u001b[0m\u001b[1;31m:\u001b[0m cannot assign to literal\n"
     ]
    }
   ],
   "source": [
    "1 = []\n",
    "1"
   ]
  },
  {
   "cell_type": "code",
   "execution_count": 4,
   "id": "fa051278",
   "metadata": {},
   "outputs": [
    {
     "ename": "SyntaxError",
     "evalue": "cannot assign to literal (2962404978.py, line 1)",
     "output_type": "error",
     "traceback": [
      "\u001b[1;36m  Input \u001b[1;32mIn [4]\u001b[1;36m\u001b[0m\n\u001b[1;33m    1=[]\u001b[0m\n\u001b[1;37m    ^\u001b[0m\n\u001b[1;31mSyntaxError\u001b[0m\u001b[1;31m:\u001b[0m cannot assign to literal\n"
     ]
    }
   ],
   "source": [
    "1=[]\n",
    "1"
   ]
  },
  {
   "cell_type": "code",
   "execution_count": 3,
   "id": "a9848e72",
   "metadata": {},
   "outputs": [
    {
     "ename": "SyntaxError",
     "evalue": "cannot assign to literal (2962404978.py, line 1)",
     "output_type": "error",
     "traceback": [
      "\u001b[1;36m  Input \u001b[1;32mIn [3]\u001b[1;36m\u001b[0m\n\u001b[1;33m    1=[]\u001b[0m\n\u001b[1;37m    ^\u001b[0m\n\u001b[1;31mSyntaxError\u001b[0m\u001b[1;31m:\u001b[0m cannot assign to literal\n"
     ]
    }
   ],
   "source": [
    "1=[]\n",
    "1"
   ]
  },
  {
   "cell_type": "code",
   "execution_count": 4,
   "id": "608826ad",
   "metadata": {},
   "outputs": [
    {
     "data": {
      "text/plain": [
       "[]"
      ]
     },
     "execution_count": 4,
     "metadata": {},
     "output_type": "execute_result"
    }
   ],
   "source": [
    "l=[]\n",
    "l"
   ]
  },
  {
   "cell_type": "code",
   "execution_count": 5,
   "id": "331d43af",
   "metadata": {},
   "outputs": [
    {
     "data": {
      "text/plain": [
       "[20, 30, 43, 50.69]"
      ]
     },
     "execution_count": 5,
     "metadata": {},
     "output_type": "execute_result"
    }
   ],
   "source": [
    "l=[20,30,43,50.69]\n",
    "l"
   ]
  },
  {
   "cell_type": "code",
   "execution_count": 6,
   "id": "454db98c",
   "metadata": {},
   "outputs": [
    {
     "data": {
      "text/plain": [
       "[20, 30, 43, 50.69]"
      ]
     },
     "execution_count": 6,
     "metadata": {},
     "output_type": "execute_result"
    }
   ],
   "source": [
    "# How to copy into other list\n",
    "l2=list(l)\n",
    "l2"
   ]
  },
  {
   "cell_type": "code",
   "execution_count": 7,
   "id": "9e2ab1c1",
   "metadata": {},
   "outputs": [
    {
     "data": {
      "text/plain": [
       "[45, 52, 78, 98, 88, 82]"
      ]
     },
     "execution_count": 7,
     "metadata": {},
     "output_type": "execute_result"
    }
   ],
   "source": [
    "marks = [45,52,78,98,88,82]\n",
    "marks"
   ]
  },
  {
   "cell_type": "code",
   "execution_count": 8,
   "id": "e3ade9d0",
   "metadata": {},
   "outputs": [],
   "source": [
    "copy_marks=marks.copy()"
   ]
  },
  {
   "cell_type": "code",
   "execution_count": 9,
   "id": "88d8f84a",
   "metadata": {},
   "outputs": [
    {
     "data": {
      "text/plain": [
       "[45, 52, 78, 98, 88, 82]"
      ]
     },
     "execution_count": 9,
     "metadata": {},
     "output_type": "execute_result"
    }
   ],
   "source": [
    "copy_marks"
   ]
  },
  {
   "cell_type": "code",
   "execution_count": 10,
   "id": "c154ffef",
   "metadata": {},
   "outputs": [
    {
     "data": {
      "text/plain": [
       "['M', 'A', 'U', 'S', 'A', 'M', 'I']"
      ]
     },
     "execution_count": 10,
     "metadata": {},
     "output_type": "execute_result"
    }
   ],
   "source": [
    "list('MAUSAMI')"
   ]
  },
  {
   "cell_type": "code",
   "execution_count": 11,
   "id": "ac395142",
   "metadata": {},
   "outputs": [
    {
     "data": {
      "text/plain": [
       "['1', '2', '3', '4', '5', '6', '7', '8', '9']"
      ]
     },
     "execution_count": 11,
     "metadata": {},
     "output_type": "execute_result"
    }
   ],
   "source": [
    "list(\"123456789\")"
   ]
  },
  {
   "cell_type": "code",
   "execution_count": 12,
   "id": "078f3523",
   "metadata": {},
   "outputs": [
    {
     "data": {
      "text/plain": [
       "[20, 30, 43, 50.69]"
      ]
     },
     "execution_count": 12,
     "metadata": {},
     "output_type": "execute_result"
    }
   ],
   "source": [
    "# How to copy into other list\n",
    "l2=list(l)\n",
    "l2"
   ]
  },
  {
   "cell_type": "markdown",
   "id": "b6199411",
   "metadata": {},
   "source": [
    "# append"
   ]
  },
  {
   "cell_type": "code",
   "execution_count": 13,
   "id": "0cd460fa",
   "metadata": {},
   "outputs": [
    {
     "ename": "SyntaxError",
     "evalue": "invalid syntax (3687583643.py, line 1)",
     "output_type": "error",
     "traceback": [
      "\u001b[1;36m  Input \u001b[1;32mIn [13]\u001b[1;36m\u001b[0m\n\u001b[1;33m    employee[]\u001b[0m\n\u001b[1;37m             ^\u001b[0m\n\u001b[1;31mSyntaxError\u001b[0m\u001b[1;31m:\u001b[0m invalid syntax\n"
     ]
    }
   ],
   "source": [
    "employee[]\n",
    "\n",
    "print('employee')"
   ]
  },
  {
   "cell_type": "code",
   "execution_count": 14,
   "id": "c83c6b78",
   "metadata": {},
   "outputs": [
    {
     "data": {
      "text/plain": [
       "[]"
      ]
     },
     "execution_count": 14,
     "metadata": {},
     "output_type": "execute_result"
    }
   ],
   "source": [
    "employee = []\n",
    "employee"
   ]
  },
  {
   "cell_type": "code",
   "execution_count": 15,
   "id": "0ab86ab9",
   "metadata": {},
   "outputs": [
    {
     "name": "stdout",
     "output_type": "stream",
     "text": [
      "['Rommi']\n"
     ]
    }
   ],
   "source": [
    "employee.append(\"Rommi\")\n",
    "print(employee)"
   ]
  },
  {
   "cell_type": "code",
   "execution_count": 16,
   "id": "aa05e69c",
   "metadata": {},
   "outputs": [
    {
     "name": "stdout",
     "output_type": "stream",
     "text": [
      "['Rommi', 'Raju', 'farhan']\n"
     ]
    }
   ],
   "source": [
    "employee.append('Raju')\n",
    "employee.append('farhan')\n",
    "print(employee)"
   ]
  },
  {
   "cell_type": "code",
   "execution_count": 17,
   "id": "7325f613",
   "metadata": {},
   "outputs": [
    {
     "name": "stdout",
     "output_type": "stream",
     "text": [
      "['Rommi', 'Raju', 'farhan', 'Ruhi', 'gunnu', 'Anvi', 'Devanshi']\n"
     ]
    }
   ],
   "source": [
    "employee.append('Ruhi')\n",
    "employee.append('gunnu')\n",
    "employee.append('Anvi')\n",
    "employee.append('Devanshi')\n",
    "print(employee)"
   ]
  },
  {
   "cell_type": "code",
   "execution_count": 18,
   "id": "bbf7e862",
   "metadata": {},
   "outputs": [
    {
     "name": "stdout",
     "output_type": "stream",
     "text": [
      "['Rommi', 'Raju', 'Roma', 'farhan', 'Ruhi', 'gunnu', 'Anvi', 'Devanshi']\n"
     ]
    }
   ],
   "source": [
    "employee.insert(2,\"Roma\")\n",
    "print(employee)"
   ]
  },
  {
   "cell_type": "code",
   "execution_count": 19,
   "id": "c7b19533",
   "metadata": {},
   "outputs": [
    {
     "data": {
      "text/plain": [
       "[]"
      ]
     },
     "execution_count": 19,
     "metadata": {},
     "output_type": "execute_result"
    }
   ],
   "source": [
    "faculity = []\n",
    "faculity\n"
   ]
  },
  {
   "cell_type": "code",
   "execution_count": 20,
   "id": "62ee3b38",
   "metadata": {},
   "outputs": [
    {
     "name": "stdout",
     "output_type": "stream",
     "text": [
      "['Nayak']\n"
     ]
    }
   ],
   "source": [
    "faculity.append('Nayak')\n",
    "print(faculity)"
   ]
  },
  {
   "cell_type": "code",
   "execution_count": 24,
   "id": "772ec19c",
   "metadata": {},
   "outputs": [
    {
     "name": "stdout",
     "output_type": "stream",
     "text": [
      "['Nayak', 'Anurag', 'shrawan', 'Ravi', 'Praveen', 'Anurag', 'shrawan', 'Ravi', 'Praveen', 'Anurag', 'shrawan', 'Ravi', 'Praveen', 'Anurag', 'shrawan', 'Ravi', 'Praveen']\n"
     ]
    }
   ],
   "source": [
    "faculity.append('Anurag')\n",
    "faculity.append('shrawan')\n",
    "faculity.append('Ravi')\n",
    "faculity.append('Praveen')\n",
    "print (faculity)"
   ]
  },
  {
   "cell_type": "code",
   "execution_count": 25,
   "id": "dbe5b8ef",
   "metadata": {},
   "outputs": [
    {
     "data": {
      "text/plain": [
       "[]"
      ]
     },
     "execution_count": 25,
     "metadata": {},
     "output_type": "execute_result"
    }
   ],
   "source": [
    "staff = []\n",
    "staff"
   ]
  },
  {
   "cell_type": "code",
   "execution_count": 29,
   "id": "268a5ae0",
   "metadata": {},
   "outputs": [
    {
     "name": "stdout",
     "output_type": "stream",
     "text": [
      "['Arvind']\n"
     ]
    }
   ],
   "source": [
    "staff.append('Arvind')\n",
    "print(staff) "
   ]
  },
  {
   "cell_type": "code",
   "execution_count": 31,
   "id": "73b49b70",
   "metadata": {},
   "outputs": [
    {
     "name": "stdout",
     "output_type": "stream",
     "text": [
      "['Arvind', 'Rahul', 'Golu', 'Amit']\n"
     ]
    }
   ],
   "source": [
    "staff.append('Rahul')\n",
    "staff.append('Golu')\n",
    "staff.append('Amit')\n",
    "print(staff)"
   ]
  },
  {
   "cell_type": "code",
   "execution_count": 39,
   "id": "810d8db5",
   "metadata": {},
   "outputs": [
    {
     "name": "stdout",
     "output_type": "stream",
     "text": [
      "['Arvind', 'Rajan', 'Rajan', 'Rahul', 'Golu', 'Amit']\n"
     ]
    }
   ],
   "source": [
    "staff.insert(1,'Rajan')\n",
    "print(staff)"
   ]
  },
  {
   "cell_type": "code",
   "execution_count": 40,
   "id": "ec2d1d59",
   "metadata": {},
   "outputs": [
    {
     "data": {
      "text/plain": [
       "[15000, 16000, 17000, 18000, 19000]"
      ]
     },
     "execution_count": 40,
     "metadata": {},
     "output_type": "execute_result"
    }
   ],
   "source": [
    "staff_salary=[15000,16000,17000,18000,19000]\n",
    "staff_salary"
   ]
  },
  {
   "cell_type": "code",
   "execution_count": 41,
   "id": "50347b87",
   "metadata": {},
   "outputs": [
    {
     "data": {
      "text/plain": [
       "6"
      ]
     },
     "execution_count": 41,
     "metadata": {},
     "output_type": "execute_result"
    }
   ],
   "source": [
    "len(staff)"
   ]
  },
  {
   "cell_type": "code",
   "execution_count": 43,
   "id": "c33c934b",
   "metadata": {},
   "outputs": [
    {
     "ename": "SyntaxError",
     "evalue": "invalid syntax (2891703968.py, line 1)",
     "output_type": "error",
     "traceback": [
      "\u001b[1;36m  Input \u001b[1;32mIn [43]\u001b[1;36m\u001b[0m\n\u001b[1;33m    staff[1]=\u001b[0m\n\u001b[1;37m             ^\u001b[0m\n\u001b[1;31mSyntaxError\u001b[0m\u001b[1;31m:\u001b[0m invalid syntax\n"
     ]
    }
   ],
   "source": [
    "staff[1]="
   ]
  },
  {
   "cell_type": "code",
   "execution_count": 37,
   "id": "11d6b95b",
   "metadata": {},
   "outputs": [
    {
     "ename": "SyntaxError",
     "evalue": "invalid syntax (501471460.py, line 1)",
     "output_type": "error",
     "traceback": [
      "\u001b[1;36m  Input \u001b[1;32mIn [37]\u001b[1;36m\u001b[0m\n\u001b[1;33m    staff[0]=\u001b[0m\n\u001b[1;37m             ^\u001b[0m\n\u001b[1;31mSyntaxError\u001b[0m\u001b[1;31m:\u001b[0m invalid syntax\n"
     ]
    }
   ],
   "source": [
    "staff[0]="
   ]
  },
  {
   "cell_type": "code",
   "execution_count": 44,
   "id": "fcae12a3",
   "metadata": {},
   "outputs": [
    {
     "data": {
      "text/plain": [
       "['Arvind', 'Rajan', 'Rajan', 'Rahul', 'Golu', 'Amit']"
      ]
     },
     "execution_count": 44,
     "metadata": {},
     "output_type": "execute_result"
    }
   ],
   "source": [
    "staff"
   ]
  },
  {
   "cell_type": "code",
   "execution_count": 46,
   "id": "723d641e",
   "metadata": {},
   "outputs": [
    {
     "data": {
      "text/plain": [
       "'Rajan'"
      ]
     },
     "execution_count": 46,
     "metadata": {},
     "output_type": "execute_result"
    }
   ],
   "source": [
    "staff[1]"
   ]
  },
  {
   "cell_type": "code",
   "execution_count": 48,
   "id": "40d9a125",
   "metadata": {},
   "outputs": [
    {
     "ename": "NameError",
     "evalue": "name 'Yadav' is not defined",
     "output_type": "error",
     "traceback": [
      "\u001b[1;31m---------------------------------------------------------------------------\u001b[0m",
      "\u001b[1;31mNameError\u001b[0m                                 Traceback (most recent call last)",
      "Input \u001b[1;32mIn [48]\u001b[0m, in \u001b[0;36m<cell line: 1>\u001b[1;34m()\u001b[0m\n\u001b[1;32m----> 1\u001b[0m staff[\u001b[38;5;241m1\u001b[39m]\u001b[38;5;241m=\u001b[39m\u001b[43mYadav\u001b[49m\n\u001b[0;32m      2\u001b[0m staff\n",
      "\u001b[1;31mNameError\u001b[0m: name 'Yadav' is not defined"
     ]
    }
   ],
   "source": [
    "staff[1]=Yadav\n",
    "staff"
   ]
  },
  {
   "cell_type": "code",
   "execution_count": null,
   "id": "175a58a6",
   "metadata": {},
   "outputs": [],
   "source": []
  }
 ],
 "metadata": {
  "kernelspec": {
   "display_name": "Python 3 (ipykernel)",
   "language": "python",
   "name": "python3"
  },
  "language_info": {
   "codemirror_mode": {
    "name": "ipython",
    "version": 3
   },
   "file_extension": ".py",
   "mimetype": "text/x-python",
   "name": "python",
   "nbconvert_exporter": "python",
   "pygments_lexer": "ipython3",
   "version": "3.9.12"
  }
 },
 "nbformat": 4,
 "nbformat_minor": 5
}
