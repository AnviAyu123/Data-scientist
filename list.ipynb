{
 "cells": [
  {
   "cell_type": "markdown",
   "id": "2154fac5",
   "metadata": {},
   "source": [
    "## Block structure and whitespace"
   ]
  },
  {
   "cell_type": "markdown",
   "id": "5dff6e61",
   "metadata": {},
   "source": [
    "the code that is executed when a specific condition is met is defined in a \"block\" . In python , the block structure is signnalled by changes in a certain  block level must be indented equally and indented more than the surroundding scope the standard is to use 4 spaces for each level of block indentation. statements preceding blocks generally end with a colon(:)\n",
    "     Because there are no semi colons or other end- of - line indecators in python ,breacking lines of code requires either a continuation character ( / as the last char )or for the break to occur inside an unfinished structure(such as parentheses)"
   ]
  },
  {
   "cell_type": "markdown",
   "id": "5e6e0350",
   "metadata": {},
   "source": [
    "   ## Advance type : Containers"
   ]
  },
  {
   "cell_type": "markdown",
   "id": "49de521c",
   "metadata": {},
   "source": [
    "one of the advantages of python as a programming language is the ease with  which it allows you to manipulate containers.\n",
    "containers or collections are an integral part of the language ans as you'll see, built in to the core of the language's syntax. AS a result, thinking in a pythonic manner means thinking about containers.\n"
   ]
  },
  {
   "cell_type": "markdown",
   "id": "11722388",
   "metadata": {},
   "source": [
    "####     Lists"
   ]
  },
  {
   "cell_type": "markdown",
   "id": "2e5dc3c8",
   "metadata": {},
   "source": [
    "the first containers type that we will look at is the list.A list represents an ordered, mutuable collection of objects.\n",
    "you can mix and match any type of object in a list, add to it and remove from it at will."
   ]
  },
  {
   "cell_type": "markdown",
   "id": "59fa226f",
   "metadata": {},
   "source": [
    "######       creating empty list, To Create an empty lists, we can use empty squre bracketsor use the list [ ] Functions with no arguments."
   ]
  },
  {
   "cell_type": "code",
   "execution_count": 2,
   "id": "aefe798a",
   "metadata": {},
   "outputs": [
    {
     "data": {
      "text/plain": [
       "[]"
      ]
     },
     "execution_count": 2,
     "metadata": {},
     "output_type": "execute_result"
    }
   ],
   "source": [
    "l = []\n",
    "l"
   ]
  },
  {
   "cell_type": "code",
   "execution_count": 4,
   "id": "7b1625f4",
   "metadata": {},
   "outputs": [
    {
     "data": {
      "text/plain": [
       "['a', 'b', 'c']"
      ]
     },
     "execution_count": 4,
     "metadata": {},
     "output_type": "execute_result"
    }
   ],
   "source": [
    "l = ['a' ,'b' ,'c']\n",
    "l"
   ]
  },
  {
   "cell_type": "code",
   "execution_count": 5,
   "id": "e5cf38bb",
   "metadata": {},
   "outputs": [
    {
     "data": {
      "text/plain": [
       "['a', 6.25, 9]"
      ]
     },
     "execution_count": 5,
     "metadata": {},
     "output_type": "execute_result"
    }
   ],
   "source": [
    "l = ['a' ,6.25, 9]\n",
    "l"
   ]
  },
  {
   "cell_type": "code",
   "execution_count": 6,
   "id": "614ac4a4",
   "metadata": {},
   "outputs": [
    {
     "data": {
      "text/plain": [
       "['a', 6.25, 9]"
      ]
     },
     "execution_count": 6,
     "metadata": {},
     "output_type": "execute_result"
    }
   ],
   "source": [
    "# How to copy in to other list\n",
    "l2 = list(l)\n",
    "l2"
   ]
  },
  {
   "cell_type": "code",
   "execution_count": 7,
   "id": "625864dd",
   "metadata": {},
   "outputs": [
    {
     "data": {
      "text/plain": [
       "[35, 25, 98, 75, 45, 56, 36, 100]"
      ]
     },
     "execution_count": 7,
     "metadata": {},
     "output_type": "execute_result"
    }
   ],
   "source": [
    "marks = [35,25,98,75,45,56,36,100]\n",
    "marks"
   ]
  },
  {
   "cell_type": "code",
   "execution_count": 8,
   "id": "0ee20e9a",
   "metadata": {},
   "outputs": [
    {
     "data": {
      "text/plain": [
       "[35, 25, 98, 75, 45, 56, 36, 100]"
      ]
     },
     "execution_count": 8,
     "metadata": {},
     "output_type": "execute_result"
    }
   ],
   "source": [
    "copy_marks = marks.copy()\n",
    "copy_marks"
   ]
  },
  {
   "cell_type": "markdown",
   "id": "46a5d1f6",
   "metadata": {},
   "source": [
    "A python string is also a sequence of characters and can be treated as an iterable over those characters. combined with the list () function , a new list of the characters can easily be generated."
   ]
  },
  {
   "cell_type": "code",
   "execution_count": 9,
   "id": "5164f13e",
   "metadata": {},
   "outputs": [
    {
     "data": {
      "text/plain": [
       "['M', 'A', 'U', 'S', 'A', 'M', 'I']"
      ]
     },
     "execution_count": 9,
     "metadata": {},
     "output_type": "execute_result"
    }
   ],
   "source": [
    "list ('MAUSAMI')"
   ]
  },
  {
   "cell_type": "code",
   "execution_count": 10,
   "id": "646f32c5",
   "metadata": {},
   "outputs": [
    {
     "ename": "TypeError",
     "evalue": "'int' object is not iterable",
     "output_type": "error",
     "traceback": [
      "\u001b[1;31m---------------------------------------------------------------------------\u001b[0m",
      "\u001b[1;31mTypeError\u001b[0m                                 Traceback (most recent call last)",
      "Input \u001b[1;32mIn [10]\u001b[0m, in \u001b[0;36m<cell line: 1>\u001b[1;34m()\u001b[0m\n\u001b[1;32m----> 1\u001b[0m \u001b[38;5;28;43mlist\u001b[39;49m\u001b[43m(\u001b[49m\u001b[38;5;241;43m123456\u001b[39;49m\u001b[43m)\u001b[49m\n",
      "\u001b[1;31mTypeError\u001b[0m: 'int' object is not iterable"
     ]
    }
   ],
   "source": [
    "list(123456)"
   ]
  },
  {
   "cell_type": "markdown",
   "id": "36eb6915",
   "metadata": {},
   "source": [
    "####  APPEND"
   ]
  },
  {
   "cell_type": "code",
   "execution_count": 11,
   "id": "055f37f7",
   "metadata": {},
   "outputs": [
    {
     "name": "stdout",
     "output_type": "stream",
     "text": [
      "['Radha ']\n"
     ]
    }
   ],
   "source": [
    "employee = []\n",
    "employee.append ('Radha ')\n",
    "print(employee)"
   ]
  },
  {
   "cell_type": "code",
   "execution_count": 12,
   "id": "ff88bcd6",
   "metadata": {},
   "outputs": [
    {
     "name": "stdout",
     "output_type": "stream",
     "text": [
      "['Radha ', 'Aman', 'Rahul']\n"
     ]
    }
   ],
   "source": [
    "employee.append ('Aman')\n",
    "employee.append ('Rahul')\n",
    "print(employee)"
   ]
  },
  {
   "cell_type": "code",
   "execution_count": 1,
   "id": "e27dbc3e",
   "metadata": {},
   "outputs": [
    {
     "ename": "NameError",
     "evalue": "name 'employee' is not defined",
     "output_type": "error",
     "traceback": [
      "\u001b[1;31m-----------------------------\u001b[0m",
      "\u001b[1;31mNameError\u001b[0mTraceback (most recent call last)",
      "Input \u001b[1;32mIn [1]\u001b[0m, in \u001b[0;36m<cell line: 1>\u001b[1;34m()\u001b[0m\n\u001b[1;32m----> 1\u001b[0m \u001b[43memployee\u001b[49m\u001b[38;5;241m.\u001b[39minsert (\u001b[38;5;241m1\u001b[39m,\u001b[38;5;124m'\u001b[39m\u001b[38;5;124mArohi\u001b[39m\u001b[38;5;124m'\u001b[39m)\n\u001b[0;32m      2\u001b[0m \u001b[38;5;28mprint\u001b[39m(employee)\n",
      "\u001b[1;31mNameError\u001b[0m: name 'employee' is not defined"
     ]
    }
   ],
   "source": [
    "employee.insert (1,'Arohi')\n",
    "print(employee)"
   ]
  },
  {
   "cell_type": "code",
   "execution_count": null,
   "id": "ea188f78",
   "metadata": {},
   "outputs": [],
   "source": []
  }
 ],
 "metadata": {
  "kernelspec": {
   "display_name": "Python 3 (ipykernel)",
   "language": "python",
   "name": "python3"
  },
  "language_info": {
   "codemirror_mode": {
    "name": "ipython",
    "version": 3
   },
   "file_extension": ".py",
   "mimetype": "text/x-python",
   "name": "python",
   "nbconvert_exporter": "python",
   "pygments_lexer": "ipython3",
   "version": "3.9.12"
  }
 },
 "nbformat": 4,
 "nbformat_minor": 5
}
