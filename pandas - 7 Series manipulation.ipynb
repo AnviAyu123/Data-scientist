{
 "cells": [
  {
   "cell_type": "markdown",
   "id": "6fa8b56f",
   "metadata": {},
   "source": [
    "# Series Manipulation"
   ]
  },
  {
   "cell_type": "code",
   "execution_count": 1,
   "id": "0a5c3520",
   "metadata": {},
   "outputs": [],
   "source": [
    "import numpy as np\n",
    "import pandas as pd"
   ]
  },
  {
   "cell_type": "code",
   "execution_count": 2,
   "id": "1f494353",
   "metadata": {},
   "outputs": [
    {
     "data": {
      "text/plain": [
       "CA    1\n",
       "OR    2\n",
       "CO    3\n",
       "AZ    4\n",
       "dtype: int64"
      ]
     },
     "execution_count": 2,
     "metadata": {},
     "output_type": "execute_result"
    }
   ],
   "source": [
    "# You can give your own index names.\n",
    "\n",
    "ser1 = pd.Series(data=[1,2,3,4],index=['CA','OR','CO','AZ'])\n",
    "ser1"
   ]
  },
  {
   "cell_type": "code",
   "execution_count": 3,
   "id": "f2f41c07",
   "metadata": {},
   "outputs": [
    {
     "name": "stdout",
     "output_type": "stream",
     "text": [
      "\n",
      "  indexing by name of the item/object(string identifier) \n",
      "--------------------------------------------------------\n",
      " Value for CA in ser1: 1\n",
      " Value for AZ in ser1: 4\n"
     ]
    }
   ],
   "source": [
    "print(\"\\n  indexing by name of the item/object(string identifier) \\n\",'-' * 56,sep='')\n",
    "print(\" Value for CA in ser1:\",ser1['CA'])\n",
    "print(\" Value for AZ in ser1:\",ser1['AZ'])\n"
   ]
  },
  {
   "cell_type": "code",
   "execution_count": 4,
   "id": "7a837ec1",
   "metadata": {},
   "outputs": [
    {
     "name": "stdout",
     "output_type": "stream",
     "text": [
      "\n",
      " Indexing by number (Positional value in the series)\n",
      "--------------------------------------------------------\n",
      " Value for CA in ser1: 1\n",
      " Value for AZ in ser1: 4\n"
     ]
    }
   ],
   "source": [
    "# You can also fetch elements by elements by its positional index\n",
    "print(\"\\n Indexing by number (Positional value in the series)\\n\",'-'*56,sep ='')\n",
    "print(\" Value for CA in ser1:\",ser1[0])\n",
    "print(\" Value for AZ in ser1:\",ser1[3])"
   ]
  },
  {
   "cell_type": "code",
   "execution_count": 5,
   "id": "2b798970",
   "metadata": {},
   "outputs": [
    {
     "data": {
      "text/plain": [
       "CA    1\n",
       "OR    2\n",
       "CO    3\n",
       "AZ    4\n",
       "dtype: int64"
      ]
     },
     "execution_count": 5,
     "metadata": {},
     "output_type": "execute_result"
    }
   ],
   "source": [
    "ser1"
   ]
  },
  {
   "cell_type": "code",
   "execution_count": 6,
   "id": "4450c2a7",
   "metadata": {},
   "outputs": [
    {
     "name": "stdout",
     "output_type": "stream",
     "text": [
      "\n",
      " Indexing by a range\n",
      " --------------------------------------------------\n",
      "Value for OR,CO and AZ in ser1:\n",
      " OR    2\n",
      "CO    3\n",
      "AZ    4\n",
      "dtype: int64\n"
     ]
    }
   ],
   "source": [
    "print(\"\\n Indexing by a range\\n\",'-'*50)\n",
    "print(\"Value for OR,CO and AZ in ser1:\\n\",ser1[1:4])"
   ]
  },
  {
   "cell_type": "code",
   "execution_count": 7,
   "id": "f4330151",
   "metadata": {},
   "outputs": [],
   "source": [
    "ser1 = pd.Series([1,2,3,4,10],[\"CA\",\"OR\",\"CO\",\"AZ\",\"NV\"])\n",
    "\n",
    "ser2 = pd.Series([1,2,5,4,30],[\"CA\",\"OR\",\"NV\",\"PA\",\"CO\"])"
   ]
  },
  {
   "cell_type": "code",
   "execution_count": 8,
   "id": "bf236b42",
   "metadata": {},
   "outputs": [
    {
     "name": "stdout",
     "output_type": "stream",
     "text": [
      "ser1 \n",
      " CA     1\n",
      "OR     2\n",
      "CO     3\n",
      "AZ     4\n",
      "NV    10\n",
      "dtype: int64\n",
      "**************************************************\n",
      "ser2 \n",
      " CA     1\n",
      "OR     2\n",
      "NV     5\n",
      "PA     4\n",
      "CO    30\n",
      "dtype: int64\n"
     ]
    }
   ],
   "source": [
    "print('ser1 \\n',ser1)\n",
    "\n",
    "print('*'*50)\n",
    "\n",
    "print('ser2 \\n',ser2)"
   ]
  },
  {
   "cell_type": "code",
   "execution_count": 9,
   "id": "d3916c4a",
   "metadata": {},
   "outputs": [
    {
     "name": "stdout",
     "output_type": "stream",
     "text": [
      "\n",
      " After adding the two series,the result looks like this.....\n",
      " --------------------------------------------------\n",
      "AZ     NaN\n",
      "CA     2.0\n",
      "CO    33.0\n",
      "NV    15.0\n",
      "OR     4.0\n",
      "PA     NaN\n",
      "dtype: float64\n",
      "\n",
      " Python tries to add values where it finds common index name, and keeps NaN where indices are missing\n",
      "\n"
     ]
    }
   ],
   "source": [
    "# Let's add both series\n",
    "\n",
    "ser3=ser1+ser2\n",
    "\n",
    "print(\"\\n After adding the two series,the result looks like this.....\\n\",'-'*50)\n",
    "\n",
    "print(ser3)\n",
    "\n",
    "print(\"\\n Python tries to add values where it finds common index name, and keeps NaN where indices are missing\\n\")"
   ]
  },
  {
   "cell_type": "markdown",
   "id": "9be7bf10",
   "metadata": {},
   "source": [
    "### Similarly you can multiply,substract and do other operations on it"
   ]
  },
  {
   "cell_type": "code",
   "execution_count": null,
   "id": "efdfb8ed",
   "metadata": {},
   "outputs": [],
   "source": []
  }
 ],
 "metadata": {
  "kernelspec": {
   "display_name": "Python 3 (ipykernel)",
   "language": "python",
   "name": "python3"
  },
  "language_info": {
   "codemirror_mode": {
    "name": "ipython",
    "version": 3
   },
   "file_extension": ".py",
   "mimetype": "text/x-python",
   "name": "python",
   "nbconvert_exporter": "python",
   "pygments_lexer": "ipython3",
   "version": "3.9.12"
  }
 },
 "nbformat": 4,
 "nbformat_minor": 5
}
