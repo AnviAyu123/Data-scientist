{
 "cells": [
  {
   "cell_type": "code",
   "execution_count": 1,
   "id": "27e147be",
   "metadata": {},
   "outputs": [],
   "source": [
    "marks_1 = 88\n",
    "subject = 'Data science'\n",
    "marks_2 = 33"
   ]
  },
  {
   "cell_type": "code",
   "execution_count": 2,
   "id": "29efb68d",
   "metadata": {},
   "outputs": [
    {
     "name": "stdout",
     "output_type": "stream",
     "text": [
      "you are adding integer to string,Make sure both data types are matching\n"
     ]
    }
   ],
   "source": [
    "try:\n",
    "    total = marks_1 + subject\n",
    "    \n",
    "    \n",
    "#     Print (average) You can also return the result here\n",
    "\n",
    "except  TypeError:\n",
    "    print('you are adding integer to string,Make sure both data types are matching')\n",
    "    \n",
    "    \n",
    "#    else is optional sometimes\n",
    "else:\n",
    "    print('Total marks = ',total)"
   ]
  },
  {
   "cell_type": "markdown",
   "id": "3b7d8774",
   "metadata": {},
   "source": [
    "In the above example you got an error,now you know your mistake. You can correct your mistake now."
   ]
  },
  {
   "cell_type": "code",
   "execution_count": 3,
   "id": "cae0e1ba",
   "metadata": {},
   "outputs": [
    {
     "name": "stdout",
     "output_type": "stream",
     "text": [
      "Total marks =  121\n"
     ]
    }
   ],
   "source": [
    "try:\n",
    "    total = marks_1 + marks_2\n",
    "    \n",
    "    \n",
    "#     Print (average) You can also return the result here\n",
    "\n",
    "except  TypeError:\n",
    "    print('you are adding integer to string,Make sure both data types are matching')\n",
    "    \n",
    "    \n",
    "#    else is optional sometimes\n",
    "else:\n",
    "    print('Total marks = ',total)"
   ]
  },
  {
   "cell_type": "markdown",
   "id": "a6b5bd4a",
   "metadata": {},
   "source": [
    "##            Let's try how this work in real time."
   ]
  },
  {
   "cell_type": "markdown",
   "id": "69cfd9e3",
   "metadata": {},
   "source": [
    "http://daringfireball.net/projects/markdown/"
   ]
  },
  {
   "cell_type": "markdown",
   "id": "674aead8",
   "metadata": {},
   "source": [
    "Write a program to insure car or renew car insursnce.Programm to accept car number. Customer name and Mobile number,if user\n",
    "don't provide the detailsthen system needs to raise Exceptions saying it is mandatory field / required field."
   ]
  },
  {
   "cell_type": "markdown",
   "id": "ebb44105",
   "metadata": {},
   "source": [
    "####     Let's check this in real time"
   ]
  },
  {
   "cell_type": "markdown",
   "id": "74d4e15d",
   "metadata": {},
   "source": [
    "https://www.insurancedekho.com/car-insurance"
   ]
  },
  {
   "cell_type": "markdown",
   "id": "3a92f128",
   "metadata": {},
   "source": [
    "NOTE :- Above link is for demonstration purpose only"
   ]
  },
  {
   "cell_type": "code",
   "execution_count": 9,
   "id": "84630051",
   "metadata": {},
   "outputs": [
    {
     "name": "stdout",
     "output_type": "stream",
     "text": [
      " Your car Number  DL12AB1776\n",
      " Name  Mausami\n",
      " Enter Your Mobile Number  9876541023\n",
      "Thanks For All Details\n"
     ]
    }
   ],
   "source": [
    "try:\n",
    "    car_number = input(' Your car Number')\n",
    "    name = input(' Name')\n",
    "    mobile_number = input(' Enter Your Mobile Number')\n",
    "    \n",
    "    if car_number == ' ':\n",
    "        raise Exception()\n",
    "    elif name == ' ':\n",
    "        raise Exeption()\n",
    "    elif mobile_number ==' ':\n",
    "        raise Exception()\n",
    "    else:\n",
    "        pass\n",
    "    \n",
    "except:\n",
    "    if car_number == ' ':\n",
    "        print('\\n The registration number field is required.  \\n')\n",
    "        \n",
    "    if name == ' ':\n",
    "        print('\\n The customer name  field is required.  \\n')\n",
    "        \n",
    "    if mobile_number ==' ':\n",
    "        print('\\n The Mobile Number field is required.  \\n')\n",
    "        \n",
    "        \n",
    "else:\n",
    "    print('Thanks For All Details')"
   ]
  },
  {
   "cell_type": "markdown",
   "id": "fe22bdec",
   "metadata": {},
   "source": [
    "#####  Finally : Block"
   ]
  },
  {
   "cell_type": "markdown",
   "id": "3b08880e",
   "metadata": {},
   "source": [
    "#####  Now, We don't actually need to memorize the list of exception types! Now what if we keep wanting to ran code after the exception occured?\n",
    "##### this is where finally comes in."
   ]
  },
  {
   "cell_type": "markdown",
   "id": "d0ffd9e8",
   "metadata": {},
   "source": [
    "########### Finally the finally : Block of code will always be run regardless if there was an exception in the try code block. The syntax is:\n",
    "\n",
    "\n",
    "        try:\n",
    "            code block here\n",
    "            ................\n",
    "            \n",
    "            Due to any exception, this code may be skipped!\n",
    "        Finally:\n",
    "            This code block would always be executed.\n",
    "          \n",
    "          \n",
    "For Example"
   ]
  },
  {
   "cell_type": "code",
   "execution_count": 8,
   "id": "7dd2b123",
   "metadata": {},
   "outputs": [
    {
     "name": "stdout",
     "output_type": "stream",
     "text": [
      " Your car Number   DL12AB1776\n",
      " Name  Mausam\n",
      " Enter Your Mobile Number  1234560789\n",
      "Thanks For All Details\n",
      "In any case finally block will execute\n"
     ]
    }
   ],
   "source": [
    "try:\n",
    "    car_number = input(' Your car Number')\n",
    "    name = input(' Name')\n",
    "    mobile_number = input(' Enter Your Mobile Number')\n",
    "    \n",
    "    if car_number == ' ':\n",
    "        raise Exception()\n",
    "    elif name == ' ':\n",
    "        raise Exeption()\n",
    "    elif mobile_number ==' ':\n",
    "        raise Exception()\n",
    "    else:\n",
    "        pass\n",
    "    \n",
    "except:\n",
    "    if car_number == ' ':\n",
    "        print('\\n The registration number field is required.  \\n')\n",
    "        \n",
    "    if name == ' ':\n",
    "        print('\\n The customer name  field is required.  \\n')\n",
    "        \n",
    "    if mobile_number ==' ':\n",
    "        print('\\n The Mobile Number field is required.  \\n')\n",
    "        \n",
    "        \n",
    "else:\n",
    "    print('Thanks For All Details')\n",
    "    \n",
    "# Finally block execute all the time.\n",
    "# This will help us to know if program is not closing in between it also close the objects and clean up the resources\n",
    "\n",
    "finally:\n",
    "    print('In any case finally block will execute')"
   ]
  },
  {
   "cell_type": "markdown",
   "id": "e084813c",
   "metadata": {},
   "source": [
    "We can use this in conjunction with except. Let's see a new example that will take into account a user putting in the wrong input:"
   ]
  },
  {
   "cell_type": "code",
   "execution_count": 10,
   "id": "2dffe286",
   "metadata": {},
   "outputs": [],
   "source": [
    "def mobile_number():\n",
    "    try:\n",
    "        val = int (input(\"Please enter your mobile number\"))\n",
    "        \n",
    "    except:\n",
    "        print(\"Looks like you did not enter an integer\")\n",
    "        \n",
    "    print(val)"
   ]
  },
  {
   "cell_type": "code",
   "execution_count": 13,
   "id": "1a5a9911",
   "metadata": {},
   "outputs": [
    {
     "name": "stdout",
     "output_type": "stream",
     "text": [
      "Please enter your mobile number   9876540123\n",
      "9876540123\n"
     ]
    }
   ],
   "source": [
    "mobile_number()"
   ]
  },
  {
   "cell_type": "code",
   "execution_count": 14,
   "id": "5e9c6ca1",
   "metadata": {},
   "outputs": [],
   "source": [
    "val = 1234567890\n"
   ]
  },
  {
   "cell_type": "code",
   "execution_count": 15,
   "id": "da1a3a83",
   "metadata": {},
   "outputs": [
    {
     "ename": "TypeError",
     "evalue": "object of type 'int' has no len()",
     "output_type": "error",
     "traceback": [
      "\u001b[1;31m---------------------------------------------------------------------------\u001b[0m",
      "\u001b[1;31mTypeError\u001b[0m                                 Traceback (most recent call last)",
      "Input \u001b[1;32mIn [15]\u001b[0m, in \u001b[0;36m<cell line: 1>\u001b[1;34m()\u001b[0m\n\u001b[1;32m----> 1\u001b[0m \u001b[38;5;28;43mlen\u001b[39;49m\u001b[43m(\u001b[49m\u001b[43mval\u001b[49m\u001b[43m)\u001b[49m\n",
      "\u001b[1;31mTypeError\u001b[0m: object of type 'int' has no len()"
     ]
    }
   ],
   "source": [
    "len(val)"
   ]
  },
  {
   "cell_type": "code",
   "execution_count": 16,
   "id": "82a410f8",
   "metadata": {},
   "outputs": [
    {
     "data": {
      "text/plain": [
       "10"
      ]
     },
     "execution_count": 16,
     "metadata": {},
     "output_type": "execute_result"
    }
   ],
   "source": [
    "len(str(val))"
   ]
  },
  {
   "cell_type": "code",
   "execution_count": 36,
   "id": "a92e7bac",
   "metadata": {},
   "outputs": [
    {
     "ename": "SyntaxError",
     "evalue": "invalid syntax (61848354.py, line 6)",
     "output_type": "error",
     "traceback": [
      "\u001b[1;36m  Input \u001b[1;32mIn [36]\u001b[1;36m\u001b[0m\n\u001b[1;33m    if len(str(val)) |=  10:\u001b[0m\n\u001b[1;37m                     ^\u001b[0m\n\u001b[1;31mSyntaxError\u001b[0m\u001b[1;31m:\u001b[0m invalid syntax\n"
     ]
    }
   ],
   "source": [
    "def mobile_number():\n",
    "    while True:\n",
    "        try:\n",
    "            val = int(input(\"Please enter mobile number: \"))\n",
    "            \n",
    "            if len(str(val)) |=  10:\n",
    "                print ('Mobile number must be 10 digits')\n",
    "                \n",
    "                continue\n",
    "            else:\n",
    "                print('Thank You')\n",
    "                break\n",
    "                \n",
    "        except:\n",
    "            print(\"Looks like you did not enter an integer!\")\n",
    "            continue"
   ]
  },
  {
   "cell_type": "code",
   "execution_count": 33,
   "id": "7fbb0c15",
   "metadata": {},
   "outputs": [
    {
     "name": "stdout",
     "output_type": "stream",
     "text": [
      "Please enter mobile number: 123456\n",
      "Thank You\n"
     ]
    }
   ],
   "source": [
    "mobile_number()"
   ]
  },
  {
   "cell_type": "code",
   "execution_count": null,
   "id": "bc5779ce",
   "metadata": {},
   "outputs": [],
   "source": []
  }
 ],
 "metadata": {
  "kernelspec": {
   "display_name": "Python 3 (ipykernel)",
   "language": "python",
   "name": "python3"
  },
  "language_info": {
   "codemirror_mode": {
    "name": "ipython",
    "version": 3
   },
   "file_extension": ".py",
   "mimetype": "text/x-python",
   "name": "python",
   "nbconvert_exporter": "python",
   "pygments_lexer": "ipython3",
   "version": "3.9.12"
  }
 },
 "nbformat": 4,
 "nbformat_minor": 5
}
