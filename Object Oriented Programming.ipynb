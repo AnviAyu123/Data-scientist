{
 "cells": [
  {
   "cell_type": "markdown",
   "id": "f75d73fc",
   "metadata": {},
   "source": [
    "# OBJECT ORIENTED PROGRAMMING (OOP)\n",
    "\n",
    "  **Object Oriented programming (oop )** is a programming paradigm that allows abstraction through the concept connteracting entities. This programming works contradictory to conventional model and is procedural. in which programs are organized as a sequence of commands or statements to perform.\n",
    "\n",
    "We can think an object as an entity that resides in memory. has a state and it's able to perform some actions.\n",
    "\n",
    "More formally objects are entities that represent instances of a general abstract concept called class.  In python ,\"ATTRIBUTES\"are the variables defining an object state and the possiable actions are called \"METHODS\".\n",
    "\n",
    "\n",
    "In PYTHON, everything is an object also classes and functions.\n"
   ]
  },
  {
   "cell_type": "markdown",
   "id": "6fbe8d4e",
   "metadata": {},
   "source": [
    "######      class is used to keep related things together."
   ]
  },
  {
   "cell_type": "markdown",
   "id": "bc80c142",
   "metadata": {},
   "source": [
    "###  REAL TIME EXAMPLE"
   ]
  },
  {
   "cell_type": "markdown",
   "id": "b48a1787",
   "metadata": {},
   "source": [
    "Imagine you are opening a bank account and you fill most of your personal information like username,NAME, Last name age city, phone number,gmail id etc.\n",
    "\n",
    "Once you fill all your information it will be registered with bank.\n",
    "\n",
    "whenever you want to check your personal information, you click on personal tab. Your name,Lastname, account number,city etcwill be displayed.\n",
    "\n",
    "Whenever you want to deposit or withdraw money you click other tabs."
   ]
  },
  {
   "cell_type": "markdown",
   "id": "6da33c80",
   "metadata": {},
   "source": [
    "##### so here,\n",
    "       Bank Account is your class.\n",
    "        __ init__ (self....) will register your details with bank.\n",
    "        self will help you to get your respective details back when you click various tabs.\n",
    "        login , Personal information and password change, withdrawal are methods. ***"
   ]
  },
  {
   "cell_type": "markdown",
   "id": "a78f251f",
   "metadata": {},
   "source": [
    "## 1. HOW TO DEFINE CLASSES"
   ]
  },
  {
   "cell_type": "markdown",
   "id": "682fd504",
   "metadata": {},
   "source": [
    "####  1.1 Creating a class"
   ]
  },
  {
   "cell_type": "markdown",
   "id": "a789c375",
   "metadata": {},
   "source": [
    "- Suppose we want to create a class , named person as a prototype, a sort of template for any number of 'person' object (instances). \n",
    "\n",
    "- The following python syntax defines a class:\n",
    "\n",
    "        class class_name (base_classes):\n",
    "            statements\n",
    "            \n",
    "            \n",
    "            \n",
    "class names should always be uppercase(it's a naming convention)            "
   ]
  },
  {
   "cell_type": "markdown",
   "id": "aa78aa74",
   "metadata": {},
   "source": [
    "class Account:\n",
    "    pass"
   ]
  },
  {
   "cell_type": "markdown",
   "id": "2ab4a38c",
   "metadata": {},
   "source": [
    "- **__ int__(self,)**\n",
    "\n",
    "- **__ int __ (self...) will register / initialize your details with google.**\n",
    "\n",
    "- **self will help you to get youe respective details back when you click different tabs.**"
   ]
  },
  {
   "cell_type": "code",
   "execution_count": 2,
   "id": "2f4e5b22",
   "metadata": {},
   "outputs": [],
   "source": [
    "class Account:\n",
    "    def __init__ (self,name,last_name,city,user_id,password,phone):\n",
    "        self.name          = name\n",
    "        self.last_name     = last_name\n",
    "        self.city          = city\n",
    "        self.user_id       = user_id\n",
    "        self.password      = password\n",
    "        self.phone         = phone"
   ]
  },
  {
   "cell_type": "markdown",
   "id": "b5cb11a2",
   "metadata": {},
   "source": [
    "## 1.2 Methods"
   ]
  },
  {
   "cell_type": "markdown",
   "id": "e525bce7",
   "metadata": {},
   "source": [
    "- In the below example arguments are being passed to the init method to initialize the object . The keyword self represents the inatance of a class and binds the attributes with the given arguments In the same way you can create and pass on multiple names as an arguments You can create multiplemethods for different resions."
   ]
  },
  {
   "cell_type": "markdown",
   "id": "c3d5aff5",
   "metadata": {},
   "source": [
    "###### Let's  see with real time practical example."
   ]
  },
  {
   "cell_type": "code",
   "execution_count": 3,
   "id": "4948556d",
   "metadata": {},
   "outputs": [
    {
     "name": "stdout",
     "output_type": "stream",
     "text": [
      "Enter your name  = Mausami\n",
      "Enter your Last name  = Kumari\n",
      "Enter City name  = Delhi\n",
      "Enter preferred user id  = Anvi\n",
      "chose you password  = 123456\n",
      "Enter phone number  = 9876540123\n"
     ]
    }
   ],
   "source": [
    "class Account:   # This class\n",
    "    def __init__( self, name       = input(\"Enter your name  = \"),\n",
    "                          last_name  = input(\"Enter your Last name  = \"),\n",
    "                          city       = input(\"Enter City name  = \"),\n",
    "                          user_id    = input(\"Enter preferred user id  = \"),\n",
    "                          password   = input(\"chose you password  = \"),\n",
    "                          phone      = input(\"Enter phone number  = \")):  # attributes / arguments.\n",
    "        \n",
    "#data initialization\n",
    "        self.name          = name\n",
    "        self.last_name     = last_name\n",
    "        self.city          = city\n",
    "        self.user_id       = user_id\n",
    "        self.password      = password\n",
    "        self.phone         = phone\n",
    "        \n",
    "    def login(self):  #Method\n",
    "        \n",
    "        while True:\n",
    "            signin   = input(\" Email - \")\n",
    "            password = input(\"Password - \")\n",
    "            if signin == self.user_id and password == self.password:\n",
    "                print(\"Succeesfully logged in\")\n",
    "                break\n",
    "            else:\n",
    "                print(\"User ID or Password is invalid\")\n",
    "                continue"
   ]
  },
  {
   "cell_type": "code",
   "execution_count": 14,
   "id": "6553711c",
   "metadata": {},
   "outputs": [],
   "source": [
    "# # instantiating a class and create a object for the class is an object for the class. Here bank is an object for class Account\n",
    "bank = Account()"
   ]
  },
  {
   "cell_type": "code",
   "execution_count": 15,
   "id": "a551c5cb",
   "metadata": {},
   "outputs": [
    {
     "name": "stdout",
     "output_type": "stream",
     "text": [
      " Email - Anvi.gmail\n",
      "Password - 123456\n",
      "User ID or Password is invalid\n",
      " Email - Anvi\n",
      "Password - 123456\n",
      "Succeesfully logged in\n"
     ]
    }
   ],
   "source": [
    "# Calling methods\n",
    "bank.login()\n",
    "    "
   ]
  },
  {
   "cell_type": "markdown",
   "id": "0a397d6b",
   "metadata": {},
   "source": [
    "### 2. Inheritance\n",
    "\n",
    "        Once a class is defined it models a concept. it is useful to extend a class behavior to model a less general concept. Say we need to copy properties of old account and add new property or attribute and create new version of account. \n",
    "        "
   ]
  },
  {
   "cell_type": "code",
   "execution_count": 18,
   "id": "ca0f1d61",
   "metadata": {},
   "outputs": [],
   "source": [
    "class User_Account(Account):\n",
    "    \n",
    "    def __init__ (self,acc_number,balance,  *args):\n",
    "        super(User_Account, self).__init__(  *args)\n",
    "        self.acc_number = acc_number\n",
    "        self.balance    =balance\n",
    "        \n",
    "    def user_details(self):\n",
    "        while True:\n",
    "            account = int(input(\"Enter your account number = \"))   #You can add logic to check acc_num is int or not\n",
    "            if account == self.acc_number:\n",
    "                print(\"Name = \",self.name)\n",
    "                print(\"Acc_number = \",self.acc_number)\n",
    "                print(\"Your balance = \",self.balance)\n",
    "                \n",
    "                break\n",
    "            else:\n",
    "                print(\"Accont number is not valid\")\n",
    "                continue\n",
    "                \n",
    "    def deposit(self):\n",
    "        print(\"Your previous balance = \",self.balance)\n",
    "        add_cash = int(input('Deposit cash = '))\n",
    "        self.balance == add_cash\n",
    "        print(\" \\n HDFC Bank: Rs \",add_cash,\" deposited to your account \",self.acc_number,\n",
    "              \" and Your current balance is \",self.balance,\" \\n\")\n",
    "    def transfer(self):\n",
    "        print(\"Your previous balance is  \",self.balance)\n",
    "        \n",
    "        withdraw = int(input(\"How much you want to transfer =  \"))\n",
    "        if withdraw <= self.balance:\n",
    "            self.balance == withdraw\n",
    "            print(\"\\n HDFC Bank: Rs \",withdraw,\" Withdraw from your account \",self.acc_number,\n",
    "                 \"and Your current Balance is \",self.balance)\n",
    "        else:\n",
    "            print(\"\\n Alert: Dear custumer , You don have sufficient fund\")\n",
    "        "
   ]
  },
  {
   "cell_type": "code",
   "execution_count": 22,
   "id": "2680f0a0",
   "metadata": {},
   "outputs": [],
   "source": [
    "bank_details = User_Account(666666,500000000)"
   ]
  },
  {
   "cell_type": "code",
   "execution_count": 20,
   "id": "0ce99506",
   "metadata": {},
   "outputs": [
    {
     "name": "stdout",
     "output_type": "stream",
     "text": [
      " Email - Anvi\n",
      "Password - 123456\n",
      "Succeesfully logged in\n"
     ]
    }
   ],
   "source": [
    "#You can connect to new object for login\n",
    "bank_details.login()"
   ]
  },
  {
   "cell_type": "code",
   "execution_count": 23,
   "id": "9cd14026",
   "metadata": {},
   "outputs": [
    {
     "name": "stdout",
     "output_type": "stream",
     "text": [
      "Enter your account number = 666666\n",
      "Name =  Mausami\n",
      "Acc_number =  666666\n",
      "Your balance =  500000000\n"
     ]
    }
   ],
   "source": [
    "bank_details.user_details()"
   ]
  },
  {
   "cell_type": "code",
   "execution_count": 25,
   "id": "2f8b52c8",
   "metadata": {},
   "outputs": [
    {
     "name": "stdout",
     "output_type": "stream",
     "text": [
      "Your previous balance =  500000000\n",
      "Deposit cash = 2000000000000\n",
      " \n",
      " HDFC Bank: Rs  2000000000000  deposited to your account  666666  and Your current balance is  500000000  \n",
      "\n"
     ]
    }
   ],
   "source": [
    "bank_details.deposit()"
   ]
  },
  {
   "cell_type": "code",
   "execution_count": 26,
   "id": "fb7545f3",
   "metadata": {},
   "outputs": [
    {
     "name": "stdout",
     "output_type": "stream",
     "text": [
      "Your previous balance is   500000000\n",
      "How much you want to transfer =  28974562315633\n",
      "\n",
      " Alert: Dear custumer , You don have sufficient fund\n"
     ]
    }
   ],
   "source": [
    "bank_details.transfer()"
   ]
  },
  {
   "cell_type": "code",
   "execution_count": null,
   "id": "4a453b41",
   "metadata": {},
   "outputs": [],
   "source": []
  }
 ],
 "metadata": {
  "kernelspec": {
   "display_name": "Python 3 (ipykernel)",
   "language": "python",
   "name": "python3"
  },
  "language_info": {
   "codemirror_mode": {
    "name": "ipython",
    "version": 3
   },
   "file_extension": ".py",
   "mimetype": "text/x-python",
   "name": "python",
   "nbconvert_exporter": "python",
   "pygments_lexer": "ipython3",
   "version": "3.9.12"
  }
 },
 "nbformat": 4,
 "nbformat_minor": 5
}
