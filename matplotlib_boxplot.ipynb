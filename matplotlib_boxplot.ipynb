{
 "cells": [
  {
   "cell_type": "code",
   "execution_count": 1,
   "id": "d871b8b9",
   "metadata": {},
   "outputs": [],
   "source": [
    "import numpy as np\n",
    "import pandas as pd\n",
    "import seaborn as sns\n",
    "import matplotlib.pyplot as plt\n",
    "%matplotlib inline\n",
    "from numpy.random import randn"
   ]
  },
  {
   "cell_type": "code",
   "execution_count": 2,
   "id": "ac7e1341",
   "metadata": {},
   "outputs": [
    {
     "data": {
      "text/html": [
       "<div>\n",
       "<style scoped>\n",
       "    .dataframe tbody tr th:only-of-type {\n",
       "        vertical-align: middle;\n",
       "    }\n",
       "\n",
       "    .dataframe tbody tr th {\n",
       "        vertical-align: top;\n",
       "    }\n",
       "\n",
       "    .dataframe thead th {\n",
       "        text-align: right;\n",
       "    }\n",
       "</style>\n",
       "<table border=\"1\" class=\"dataframe\">\n",
       "  <thead>\n",
       "    <tr style=\"text-align: right;\">\n",
       "      <th></th>\n",
       "      <th>Age_years</th>\n",
       "      <th>salary_Thousands</th>\n",
       "    </tr>\n",
       "  </thead>\n",
       "  <tbody>\n",
       "    <tr>\n",
       "      <th>0</th>\n",
       "      <td>10</td>\n",
       "      <td>15</td>\n",
       "    </tr>\n",
       "    <tr>\n",
       "      <th>1</th>\n",
       "      <td>23</td>\n",
       "      <td>22</td>\n",
       "    </tr>\n",
       "    <tr>\n",
       "      <th>2</th>\n",
       "      <td>22</td>\n",
       "      <td>24</td>\n",
       "    </tr>\n",
       "    <tr>\n",
       "      <th>3</th>\n",
       "      <td>25</td>\n",
       "      <td>25</td>\n",
       "    </tr>\n",
       "    <tr>\n",
       "      <th>4</th>\n",
       "      <td>20</td>\n",
       "      <td>30</td>\n",
       "    </tr>\n",
       "    <tr>\n",
       "      <th>5</th>\n",
       "      <td>23</td>\n",
       "      <td>23</td>\n",
       "    </tr>\n",
       "    <tr>\n",
       "      <th>6</th>\n",
       "      <td>24</td>\n",
       "      <td>34</td>\n",
       "    </tr>\n",
       "    <tr>\n",
       "      <th>7</th>\n",
       "      <td>27</td>\n",
       "      <td>43</td>\n",
       "    </tr>\n",
       "    <tr>\n",
       "      <th>8</th>\n",
       "      <td>25</td>\n",
       "      <td>15</td>\n",
       "    </tr>\n",
       "    <tr>\n",
       "      <th>9</th>\n",
       "      <td>24</td>\n",
       "      <td>41</td>\n",
       "    </tr>\n",
       "    <tr>\n",
       "      <th>10</th>\n",
       "      <td>33</td>\n",
       "      <td>23</td>\n",
       "    </tr>\n",
       "    <tr>\n",
       "      <th>11</th>\n",
       "      <td>21</td>\n",
       "      <td>56</td>\n",
       "    </tr>\n",
       "  </tbody>\n",
       "</table>\n",
       "</div>"
      ],
      "text/plain": [
       "    Age_years  salary_Thousands\n",
       "0          10                15\n",
       "1          23                22\n",
       "2          22                24\n",
       "3          25                25\n",
       "4          20                30\n",
       "5          23                23\n",
       "6          24                34\n",
       "7          27                43\n",
       "8          25                15\n",
       "9          24                41\n",
       "10         33                23\n",
       "11         21                56"
      ]
     },
     "execution_count": 2,
     "metadata": {},
     "output_type": "execute_result"
    }
   ],
   "source": [
    "emp= {'Age_years':[10,23,22,25,20,23,24,27,25,24,33,21],'salary_Thousands':[15,22,24,25,30,23,34,43,15,41,23,56]}\n",
    "\n",
    "df = pd.DataFrame(data= emp)\n",
    "df"
   ]
  },
  {
   "cell_type": "code",
   "execution_count": 3,
   "id": "8d6b837c",
   "metadata": {},
   "outputs": [
    {
     "data": {
      "image/png": "[encoded data removed]",
      "text/plain": [
       "<Figure size 360x432 with 1 Axes>"
      ]
     },
     "metadata": {
      "needs_background": "light"
     },
     "output_type": "display_data"
    }
   ],
   "source": [
    "# Boxplot\n",
    "\n",
    "plt.figure(figsize =(5,6))\n",
    "\n",
    "ax = sns.boxplot(data =df)\n",
    "\n",
    "plt.yticks(range(5,60,5))      #range on y axis\n",
    "\n",
    "plt.xlabel('Age and salary')\n",
    "\n",
    "plt.show()"
   ]
  },
  {
   "cell_type": "markdown",
   "id": "d0e68dde",
   "metadata": {},
   "source": [
    "Seaborn version will keep changing.if code doesnot work, please refer official documentation.\n",
    "\n",
    "\n",
    "- https://seaborn.pydata.org/"
   ]
  },
  {
   "cell_type": "markdown",
   "id": "67e01e1d",
   "metadata": {},
   "source": [
    "#### Another way"
   ]
  },
  {
   "cell_type": "code",
   "execution_count": 4,
   "id": "8c8c9d78",
   "metadata": {},
   "outputs": [
    {
     "data": {
      "text/plain": [
       "<AxesSubplot:>"
      ]
     },
     "execution_count": 4,
     "metadata": {},
     "output_type": "execute_result"
    },
    {
     "data": {
      "image/png": "[encoded data removed]",
      "text/plain": [
       "<Figure size 576x360 with 1 Axes>"
      ]
     },
     "metadata": {
      "needs_background": "light"
     },
     "output_type": "display_data"
    }
   ],
   "source": [
    "df.plot(kind = 'box',figsize = (8,5),color = 'r',yticks = range (0,55,5))"
   ]
  },
  {
   "cell_type": "code",
   "execution_count": 5,
   "id": "c9f04646",
   "metadata": {},
   "outputs": [
    {
     "data": {
      "text/plain": [
       "[15, 15, 22, 23, 23, 24, 25, 30, 34, 41, 43, 56]"
      ]
     },
     "execution_count": 5,
     "metadata": {},
     "output_type": "execute_result"
    }
   ],
   "source": [
    "sal = [15,22,24,25,30,23,34,43,15,41,23,56]\n",
    "sal.sort()\n",
    "sal"
   ]
  },
  {
   "cell_type": "markdown",
   "id": "14dd63c7",
   "metadata": {},
   "source": [
    "Please see below example.\n",
    "\n",
    "[15, 15, 22, 23, 23, 24, 25, 30, 34, 41, 43, 56]\n",
    "\n",
    "n = total elements in the above example(12 items)\n",
    "\n",
    "25% = (25/100) * (n+1) = 3.25 (data at 3.25 position is the 25% percentile.Let's say around 20.50)\n",
    "\n",
    "50% = (50/100) * (n+1) = 6.5 (data at this position)\n",
    "\n",
    "75% = (75/100) * (n+1) = 9.75 (data at this position)"
   ]
  },
  {
   "cell_type": "markdown",
   "id": "c3257e3f",
   "metadata": {},
   "source": [
    "## Outliers"
   ]
  },
  {
   "cell_type": "code",
   "execution_count": 6,
   "id": "c216054e",
   "metadata": {},
   "outputs": [],
   "source": [
    "import pandas as pd\n",
    "\n",
    "ser = pd.Series(sal)"
   ]
  },
  {
   "cell_type": "code",
   "execution_count": 7,
   "id": "6cdc95e4",
   "metadata": {},
   "outputs": [
    {
     "data": {
      "text/plain": [
       "0     15\n",
       "1     15\n",
       "2     22\n",
       "3     23\n",
       "4     23\n",
       "5     24\n",
       "6     25\n",
       "7     30\n",
       "8     34\n",
       "9     41\n",
       "10    43\n",
       "11    56\n",
       "dtype: int64"
      ]
     },
     "execution_count": 7,
     "metadata": {},
     "output_type": "execute_result"
    }
   ],
   "source": [
    "ser"
   ]
  },
  {
   "cell_type": "code",
   "execution_count": 8,
   "id": "661a29e9",
   "metadata": {},
   "outputs": [
    {
     "name": "stdout",
     "output_type": "stream",
     "text": [
      "Q1 22.75\n",
      "Q3 35.75\n",
      "IQR 13.0\n"
     ]
    }
   ],
   "source": [
    "# 1st quantile\n",
    "\n",
    "q1 = ser.quantile(0.25)\n",
    "print ('Q1',q1)\n",
    "\n",
    "# 3rd quantile\n",
    "\n",
    "q3 = ser.quantile(0.75)\n",
    "\n",
    "print ('Q3',q3)\n",
    "\n",
    "# Find the IQR (inter quantile range) to identify outliers\n",
    "\n",
    "iqr = q3-q1\n",
    "\n",
    "print('IQR',iqr)\n",
    "\n"
   ]
  },
  {
   "cell_type": "markdown",
   "id": "78df32a1",
   "metadata": {},
   "source": [
    "## Outlier detection formula\n",
    "\n",
    "#### higher side ==> Q3 +(1.5* IQR)\n",
    "\n",
    "#### lower side ==> Q1 -(1.5 * IQR)"
   ]
  },
  {
   "cell_type": "code",
   "execution_count": 9,
   "id": "957250ce",
   "metadata": {},
   "outputs": [
    {
     "name": "stdout",
     "output_type": "stream",
     "text": [
      "55.25\n"
     ]
    }
   ],
   "source": [
    "upside = q3 + (1.5 * iqr)\n",
    "print (upside)"
   ]
  },
  {
   "cell_type": "markdown",
   "id": "95fd714a",
   "metadata": {},
   "source": [
    "Anything above 55.25 is outlier"
   ]
  },
  {
   "cell_type": "code",
   "execution_count": 11,
   "id": "fb5e6cc0",
   "metadata": {},
   "outputs": [
    {
     "name": "stdout",
     "output_type": "stream",
     "text": [
      "3.25\n"
     ]
    }
   ],
   "source": [
    "lower_side = q1 - (1.5 * iqr)\n",
    "print(lower_side)"
   ]
  },
  {
   "cell_type": "markdown",
   "id": "110d1287",
   "metadata": {},
   "source": [
    "Anything below 3.25 is outlier"
   ]
  },
  {
   "cell_type": "code",
   "execution_count": null,
   "id": "8fe26800",
   "metadata": {},
   "outputs": [],
   "source": []
  }
 ],
 "metadata": {
  "kernelspec": {
   "display_name": "Python 3 (ipykernel)",
   "language": "python",
   "name": "python3"
  },
  "language_info": {
   "codemirror_mode": {
    "name": "ipython",
    "version": 3
   },
   "file_extension": ".py",
   "mimetype": "text/x-python",
   "name": "python",
   "nbconvert_exporter": "python",
   "pygments_lexer": "ipython3",
   "version": "3.9.12"
  }
 },
 "nbformat": 4,
 "nbformat_minor": 5
}
