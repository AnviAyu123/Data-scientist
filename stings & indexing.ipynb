{
 "cells": [
  {
   "cell_type": "code",
   "execution_count": 1,
   "id": "f06dc0de",
   "metadata": {},
   "outputs": [
    {
     "name": "stdout",
     "output_type": "stream",
     "text": [
      "This Batch Rocks\n"
     ]
    }
   ],
   "source": [
    "s='This Batch Rocks'\n",
    "print(s)"
   ]
  },
  {
   "cell_type": "code",
   "execution_count": 2,
   "id": "88fc0eda",
   "metadata": {},
   "outputs": [
    {
     "data": {
      "text/plain": [
       "'his Batch Rocks'"
      ]
     },
     "execution_count": 2,
     "metadata": {},
     "output_type": "execute_result"
    }
   ],
   "source": [
    "s[1:]"
   ]
  },
  {
   "cell_type": "code",
   "execution_count": 10,
   "id": "dcc98ac8",
   "metadata": {},
   "outputs": [
    {
     "data": {
      "text/plain": [
       "'s Bat'"
      ]
     },
     "execution_count": 10,
     "metadata": {},
     "output_type": "execute_result"
    }
   ],
   "source": [
    "s[3:8]"
   ]
  },
  {
   "cell_type": "code",
   "execution_count": 4,
   "id": "2286d6c9",
   "metadata": {},
   "outputs": [
    {
     "data": {
      "text/plain": [
       "'s'"
      ]
     },
     "execution_count": 4,
     "metadata": {},
     "output_type": "execute_result"
    }
   ],
   "source": [
    "s[-1:]"
   ]
  },
  {
   "cell_type": "code",
   "execution_count": 5,
   "id": "2187542a",
   "metadata": {},
   "outputs": [
    {
     "data": {
      "text/plain": [
       "' Rocks'"
      ]
     },
     "execution_count": 5,
     "metadata": {},
     "output_type": "execute_result"
    }
   ],
   "source": [
    "s[-6:]"
   ]
  },
  {
   "cell_type": "code",
   "execution_count": 6,
   "id": "fd22a5d7",
   "metadata": {},
   "outputs": [
    {
     "data": {
      "text/plain": [
       "'This Batch'"
      ]
     },
     "execution_count": 6,
     "metadata": {},
     "output_type": "execute_result"
    }
   ],
   "source": [
    "s[:-6]"
   ]
  },
  {
   "cell_type": "code",
   "execution_count": 7,
   "id": "b2ef5219",
   "metadata": {},
   "outputs": [
    {
     "data": {
      "text/plain": [
       "'shs'"
      ]
     },
     "execution_count": 7,
     "metadata": {},
     "output_type": "execute_result"
    }
   ],
   "source": [
    "s[::-6]"
   ]
  },
  {
   "cell_type": "code",
   "execution_count": 8,
   "id": "c6f45b11",
   "metadata": {},
   "outputs": [
    {
     "data": {
      "text/plain": [
       "'Ti ac ok'"
      ]
     },
     "execution_count": 8,
     "metadata": {},
     "output_type": "execute_result"
    }
   ],
   "source": [
    "s[::2]"
   ]
  },
  {
   "cell_type": "code",
   "execution_count": 9,
   "id": "e2b3845f",
   "metadata": {},
   "outputs": [
    {
     "data": {
      "text/plain": [
       "'scRhtBsh'"
      ]
     },
     "execution_count": 9,
     "metadata": {},
     "output_type": "execute_result"
    }
   ],
   "source": [
    "s[::-2]"
   ]
  },
  {
   "cell_type": "markdown",
   "id": "735339eb",
   "metadata": {},
   "source": [
    "# Map()"
   ]
  },
  {
   "cell_type": "code",
   "execution_count": 13,
   "id": "b00ac443",
   "metadata": {},
   "outputs": [
    {
     "name": "stdout",
     "output_type": "stream",
     "text": [
      "[50, 30, 35, 60, 35, 35, 60, 35]\n"
     ]
    }
   ],
   "source": [
    "def grace_marks(marks):\n",
    "    if marks == 33:\n",
    "        return (marks+2)\n",
    "    elif marks == 34:\n",
    "        return(marks+1)\n",
    "    else:\n",
    "        return marks\n",
    "score = [50,30,35,60,33,34,60,33]\n",
    "total = list(map(grace_marks,score))\n",
    "print (total)"
   ]
  },
  {
   "cell_type": "code",
   "execution_count": 15,
   "id": "7a06cf8e",
   "metadata": {},
   "outputs": [
    {
     "data": {
      "text/plain": [
       "4"
      ]
     },
     "execution_count": 15,
     "metadata": {},
     "output_type": "execute_result"
    }
   ],
   "source": [
    "total.count(35)"
   ]
  },
  {
   "cell_type": "code",
   "execution_count": 16,
   "id": "6e7c1cfb",
   "metadata": {},
   "outputs": [],
   "source": [
    "def filter_marks(marks):\n",
    "    if marks<35:\n",
    "        return marks"
   ]
  },
  {
   "cell_type": "code",
   "execution_count": 17,
   "id": "970d18cb",
   "metadata": {},
   "outputs": [],
   "source": [
    "score = [50,30,35,60,33,34,60,33]"
   ]
  },
  {
   "cell_type": "code",
   "execution_count": 18,
   "id": "e96d4197",
   "metadata": {},
   "outputs": [
    {
     "data": {
      "text/plain": [
       "[30, 33, 34, 33]"
      ]
     },
     "execution_count": 18,
     "metadata": {},
     "output_type": "execute_result"
    }
   ],
   "source": [
    "failed = list(filter(filter_marks,score))\n",
    "failed"
   ]
  },
  {
   "cell_type": "code",
   "execution_count": 19,
   "id": "54cfccc4",
   "metadata": {},
   "outputs": [
    {
     "data": {
      "text/plain": [
       "[False, True, False]"
      ]
     },
     "execution_count": 19,
     "metadata": {},
     "output_type": "execute_result"
    }
   ],
   "source": [
    "list(map(lambda var: var%2 == 0, [1,2,3]))"
   ]
  },
  {
   "cell_type": "code",
   "execution_count": 20,
   "id": "c927e377",
   "metadata": {},
   "outputs": [
    {
     "data": {
      "text/plain": [
       "[2]"
      ]
     },
     "execution_count": 20,
     "metadata": {},
     "output_type": "execute_result"
    }
   ],
   "source": [
    "list(filter(lambda var: var%2 == 0, [1,2,3]))"
   ]
  },
  {
   "cell_type": "code",
   "execution_count": null,
   "id": "c38fab45",
   "metadata": {},
   "outputs": [],
   "source": [
    "extra_marks = 10\n",
    "\n",
    "def tot_score_glob():"
   ]
  }
 ],
 "metadata": {
  "kernelspec": {
   "display_name": "Python 3 (ipykernel)",
   "language": "python",
   "name": "python3"
  },
  "language_info": {
   "codemirror_mode": {
    "name": "ipython",
    "version": 3
   },
   "file_extension": ".py",
   "mimetype": "text/x-python",
   "name": "python",
   "nbconvert_exporter": "python",
   "pygments_lexer": "ipython3",
   "version": "3.9.12"
  }
 },
 "nbformat": 4,
 "nbformat_minor": 5
}
