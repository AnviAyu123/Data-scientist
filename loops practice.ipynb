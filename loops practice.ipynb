{
 "cells": [
  {
   "cell_type": "code",
   "execution_count": 1,
   "id": "29fa180b",
   "metadata": {},
   "outputs": [
    {
     "name": "stdout",
     "output_type": "stream",
     "text": [
      "time.struct_time(tm_year=2022, tm_mon=10, tm_mday=15, tm_hour=11, tm_min=56, tm_sec=12, tm_wday=5, tm_yday=288, tm_isdst=0)\n"
     ]
    }
   ],
   "source": [
    "import time\n",
    "result = time.localtime()\n",
    "print(result)"
   ]
  },
  {
   "cell_type": "code",
   "execution_count": 13,
   "id": "54dd7183",
   "metadata": {},
   "outputs": [
    {
     "name": "stdout",
     "output_type": "stream",
     "text": [
      "location\n"
     ]
    }
   ],
   "source": [
    "location = ['mumbai','patna','shimla','guwahati']\n",
    "print('location')"
   ]
  },
  {
   "cell_type": "code",
   "execution_count": 15,
   "id": "b15e2feb",
   "metadata": {},
   "outputs": [
    {
     "name": "stdout",
     "output_type": "stream",
     "text": [
      "['mumbai', 'patna', 'shimla', 'guwahati']\n"
     ]
    }
   ],
   "source": [
    "print(location)"
   ]
  },
  {
   "cell_type": "code",
   "execution_count": 16,
   "id": "391371f6",
   "metadata": {},
   "outputs": [
    {
     "name": "stdout",
     "output_type": "stream",
     "text": [
      "city\n"
     ]
    }
   ],
   "source": [
    "location = ['mumbai','patna','shimla','guwahati']\n",
    "print('city')\n"
   ]
  },
  {
   "cell_type": "code",
   "execution_count": 17,
   "id": "54b6c781",
   "metadata": {
    "scrolled": false
   },
   "outputs": [
    {
     "name": "stdout",
     "output_type": "stream",
     "text": [
      "location\n",
      "location\n",
      "location\n",
      "location\n"
     ]
    }
   ],
   "source": [
    "location = ['mumbai','patna','shimla','guwahati']\n",
    "for city in location:\n",
    "    print('location')"
   ]
  },
  {
   "cell_type": "code",
   "execution_count": 18,
   "id": "1bf939e3",
   "metadata": {},
   "outputs": [
    {
     "name": "stdout",
     "output_type": "stream",
     "text": [
      "mumbai\n",
      "patna\n",
      "shimla\n",
      "guwahati\n"
     ]
    }
   ],
   "source": [
    "location = ['mumbai','patna','shimla','guwahati']\n",
    "for city in location:\n",
    "    print(city)"
   ]
  },
  {
   "cell_type": "code",
   "execution_count": 21,
   "id": "2633dc6c",
   "metadata": {},
   "outputs": [
    {
     "name": "stdout",
     "output_type": "stream",
     "text": [
      "6000\n",
      "7000\n"
     ]
    }
   ],
   "source": [
    "salary = [2000,4000,3000,6000,7000]\n",
    "for value in salary:\n",
    "    if value > 5000:\n",
    "        print(value)"
   ]
  },
  {
   "cell_type": "code",
   "execution_count": 1,
   "id": "5f6c3401",
   "metadata": {
    "scrolled": true
   },
   "outputs": [
    {
     "name": "stdout",
     "output_type": "stream",
     "text": [
      "multiplication table for -  2\n",
      "2\n",
      "4\n",
      "6\n",
      "8\n",
      "10\n",
      "12\n",
      "14\n",
      "16\n",
      "18\n",
      "20\n",
      "/n\n",
      "multiplication table for -  3\n",
      "3\n",
      "6\n",
      "9\n",
      "12\n",
      "15\n",
      "18\n",
      "21\n",
      "24\n",
      "27\n",
      "30\n",
      "/n\n",
      "multiplication table for -  4\n",
      "4\n",
      "8\n",
      "12\n",
      "16\n",
      "20\n",
      "24\n",
      "28\n",
      "32\n",
      "36\n",
      "40\n",
      "/n\n",
      "******************************\n",
      "end of multiplication table\n",
      "******************************\n"
     ]
    }
   ],
   "source": [
    "for num in range(2,5):\n",
    "    print ('multiplication table for - ',num) \n",
    "    for i in range(1,11):\n",
    "        print (num *i)\n",
    "        if i == 10:\n",
    "            print('/n')\n",
    "else:\n",
    "    print('*' * 30)\n",
    "    print('end of multiplication table')\n",
    "    print('*' * 30)"
   ]
  },
  {
   "cell_type": "code",
   "execution_count": null,
   "id": "236fa7d7",
   "metadata": {},
   "outputs": [],
   "source": []
  },
  {
   "cell_type": "code",
   "execution_count": 2,
   "id": "fa982161",
   "metadata": {
    "scrolled": true
   },
   "outputs": [
    {
     "name": "stdout",
     "output_type": "stream",
     "text": [
      "multiplication table for -  2\n",
      "2\n",
      "4\n",
      "6\n",
      "8\n",
      "10\n",
      "12\n",
      "14\n",
      "16\n",
      "18\n",
      "20\n",
      "/n\n",
      "multiplication table for -  3\n",
      "3\n",
      "6\n",
      "9\n",
      "12\n",
      "15\n",
      "18\n",
      "21\n",
      "24\n",
      "27\n",
      "30\n",
      "/n\n",
      "multiplication table for -  4\n",
      "4\n",
      "8\n",
      "12\n",
      "16\n",
      "20\n",
      "24\n",
      "28\n",
      "32\n",
      "36\n",
      "40\n",
      "/n\n",
      "multiplication table for -  5\n",
      "5\n",
      "10\n",
      "15\n",
      "20\n",
      "25\n",
      "30\n",
      "35\n",
      "40\n",
      "45\n",
      "50\n",
      "/n\n",
      "multiplication table for -  6\n",
      "6\n",
      "12\n",
      "18\n",
      "24\n",
      "30\n",
      "36\n",
      "42\n",
      "48\n",
      "54\n",
      "60\n",
      "/n\n",
      "multiplication table for -  7\n",
      "7\n",
      "14\n",
      "21\n",
      "28\n",
      "35\n",
      "42\n",
      "49\n",
      "56\n",
      "63\n",
      "70\n",
      "/n\n",
      "multiplication table for -  8\n",
      "8\n",
      "16\n",
      "24\n",
      "32\n",
      "40\n",
      "48\n",
      "56\n",
      "64\n",
      "72\n",
      "80\n",
      "/n\n",
      "multiplication table for -  9\n",
      "9\n",
      "18\n",
      "27\n",
      "36\n",
      "45\n",
      "54\n",
      "63\n",
      "72\n",
      "81\n",
      "90\n",
      "/n\n",
      "multiplication table for -  10\n",
      "10\n",
      "20\n",
      "30\n",
      "40\n",
      "50\n",
      "60\n",
      "70\n",
      "80\n",
      "90\n",
      "100\n",
      "/n\n",
      "multiplication table for -  11\n",
      "11\n",
      "22\n",
      "33\n",
      "44\n",
      "55\n",
      "66\n",
      "77\n",
      "88\n",
      "99\n",
      "110\n",
      "/n\n",
      "multiplication table for -  12\n",
      "12\n",
      "24\n",
      "36\n",
      "48\n",
      "60\n",
      "72\n",
      "84\n",
      "96\n",
      "108\n",
      "120\n",
      "/n\n",
      "multiplication table for -  13\n",
      "13\n",
      "26\n",
      "39\n",
      "52\n",
      "65\n",
      "78\n",
      "91\n",
      "104\n",
      "117\n",
      "130\n",
      "/n\n",
      "multiplication table for -  14\n",
      "14\n",
      "28\n",
      "42\n",
      "56\n",
      "70\n",
      "84\n",
      "98\n",
      "112\n",
      "126\n",
      "140\n",
      "/n\n",
      "multiplication table for -  15\n",
      "15\n",
      "30\n",
      "45\n",
      "60\n",
      "75\n",
      "90\n",
      "105\n",
      "120\n",
      "135\n",
      "150\n",
      "/n\n",
      "multiplication table for -  16\n",
      "16\n",
      "32\n",
      "48\n",
      "64\n",
      "80\n",
      "96\n",
      "112\n",
      "128\n",
      "144\n",
      "160\n",
      "/n\n",
      "multiplication table for -  17\n",
      "17\n",
      "34\n",
      "51\n",
      "68\n",
      "85\n",
      "102\n",
      "119\n",
      "136\n",
      "153\n",
      "170\n",
      "/n\n",
      "multiplication table for -  18\n",
      "18\n",
      "36\n",
      "54\n",
      "72\n",
      "90\n",
      "108\n",
      "126\n",
      "144\n",
      "162\n",
      "180\n",
      "/n\n",
      "multiplication table for -  19\n",
      "19\n",
      "38\n",
      "57\n",
      "76\n",
      "95\n",
      "114\n",
      "133\n",
      "152\n",
      "171\n",
      "190\n",
      "/n\n",
      "multiplication table for -  20\n",
      "20\n",
      "40\n",
      "60\n",
      "80\n",
      "100\n",
      "120\n",
      "140\n",
      "160\n",
      "180\n",
      "200\n",
      "/n\n",
      "******************************\n",
      "end of multiplication table\n",
      "******************************\n"
     ]
    }
   ],
   "source": [
    "for num in range(2,21):\n",
    "    print ('multiplication table for - ',num) \n",
    "    for i in range(1,11):\n",
    "        print (num *i)\n",
    "        if i == 10:\n",
    "            print('/n')\n",
    "else:\n",
    "    print('*' * 30)\n",
    "    print('end of multiplication table')\n",
    "    print('*' * 30)"
   ]
  },
  {
   "cell_type": "code",
   "execution_count": null,
   "id": "65cd122b",
   "metadata": {},
   "outputs": [],
   "source": []
  }
 ],
 "metadata": {
  "kernelspec": {
   "display_name": "Python 3 (ipykernel)",
   "language": "python",
   "name": "python3"
  },
  "language_info": {
   "codemirror_mode": {
    "name": "ipython",
    "version": 3
   },
   "file_extension": ".py",
   "mimetype": "text/x-python",
   "name": "python",
   "nbconvert_exporter": "python",
   "pygments_lexer": "ipython3",
   "version": "3.9.12"
  }
 },
 "nbformat": 4,
 "nbformat_minor": 5
}
